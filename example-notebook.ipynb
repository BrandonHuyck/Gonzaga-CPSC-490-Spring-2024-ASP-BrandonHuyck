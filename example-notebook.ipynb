{
 "cells": [
  {
   "cell_type": "markdown",
   "metadata": {},
   "source": [
    "The following \"bypasses\" python and creates a text file test.dlv when the cell is run."
   ]
  },
  {
   "cell_type": "code",
   "execution_count": 1,
   "metadata": {},
   "outputs": [
    {
     "name": "stdout",
     "output_type": "stream",
     "text": [
      "Writing test.dlv\n"
     ]
    }
   ],
   "source": [
    "%%file test.dlv\n",
    "mother(marjorie, bart).\n",
    "mother(marjorie, lisa).\n",
    "mother(mona, homer).\n",
    "father(homer, bart).\n",
    "father(homer, lisa).\n",
    "\n",
    "parent(X, Y) :- mother(X, Y).\n",
    "parent(X, Y) :- father(X, Y). \n",
    "grandparent(X, Z) :- parent(X, Y), parent(Y, Z)."
   ]
  },
  {
   "cell_type": "markdown",
   "metadata": {},
   "source": [
    "The following \"bypasses\" python and runs the command line program cat to display the contents of the test.dlv file."
   ]
  },
  {
   "cell_type": "code",
   "execution_count": 2,
   "metadata": {},
   "outputs": [
    {
     "name": "stdout",
     "output_type": "stream",
     "text": [
      "mother(marjorie, bart).\r\n",
      "mother(marjorie, lisa).\r\n",
      "mother(mona, homer).\r\n",
      "father(homer, bart).\r\n",
      "father(homer, lisa).\r\n",
      "\r\n",
      "parent(X, Y) :- mother(X, Y).\r\n",
      "parent(X, Y) :- father(X, Y). \r\n",
      "grandparent(X, Z) :- parent(X, Y), parent(Y, Z).\r\n"
     ]
    }
   ],
   "source": [
    "!cat test.dlv"
   ]
  },
  {
   "cell_type": "code",
   "execution_count": 3,
   "metadata": {},
   "outputs": [
    {
     "name": "stdout",
     "output_type": "stream",
     "text": [
      "/home/bhuyck/Documents/School/8_SPRING_2024/answer-set-programming-490/Gonzaga-CPSC-490-Spring-2024-ASP-BrandonHuyck\n",
      "test.dlv\n"
     ]
    }
   ],
   "source": [
    "!pwd\n",
    "!ls | grep test.dlv"
   ]
  },
  {
   "cell_type": "markdown",
   "metadata": {},
   "source": [
    "We can run clingo on the test.dlv file using the following command. "
   ]
  },
  {
   "cell_type": "code",
   "execution_count": 4,
   "metadata": {},
   "outputs": [
    {
     "name": "stdout",
     "output_type": "stream",
     "text": [
      "clingo version 5.4.0\r\n",
      "Reading from test.dlv\r\n",
      "Solving...\r\n",
      "Answer: 1\r\n",
      "mother(marjorie,bart) mother(marjorie,lisa) mother(mona,homer) parent(marjorie,bart) parent(marjorie,lisa) parent(mona,homer) parent(homer,bart) parent(homer,lisa) father(homer,bart) father(homer,lisa) grandparent(mona,bart) grandparent(mona,lisa)\r\n",
      "SATISFIABLE\r\n",
      "\r\n",
      "Models       : 1\r\n",
      "Calls        : 1\r\n",
      "Time         : 0.001s (Solving: 0.00s 1st Model: 0.00s Unsat: 0.00s)\r\n",
      "CPU Time     : 0.001s\r\n"
     ]
    }
   ],
   "source": [
    "!clingo test.dlv"
   ]
  },
  {
   "cell_type": "code",
   "execution_count": null,
   "metadata": {},
   "outputs": [],
   "source": []
  }
 ],
 "metadata": {
  "kernelspec": {
   "display_name": "Python 3 (ipykernel)",
   "language": "python",
   "name": "python3"
  },
  "language_info": {
   "codemirror_mode": {
    "name": "ipython",
    "version": 3
   },
   "file_extension": ".py",
   "mimetype": "text/x-python",
   "name": "python",
   "nbconvert_exporter": "python",
   "pygments_lexer": "ipython3",
   "version": "3.8.10"
  }
 },
 "nbformat": 4,
 "nbformat_minor": 5
}
