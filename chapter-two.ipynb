{
 "cells": [
  {
   "cell_type": "markdown",
   "metadata": {},
   "source": [
    "# Chapter 2"
   ]
  },
  {
   "cell_type": "markdown",
   "metadata": {},
   "source": [
    "### Introduction"
   ]
  },
  {
   "cell_type": "markdown",
   "metadata": {},
   "source": [
    "**Exercise 2.1**"
   ]
  },
  {
   "cell_type": "code",
   "execution_count": 47,
   "metadata": {},
   "outputs": [
    {
     "name": "stdout",
     "output_type": "stream",
     "text": [
      "Overwriting ex-2-1.dlv\n"
     ]
    }
   ],
   "source": [
    "%%file ex-2-1.dlv\n",
    "size(uk, 64).\n",
    "size(france, 65).\n",
    "size(germany, 83).\n",
    "size(italy, 61).\n",
    "\n",
    "large(C) :- size(C, S1), size(uk, S2), S1 > S2.\n",
    "    \n",
    "size(russia, 142)."
   ]
  },
  {
   "cell_type": "code",
   "execution_count": 48,
   "metadata": {
    "scrolled": true
   },
   "outputs": [
    {
     "name": "stdout",
     "output_type": "stream",
     "text": [
      "clingo version 5.4.0\r\n",
      "Reading from ex-2-1.dlv\r\n",
      "Solving...\r\n",
      "Answer: 1\r\n",
      "size(uk,64) size(france,65) size(germany,83) size(italy,61) size(russia,142) large(france) large(germany) large(russia)\r\n",
      "SATISFIABLE\r\n",
      "\r\n",
      "Models       : 1\r\n",
      "Calls        : 1\r\n",
      "Time         : 0.001s (Solving: 0.00s 1st Model: 0.00s Unsat: 0.00s)\r\n",
      "CPU Time     : 0.001s\r\n"
     ]
    }
   ],
   "source": [
    "!clingo ex-2-1.dlv"
   ]
  },
  {
   "cell_type": "code",
   "execution_count": 37,
   "metadata": {},
   "outputs": [
    {
     "name": "stdout",
     "output_type": "stream",
     "text": [
      "Overwriting ex-2-1.dlv\n"
     ]
    }
   ],
   "source": [
    "%%file ex-2-1.dlv\n",
    "size(uk, 64).\n",
    "size(france, 65).\n",
    "size(germany, 83).\n",
    "size(italy, 61).\n",
    "\n",
    "large(C) :- size(C, S1), S1 > 500.\n",
    "    \n",
    "size(russia, 142)."
   ]
  },
  {
   "cell_type": "code",
   "execution_count": 38,
   "metadata": {},
   "outputs": [
    {
     "name": "stdout",
     "output_type": "stream",
     "text": [
      "clingo version 5.4.0\r\n",
      "Reading from ex-2-1.dlv\r\n",
      "Solving...\r\n",
      "Answer: 1\r\n",
      "size(uk,64) size(france,65) size(germany,83) size(italy,61) size(russia,142)\r\n",
      "SATISFIABLE\r\n",
      "\r\n",
      "Models       : 1\r\n",
      "Calls        : 1\r\n",
      "Time         : 0.001s (Solving: 0.00s 1st Model: 0.00s Unsat: 0.00s)\r\n",
      "CPU Time     : 0.001s\r\n"
     ]
    }
   ],
   "source": [
    "!clingo ex-2-1.dlv"
   ]
  },
  {
   "cell_type": "markdown",
   "metadata": {},
   "source": [
    "**Exercise 2.2**"
   ]
  },
  {
   "cell_type": "markdown",
   "metadata": {},
   "source": [
    "`child(X,Y) :- parent(Y,X).` translates to \"X is a child of Y *if* Y is a parent of X\""
   ]
  },
  {
   "cell_type": "markdown",
   "metadata": {},
   "source": [
    "Given the rules `parent(ann,bob). parent(bob,carol). parent(bob,dan).`, the stable model will be as follows:\n",
    " - parent(ann, bob)\n",
    " - parent(bob, carol)\n",
    " - parent(bob, dan)\n",
    " - child(bob, ann)\n",
    " - child(carol, bob)\n",
    " - child(dan, bob)"
   ]
  },
  {
   "cell_type": "markdown",
   "metadata": {},
   "source": [
    "### Section 2.1"
   ]
  },
  {
   "cell_type": "markdown",
   "metadata": {},
   "source": [
    "**Exercise 2.3**"
   ]
  },
  {
   "cell_type": "markdown",
   "metadata": {},
   "source": [
    "(a) Which instance of rule (1.1) justifies including `large(germany)` in the stable model of the program?\n",
    "\n",
    "Answer: `large(germany) :- size(germany, 83), size(uk, 64), 83 > 64`"
   ]
  },
  {
   "cell_type": "markdown",
   "metadata": {},
   "source": [
    "(b) Which instance of rule (2.1) justifies including `child(dan,bob)` in the stable model of program (2.1), (2.2)?\n",
    "\n",
    "Answer: `child(dan, bob) :- parent(bob, dan)`"
   ]
  },
  {
   "cell_type": "markdown",
   "metadata": {},
   "source": [
    "**Exercise 2.4**"
   ]
  },
  {
   "cell_type": "markdown",
   "metadata": {},
   "source": [
    "Which of the following ground rules are instances of rule (1.1), `large(C) :- size(C,S1), size(uk,S2), S1 > S2.`?\n",
    "\n",
    "(a) `large(france) :- size(france,65), size(italy,61), 65 > 61.`\n",
    "\n",
    "(b) `large(italy) :- size(italy,61), size(uk,64), 61 > 64.`\n",
    "\n",
    "(c) `large(italy) :- size(italy,83), size(uk,64), 83 > 64.`\n",
    "\n",
    "(d) `large(7) :- size(7,7), size(uk,7), 7 > 7.`"
   ]
  },
  {
   "cell_type": "markdown",
   "metadata": {},
   "source": [
    "Answer: None of the above"
   ]
  },
  {
   "cell_type": "markdown",
   "metadata": {},
   "source": [
    "**Exercise 2.5**"
   ]
  },
  {
   "cell_type": "markdown",
   "metadata": {},
   "source": [
    "Use pooling to abbreviate line (2.2), `parent(ann,bob). parent(bob,carol). parent(bob,dan).`."
   ]
  },
  {
   "cell_type": "markdown",
   "metadata": {},
   "source": [
    "Answer: `parent(ann, bob; bob, carol; bob, dan).`"
   ]
  },
  {
   "cell_type": "markdown",
   "metadata": {},
   "source": [
    "**Exercise 2.6**"
   ]
  },
  {
   "cell_type": "markdown",
   "metadata": {},
   "source": [
    "If you run clingo on the one-rule program, `p(1,2; 2,4; 4,8; 8,16).`, then what stable model do you think it will produce?"
   ]
  },
  {
   "cell_type": "markdown",
   "metadata": {},
   "source": [
    "Answer: It will produce the stable model consisting of the following:\n",
    " - p(1, 2).\n",
    " - p(2, 4).\n",
    " - p(4, 8).\n",
    " - p(8, 16)."
   ]
  },
  {
   "cell_type": "markdown",
   "metadata": {},
   "source": [
    "### Section 2.3"
   ]
  },
  {
   "cell_type": "markdown",
   "metadata": {},
   "source": [
    "**Exercise 2.7**"
   ]
  },
  {
   "cell_type": "markdown",
   "metadata": {},
   "source": [
    "For each of the given one-rule programs, predict what stable model clingo is going to produce.\n",
    "\n",
    "(a) `p(N,N*N+N+41) :- N+1 = 1..4.`\n",
    "\n",
    "(b) `p(N,N*N+N+41) :- N = -3..3, N >= 0.`"
   ]
  },
  {
   "cell_type": "markdown",
   "metadata": {},
   "source": [
    "Answer:\n",
    "\n",
    "(a) p(0,41) p(1,43) p(2,47) p(3,53) % since N+1 belongs to 1..4, meaning N belongs to 0..3\n",
    "\n",
    "(b) p(0,41) p(1,43) p(2,47) p(3,53) % since N belongs to -3..3, but we add the requirement that N is not negative."
   ]
  },
  {
   "cell_type": "markdown",
   "metadata": {},
   "source": [
    "Checking work..."
   ]
  },
  {
   "cell_type": "code",
   "execution_count": 1,
   "metadata": {
    "scrolled": true
   },
   "outputs": [
    {
     "name": "stdout",
     "output_type": "stream",
     "text": [
      "Writing ex-2-7a.lp\n"
     ]
    }
   ],
   "source": [
    "%%file ex-2-7a.lp\n",
    "p(N,N*N+N+41) :- N+1 = 1..4."
   ]
  },
  {
   "cell_type": "code",
   "execution_count": 2,
   "metadata": {
    "scrolled": true
   },
   "outputs": [
    {
     "name": "stdout",
     "output_type": "stream",
     "text": [
      "clingo version 5.4.0\r\n",
      "Reading from ex-2-7a.lp\r\n",
      "Solving...\r\n",
      "Answer: 1\r\n",
      "p(0,41) p(1,43) p(2,47) p(3,53)\r\n",
      "SATISFIABLE\r\n",
      "\r\n",
      "Models       : 1\r\n",
      "Calls        : 1\r\n",
      "Time         : 0.008s (Solving: 0.00s 1st Model: 0.00s Unsat: 0.00s)\r\n",
      "CPU Time     : 0.002s\r\n"
     ]
    }
   ],
   "source": [
    "!clingo ex-2-7a.lp"
   ]
  },
  {
   "cell_type": "code",
   "execution_count": 3,
   "metadata": {
    "scrolled": true
   },
   "outputs": [
    {
     "name": "stdout",
     "output_type": "stream",
     "text": [
      "Writing ex-2-7b.lp\n"
     ]
    }
   ],
   "source": [
    "%%file ex-2-7b.lp\n",
    "p(N,N*N+N+41) :- N = -3..3, N >= 0."
   ]
  },
  {
   "cell_type": "code",
   "execution_count": 4,
   "metadata": {
    "scrolled": false
   },
   "outputs": [
    {
     "name": "stdout",
     "output_type": "stream",
     "text": [
      "clingo version 5.4.0\r\n",
      "Reading from ex-2-7b.lp\r\n",
      "Solving...\r\n",
      "Answer: 1\r\n",
      "p(0,41) p(1,43) p(2,47) p(3,53)\r\n",
      "SATISFIABLE\r\n",
      "\r\n",
      "Models       : 1\r\n",
      "Calls        : 1\r\n",
      "Time         : 0.001s (Solving: 0.00s 1st Model: 0.00s Unsat: 0.00s)\r\n",
      "CPU Time     : 0.001s\r\n"
     ]
    }
   ],
   "source": [
    "!clingo ex-2-7b.lp"
   ]
  },
  {
   "cell_type": "markdown",
   "metadata": {},
   "source": [
    "**Exercise 2.8**"
   ]
  },
  {
   "cell_type": "markdown",
   "metadata": {},
   "source": [
    "Write a one-rule program that does not contain pooling and has the same stable model as the program from Exercise 2.6, p(1,2; 2,4; 4,8; 8,16)."
   ]
  },
  {
   "cell_type": "code",
   "execution_count": 5,
   "metadata": {
    "scrolled": true
   },
   "outputs": [
    {
     "name": "stdout",
     "output_type": "stream",
     "text": [
      "Writing ex-2-8.lp\n"
     ]
    }
   ],
   "source": [
    "%%file ex-2-8.lp\n",
    "p(2**N, 2**N*2) :- N = 0..3."
   ]
  },
  {
   "cell_type": "code",
   "execution_count": 6,
   "metadata": {
    "scrolled": false
   },
   "outputs": [
    {
     "name": "stdout",
     "output_type": "stream",
     "text": [
      "clingo version 5.4.0\r\n",
      "Reading from ex-2-8.lp\r\n",
      "Solving...\r\n",
      "Answer: 1\r\n",
      "p(1,2) p(2,4) p(4,8) p(8,16)\r\n",
      "SATISFIABLE\r\n",
      "\r\n",
      "Models       : 1\r\n",
      "Calls        : 1\r\n",
      "Time         : 0.001s (Solving: 0.00s 1st Model: 0.00s Unsat: 0.00s)\r\n",
      "CPU Time     : 0.001s\r\n"
     ]
    }
   ],
   "source": [
    "!clingo ex-2-8.lp"
   ]
  },
  {
   "cell_type": "markdown",
   "metadata": {},
   "source": [
    "**Exercise 2.9**"
   ]
  },
  {
   "cell_type": "markdown",
   "metadata": {},
   "source": [
    "For each of the given sets of ground atoms, write a one-rule program that does not contain pooling and has that set as its stable model.\n",
    "\n",
    "\n",
    "(a) p(0,1) p(1,-1) p(2,1) p(3,-1) p(4,1)\n",
    "\n",
    "\n",
    "(b)\n",
    "\n",
    "p(1,1)\n",
    "\n",
    "p(2,1) p(2,2)\n",
    "\n",
    "p(3,1) p(3,2) p(3,3)\n",
    "\n",
    "p(4,1) p(4,2) p(4,3) p(4,4)"
   ]
  },
  {
   "cell_type": "markdown",
   "metadata": {},
   "source": [
    "Answer:\n",
    "\n",
    "(a) `p(N, 1 - 2 * (N \\ 2)) :- N = 0..4.`\n",
    "\n",
    "(b) `p(I,J) :- I=1..4, J=1..I.`"
   ]
  },
  {
   "cell_type": "markdown",
   "metadata": {},
   "source": [
    "Checking work..."
   ]
  },
  {
   "cell_type": "code",
   "execution_count": 13,
   "metadata": {
    "scrolled": false
   },
   "outputs": [
    {
     "name": "stdout",
     "output_type": "stream",
     "text": [
      "Writing ex-2-9a.lp\n"
     ]
    }
   ],
   "source": [
    "%%file ex-2-9a.lp\n",
    "p(N, 1 - 2 * (N \\ 2)) :- N = 0..4."
   ]
  },
  {
   "cell_type": "code",
   "execution_count": 14,
   "metadata": {
    "scrolled": true
   },
   "outputs": [
    {
     "name": "stdout",
     "output_type": "stream",
     "text": [
      "clingo version 5.4.0\r\n",
      "Reading from ex-2-9a.lp\r\n",
      "Solving...\r\n",
      "Answer: 1\r\n",
      "p(0,1) p(1,-1) p(2,1) p(3,-1) p(4,1)\r\n",
      "SATISFIABLE\r\n",
      "\r\n",
      "Models       : 1\r\n",
      "Calls        : 1\r\n",
      "Time         : 0.001s (Solving: 0.00s 1st Model: 0.00s Unsat: 0.00s)\r\n",
      "CPU Time     : 0.001s\r\n"
     ]
    }
   ],
   "source": [
    "!clingo ex-2-9a.lp"
   ]
  },
  {
   "cell_type": "code",
   "execution_count": 15,
   "metadata": {
    "scrolled": false
   },
   "outputs": [
    {
     "name": "stdout",
     "output_type": "stream",
     "text": [
      "Writing ex-2-9b.lp\n"
     ]
    }
   ],
   "source": [
    "%%file ex-2-9b.lp\n",
    "p(I,J) :- I=1..4, J=1..I."
   ]
  },
  {
   "cell_type": "code",
   "execution_count": 16,
   "metadata": {
    "scrolled": false
   },
   "outputs": [
    {
     "name": "stdout",
     "output_type": "stream",
     "text": [
      "clingo version 5.4.0\r\n",
      "Reading from ex-2-9b.lp\r\n",
      "Solving...\r\n",
      "Answer: 1\r\n",
      "p(1,1) p(2,1) p(2,2) p(3,1) p(3,2) p(3,3) p(4,1) p(4,2) p(4,3) p(4,4)\r\n",
      "SATISFIABLE\r\n",
      "\r\n",
      "Models       : 1\r\n",
      "Calls        : 1\r\n",
      "Time         : 0.001s (Solving: 0.00s 1st Model: 0.00s Unsat: 0.00s)\r\n",
      "CPU Time     : 0.001s\r\n"
     ]
    }
   ],
   "source": [
    "!clingo ex-2-9b.lp"
   ]
  },
  {
   "cell_type": "markdown",
   "metadata": {},
   "source": [
    "**Exercise 2.10**"
   ]
  },
  {
   "cell_type": "markdown",
   "metadata": {},
   "source": [
    "Consider the program consisting of two facts: `p(1..2,1..4). p(1..4,1..2).`.\n",
    "\n",
    "How many atoms do you expect to see in its stable model?"
   ]
  },
  {
   "cell_type": "markdown",
   "metadata": {},
   "source": [
    "Answer: 12. The first produces 8, and the second produces 8, but they both share 4 as duplicates."
   ]
  },
  {
   "cell_type": "markdown",
   "metadata": {},
   "source": [
    "### Section 2.4"
   ]
  },
  {
   "cell_type": "markdown",
   "metadata": {},
   "source": [
    "**Exercise 2.11**"
   ]
  },
  {
   "cell_type": "markdown",
   "metadata": {},
   "source": [
    "(a) How would you define the predicate grandparent/2 in terms of parent/2?\n",
    "\n",
    "(b) If you run clingo on your definition, combined with facts (2.2), `parent(ann,bob). parent(bob,carol). parent(bob,dan).`, what stable model do you think it will produce?"
   ]
  },
  {
   "cell_type": "markdown",
   "metadata": {},
   "source": [
    "Answer:\n",
    "\n",
    "(a) `grandparent(G, C) :- parent(G, P), parent(P, C).`\n",
    "\n",
    "(b) The stable model is as follows:\n",
    "- parent(ann, bob)\n",
    "- parent(bob, carol)\n",
    "- parent(bob, dan)\n",
    "- grandparent(ann, carol)\n",
    "- grandparent(ann, dan)"
   ]
  },
  {
   "cell_type": "markdown",
   "metadata": {},
   "source": [
    "Checking work..."
   ]
  },
  {
   "cell_type": "code",
   "execution_count": 20,
   "metadata": {
    "scrolled": false
   },
   "outputs": [
    {
     "name": "stdout",
     "output_type": "stream",
     "text": [
      "Overwriting ex-2-11.lp\n"
     ]
    }
   ],
   "source": [
    "%%file ex-2-11.lp\n",
    "parent(ann,bob). parent(bob,carol). parent(bob,dan).\n",
    "grandparent(G, C) :- parent(G, P), parent(P, C)."
   ]
  },
  {
   "cell_type": "code",
   "execution_count": 21,
   "metadata": {
    "scrolled": false
   },
   "outputs": [
    {
     "name": "stdout",
     "output_type": "stream",
     "text": [
      "clingo version 5.4.0\r\n",
      "Reading from ex-2-11.lp\r\n",
      "Solving...\r\n",
      "Answer: 1\r\n",
      "parent(ann,bob) parent(bob,carol) parent(bob,dan) grandparent(ann,carol) grandparent(ann,dan)\r\n",
      "SATISFIABLE\r\n",
      "\r\n",
      "Models       : 1\r\n",
      "Calls        : 1\r\n",
      "Time         : 0.001s (Solving: 0.00s 1st Model: 0.00s Unsat: 0.00s)\r\n",
      "CPU Time     : 0.001s\r\n"
     ]
    }
   ],
   "source": [
    "!clingo ex-2-11.lp"
   ]
  },
  {
   "cell_type": "markdown",
   "metadata": {},
   "source": [
    "**Exercise 2.12**"
   ]
  },
  {
   "cell_type": "markdown",
   "metadata": {},
   "source": [
    "(a) How would you define the predicate sibling/2 in terms of parent/2?\n",
    "\n",
    "(b) If you run clingo on your definition, combined with facts (2.2), what stable model do you think it will produce?"
   ]
  },
  {
   "cell_type": "markdown",
   "metadata": {},
   "source": [
    "Answer:\n",
    "\n",
    "(a) `sibling(S1, S2) :- parent(P, S1), parent(P, S2).`\n",
    "\n",
    "(b) The stable model is as follows:\n",
    "- parent(ann, bob)\n",
    "- parent(bob, carol)\n",
    "- parent(bob, dan)\n",
    "- sibling(carol, dan)"
   ]
  },
  {
   "cell_type": "markdown",
   "metadata": {},
   "source": [
    "**Exercise 2.13**"
   ]
  },
  {
   "cell_type": "markdown",
   "metadata": {},
   "source": [
    "Assuming that the atom `enrolled(S,C)` expresses that student `S` is enrolled in class `C`, how would you define the set `enrolled/1` of all students who are enrolled in at least one class?"
   ]
  },
  {
   "cell_type": "markdown",
   "metadata": {},
   "source": [
    "Answer: `enrolled(S) :- enrolled(S, C).`\n",
    "\n",
    "This says that \"a student is enrolled\" IF \"a studnet is enrolled in a class.\" In other words, we check to see if a student is enrolled in a class, binding those variables, and then pull that student to just say they are enrolled."
   ]
  },
  {
   "cell_type": "markdown",
   "metadata": {},
   "source": [
    "**Exercise 2.14**"
   ]
  },
  {
   "cell_type": "markdown",
   "metadata": {},
   "source": [
    "Assuming that the atom `lives_in(X,C)` expresses that person `X` lives in city `C`, and that the atom `same_city(X,Y)` expresses that `X` and `Y` live in the same city, how would you define `same_city/2` in terms of `lives_in/2`?"
   ]
  },
  {
   "cell_type": "markdown",
   "metadata": {},
   "source": [
    "Answer: `same_city(X,Y) :- lives_in(X,C), lives_in(Y,C).`"
   ]
  },
  {
   "cell_type": "markdown",
   "metadata": {},
   "source": [
    "**Exercise 2.15**"
   ]
  },
  {
   "cell_type": "markdown",
   "metadata": {},
   "source": [
    "Assuming that the atom `age(X,N)` expresses that person `X` is `N` years old, and that the atom `older(X,Y)` expresses that `X` is older than `Y`, how would you define `older/2` in terms of `age/2`?"
   ]
  },
  {
   "cell_type": "markdown",
   "metadata": {},
   "source": [
    "Answer: `older(X,Y) :- age(X,N1), age(Y,N2), N1 > N2.`"
   ]
  },
  {
   "cell_type": "markdown",
   "metadata": {},
   "source": [
    "**Exercise 2.16**"
   ]
  },
  {
   "cell_type": "markdown",
   "metadata": {},
   "source": [
    "If we run clingo on the program consisting of rules (2.2) and (2.8), what stable model do you expect it to produce?\n",
    "\n",
    "(2.2): `parent(ann,bob). parent(bob,carol). parent(bob,dan).`\n",
    "\n",
    "(2.8): `ancestor(X,Y) :- parent(X,Y). ancestor(X,Z) :- ancestor(X,Y), ancestor(Y,Z).`"
   ]
  },
  {
   "cell_type": "markdown",
   "metadata": {},
   "source": [
    "Answer: The stable model will be as follows:\n",
    "\n",
    "\n",
    "- parent(ann, bob).\n",
    "- parent(bob, carol).\n",
    "- parent(bob, dan).\n",
    "\n",
    "\n",
    "- ancestor(ann, bob).\n",
    "- ancestor(bob, carol).\n",
    "- ancestor(bob, dan).\n",
    "\n",
    "\n",
    "- ancestor(ann, carol).\n",
    "- ancestor(ann, dan)."
   ]
  },
  {
   "cell_type": "markdown",
   "metadata": {},
   "source": [
    "**Exercise 2.17**"
   ]
  },
  {
   "cell_type": "markdown",
   "metadata": {},
   "source": [
    "Two integers are said to be coprime if the only positive integer that divides both of them is 1. We would like to generate the list of all integers from the set `1..N` that are coprime with an integer `K`. For example, if we save such a program in the file `coprimes.lp` then the command line\n",
    "\n",
    "`% clingo coprimes.lp -c n=10 -c k=12`\n",
    "\n",
    "is expected to generate the output\n",
    "\n",
    "`coprime(1) coprime(5) coprime(7)`\n",
    "\n",
    "What rules would you place in Lines 5 and 10 of Listing 2.4 to get this result?"
   ]
  },
  {
   "cell_type": "code",
   "execution_count": 9,
   "metadata": {
    "scrolled": false
   },
   "outputs": [
    {
     "name": "stdout",
     "output_type": "stream",
     "text": [
      "Overwriting ex-2-17.lp\n"
     ]
    }
   ],
   "source": [
    "%%file ex-2-17.lp\n",
    "\n",
    "% Numbers from 1 to n that are coprime with k .\n",
    "\n",
    "% input : positive integer n ; integer k .\n",
    "\n",
    "noncoprime(N) :- N = 1..n, I = 2..N, N\\I = 0, k\\I = 0.\n",
    "% achieved : noncoprime ( N ) iff N is a number from {1 ,... , n }\n",
    "% such that N and k have a common divisor greater\n",
    "% than 1.\n",
    "\n",
    "coprime(N) :- N = 1..n, not noncoprime(N).\n",
    "% achieved : coprime ( N ) iff N is a number from {1 ,... , n }\n",
    "% that is coprime with k .\n",
    "\n",
    "#show coprime/1."
   ]
  },
  {
   "cell_type": "code",
   "execution_count": 10,
   "metadata": {
    "scrolled": true
   },
   "outputs": [
    {
     "name": "stdout",
     "output_type": "stream",
     "text": [
      "clingo version 5.4.0\r\n",
      "Reading from ex-2-17.lp\r\n",
      "Solving...\r\n",
      "Answer: 1\r\n",
      "coprime(1) coprime(5) coprime(7)\r\n",
      "SATISFIABLE\r\n",
      "\r\n",
      "Models       : 1\r\n",
      "Calls        : 1\r\n",
      "Time         : 0.001s (Solving: 0.00s 1st Model: 0.00s Unsat: 0.00s)\r\n",
      "CPU Time     : 0.001s\r\n"
     ]
    }
   ],
   "source": [
    "!clingo ex-2-17.lp -c n=10 -c k=12"
   ]
  },
  {
   "cell_type": "markdown",
   "metadata": {},
   "source": [
    "**Exercise 2.18**"
   ]
  },
  {
   "cell_type": "markdown",
   "metadata": {},
   "source": [
    "Every nonnegative integer can be represented as the sum of 4 complete squares, for instance:\n",
    "\n",
    "`7 = 22 + 12 + 12 + 12; 10 = 32 + 11 + 02 + 02`.\n",
    "\n",
    "But if we want to represent a given number as the sum of only 3 complete squares, that may be impossible. The two smallest numbers that require 4 complete squares are 7 and 15. We would like to generate the list of all integers from the set `{1, . . . , n}` that cannot be represented as the sum of 3 complete squares. What rules would you place in Lines 6 and 10 of Listing 2.5 to get such a program?"
   ]
  },
  {
   "cell_type": "code",
   "execution_count": 17,
   "metadata": {
    "scrolled": false
   },
   "outputs": [
    {
     "name": "stdout",
     "output_type": "stream",
     "text": [
      "Overwriting ex-2-18.lp\n"
     ]
    }
   ],
   "source": [
    "%%file ex-2-18.lp\n",
    "\n",
    "% Numbers from 1 to n that cannot be represented as the sum\n",
    "% of 3 complete squares.\n",
    "\n",
    "% input : positive integer n.\n",
    "\n",
    "three(N) :- N=1..n, I=0..N, J=0..N-1, K=0..N-1, N = I**2 + J**2 + K**2.\n",
    "% achieved : three/1 is the set of numbers from {1, ..., n} that\n",
    "% can be represented as the sum of 3 squares.\n",
    "\n",
    "more_than_three(N) :- N=1..n, not three(N).\n",
    "% achieved : more_than_three/1 is the set of numbers from\n",
    "% {1, ..., n} that can’t be represented as the sum\n",
    "% of 3 squares.\n",
    "\n",
    "#show more_than_three/1."
   ]
  },
  {
   "cell_type": "code",
   "execution_count": 18,
   "metadata": {
    "scrolled": true
   },
   "outputs": [
    {
     "name": "stdout",
     "output_type": "stream",
     "text": [
      "clingo version 5.4.0\r\n",
      "Reading from ex-2-18.lp\r\n",
      "Solving...\r\n",
      "Answer: 1\r\n",
      "more_than_three(7) more_than_three(15)\r\n",
      "SATISFIABLE\r\n",
      "\r\n",
      "Models       : 1\r\n",
      "Calls        : 1\r\n",
      "Time         : 0.005s (Solving: 0.00s 1st Model: 0.00s Unsat: 0.00s)\r\n",
      "CPU Time     : 0.005s\r\n"
     ]
    }
   ],
   "source": [
    "!clingo ex-2-18.lp -c n=16"
   ]
  },
  {
   "cell_type": "markdown",
   "metadata": {},
   "source": [
    "**Exercise 2.19**"
   ]
  },
  {
   "cell_type": "markdown",
   "metadata": {},
   "source": [
    "Listing 2.6 gives yet another example of a pair of definitions, one on top of the other.\n",
    "Before defining the property fac/1 of being a factorial, we give a recursive definition of the\n",
    "binary relation fac/2, “the factorial of N is F .” Note that there is no “achieved” comment\n",
    "after Line 5. Nothing of interest is achieved in the middle of a definition.\n",
    "\n",
    "Consider the part of the program shown in Listing 2.6 that precedes the\n",
    "comment in Line 7. What atoms do you expect to see in its stable model if the value of n\n",
    "is 4?"
   ]
  },
  {
   "cell_type": "markdown",
   "metadata": {},
   "source": [
    "Answer: When n=4, the stable model will include the following:\n",
    "- fac(0, 1).\n",
    "- fac(1, 1).\n",
    "- fac(2, 2).\n",
    "- fac(3, 6).\n",
    "- fac(4, 24).\n",
    "- fac(1).\n",
    "- fac(1).\n",
    "- fac(2).\n",
    "- fac(6).\n",
    "- fac(24)."
   ]
  },
  {
   "cell_type": "code",
   "execution_count": 21,
   "metadata": {
    "scrolled": false
   },
   "outputs": [
    {
     "name": "stdout",
     "output_type": "stream",
     "text": [
      "Overwriting ex-2-19.lp\n"
     ]
    }
   ],
   "source": [
    "%%file ex-2-19.lp\n",
    "\n",
    "% Factorials of numbers from 0 to n.\n",
    "\n",
    "% input : nonnegative integer n.\n",
    "\n",
    "fac(0, 1).\n",
    "fac(N+1, F*(N+1)) :- fac(N, F), N < n.\n",
    "% achieved : fac/2 = {(0 ,0!), ..., (n, n!)}.\n",
    "\n",
    "fac(F) :- fac(N, F).\n",
    "% achieved : fac/1 = {0! ,... , n !}."
   ]
  },
  {
   "cell_type": "code",
   "execution_count": 22,
   "metadata": {
    "scrolled": true
   },
   "outputs": [
    {
     "name": "stdout",
     "output_type": "stream",
     "text": [
      "clingo version 5.4.0\r\n",
      "Reading from ex-2-19.lp\r\n",
      "Solving...\r\n",
      "Answer: 1\r\n",
      "fac(0,1) fac(1,1) fac(2,2) fac(3,6) fac(4,24) fac(1) fac(2) fac(6) fac(24)\r\n",
      "SATISFIABLE\r\n",
      "\r\n",
      "Models       : 1\r\n",
      "Calls        : 1\r\n",
      "Time         : 0.001s (Solving: 0.00s 1st Model: 0.00s Unsat: 0.00s)\r\n",
      "CPU Time     : 0.001s\r\n"
     ]
    }
   ],
   "source": [
    "!clingo ex-2-19.lp -c n=4"
   ]
  },
  {
   "cell_type": "markdown",
   "metadata": {},
   "source": [
    "### Section 2.5"
   ]
  },
  {
   "cell_type": "markdown",
   "metadata": {},
   "source": [
    "**Exercise 2.20**"
   ]
  },
  {
   "cell_type": "markdown",
   "metadata": {},
   "source": [
    "For each of the given programs, what do you think is the number of its stable models?\n",
    "\n",
    "(a) `1 {p(1..10)}.`\n",
    "\n",
    "(b) `3 {elected(ann; bob; carol; dan; elaine; fred)} 3.`"
   ]
  },
  {
   "cell_type": "markdown",
   "metadata": {},
   "source": [
    "Answer:\n",
    "\n",
    "(a) 2^10 - 1 (for the empty Stable Model that we are excluding with the lower bound)\n",
    "\n",
    "(b) 6 Choose 3 ... 6! / 3! / 3! = 20"
   ]
  },
  {
   "cell_type": "markdown",
   "metadata": {},
   "source": [
    "Checking work..."
   ]
  },
  {
   "cell_type": "code",
   "execution_count": 4,
   "metadata": {
    "scrolled": false
   },
   "outputs": [
    {
     "name": "stdout",
     "output_type": "stream",
     "text": [
      "Writing ./ch2-files/ex-2-20a.lp\n"
     ]
    }
   ],
   "source": [
    "%%file ./ch2-files/ex-2-20a.lp\n",
    "1 {p(1..10)}."
   ]
  },
  {
   "cell_type": "code",
   "execution_count": 5,
   "metadata": {
    "scrolled": true
   },
   "outputs": [
    {
     "name": "stdout",
     "output_type": "stream",
     "text": [
      "clingo version 5.4.0\r\n",
      "Reading from ./ch2-files/ex-2-20.lp\r\n",
      "Solving...\r\n",
      "Answer: 1\r\n",
      "p(10)\r\n",
      "Answer: 2\r\n",
      "p(3)\r\n",
      "Answer: 3\r\n",
      "p(3) p(10)\r\n",
      "Answer: 4\r\n",
      "p(4)\r\n",
      "Answer: 5\r\n",
      "p(3) p(4)\r\n",
      "Answer: 6\r\n",
      "p(4) p(10)\r\n",
      "Answer: 7\r\n",
      "p(3) p(4) p(10)\r\n",
      "Answer: 8\r\n",
      "p(5)\r\n",
      "Answer: 9\r\n",
      "p(4) p(5)\r\n",
      "Answer: 10\r\n",
      "p(5) p(10)\r\n",
      "Answer: 11\r\n",
      "p(4) p(5) p(10)\r\n",
      "Answer: 12\r\n",
      "p(3) p(5)\r\n",
      "Answer: 13\r\n",
      "p(3) p(5) p(10)\r\n",
      "Answer: 14\r\n",
      "p(3) p(4) p(5)\r\n",
      "Answer: 15\r\n",
      "p(3) p(4) p(5) p(10)\r\n",
      "Answer: 16\r\n",
      "p(6)\r\n",
      "Answer: 17\r\n",
      "p(4) p(6)\r\n",
      "Answer: 18\r\n",
      "p(5) p(6)\r\n",
      "Answer: 19\r\n",
      "p(4) p(5) p(6)\r\n",
      "Answer: 20\r\n",
      "p(3) p(6)\r\n",
      "Answer: 21\r\n",
      "p(3) p(5) p(6)\r\n",
      "Answer: 22\r\n",
      "p(3) p(4) p(6)\r\n",
      "Answer: 23\r\n",
      "p(3) p(4) p(5) p(6)\r\n",
      "Answer: 24\r\n",
      "p(6) p(10)\r\n",
      "Answer: 25\r\n",
      "p(4) p(6) p(10)\r\n",
      "Answer: 26\r\n",
      "p(3) p(6) p(10)\r\n",
      "Answer: 27\r\n",
      "p(3) p(4) p(6) p(10)\r\n",
      "Answer: 28\r\n",
      "p(5) p(6) p(10)\r\n",
      "Answer: 29\r\n",
      "p(3) p(5) p(6) p(10)\r\n",
      "Answer: 30\r\n",
      "p(4) p(5) p(6) p(10)\r\n",
      "Answer: 31\r\n",
      "p(3) p(4) p(5) p(6) p(10)\r\n",
      "Answer: 32\r\n",
      "p(7)\r\n",
      "Answer: 33\r\n",
      "p(4) p(7)\r\n",
      "Answer: 34\r\n",
      "p(6) p(7)\r\n",
      "Answer: 35\r\n",
      "p(4) p(6) p(7)\r\n",
      "Answer: 36\r\n",
      "p(7) p(10)\r\n",
      "Answer: 37\r\n",
      "p(6) p(7) p(10)\r\n",
      "Answer: 38\r\n",
      "p(4) p(7) p(10)\r\n",
      "Answer: 39\r\n",
      "p(4) p(6) p(7) p(10)\r\n",
      "Answer: 40\r\n",
      "p(5) p(7)\r\n",
      "Answer: 41\r\n",
      "p(4) p(5) p(7)\r\n",
      "Answer: 42\r\n",
      "p(5) p(7) p(10)\r\n",
      "Answer: 43\r\n",
      "p(4) p(5) p(7) p(10)\r\n",
      "Answer: 44\r\n",
      "p(5) p(6) p(7)\r\n",
      "Answer: 45\r\n",
      "p(5) p(6) p(7) p(10)\r\n",
      "Answer: 46\r\n",
      "p(4) p(5) p(6) p(7)\r\n",
      "Answer: 47\r\n",
      "p(4) p(5) p(6) p(7) p(10)\r\n",
      "Answer: 48\r\n",
      "p(3) p(7)\r\n",
      "Answer: 49\r\n",
      "p(3) p(4) p(7)\r\n",
      "Answer: 50\r\n",
      "p(3) p(5) p(7)\r\n",
      "Answer: 51\r\n",
      "p(3) p(4) p(5) p(7)\r\n",
      "Answer: 52\r\n",
      "p(3) p(6) p(7)\r\n",
      "Answer: 53\r\n",
      "p(3) p(5) p(6) p(7)\r\n",
      "Answer: 54\r\n",
      "p(3) p(4) p(6) p(7)\r\n",
      "Answer: 55\r\n",
      "p(3) p(4) p(5) p(6) p(7)\r\n",
      "Answer: 56\r\n",
      "p(3) p(7) p(10)\r\n",
      "Answer: 57\r\n",
      "p(3) p(4) p(7) p(10)\r\n",
      "Answer: 58\r\n",
      "p(3) p(6) p(7) p(10)\r\n",
      "Answer: 59\r\n",
      "p(3) p(4) p(6) p(7) p(10)\r\n",
      "Answer: 60\r\n",
      "p(3) p(5) p(7) p(10)\r\n",
      "Answer: 61\r\n",
      "p(3) p(5) p(6) p(7) p(10)\r\n",
      "Answer: 62\r\n",
      "p(3) p(4) p(5) p(7) p(10)\r\n",
      "Answer: 63\r\n",
      "p(3) p(4) p(5) p(6) p(7) p(10)\r\n",
      "Answer: 64\r\n",
      "p(8)\r\n",
      "Answer: 65\r\n",
      "p(4) p(8)\r\n",
      "Answer: 66\r\n",
      "p(7) p(8)\r\n",
      "Answer: 67\r\n",
      "p(4) p(7) p(8)\r\n",
      "Answer: 68\r\n",
      "p(3) p(8)\r\n",
      "Answer: 69\r\n",
      "p(3) p(7) p(8)\r\n",
      "Answer: 70\r\n",
      "p(3) p(4) p(8)\r\n",
      "Answer: 71\r\n",
      "p(3) p(4) p(7) p(8)\r\n",
      "Answer: 72\r\n",
      "p(8) p(10)\r\n",
      "Answer: 73\r\n",
      "p(4) p(8) p(10)\r\n",
      "Answer: 74\r\n",
      "p(3) p(8) p(10)\r\n",
      "Answer: 75\r\n",
      "p(3) p(4) p(8) p(10)\r\n",
      "Answer: 76\r\n",
      "p(7) p(8) p(10)\r\n",
      "Answer: 77\r\n",
      "p(3) p(7) p(8) p(10)\r\n",
      "Answer: 78\r\n",
      "p(4) p(7) p(8) p(10)\r\n",
      "Answer: 79\r\n",
      "p(3) p(4) p(7) p(8) p(10)\r\n",
      "Answer: 80\r\n",
      "p(5) p(8)\r\n",
      "Answer: 81\r\n",
      "p(4) p(5) p(8)\r\n",
      "Answer: 82\r\n",
      "p(5) p(8) p(10)\r\n",
      "Answer: 83\r\n",
      "p(4) p(5) p(8) p(10)\r\n",
      "Answer: 84\r\n",
      "p(5) p(7) p(8)\r\n",
      "Answer: 85\r\n",
      "p(5) p(7) p(8) p(10)\r\n",
      "Answer: 86\r\n",
      "p(4) p(5) p(7) p(8)\r\n",
      "Answer: 87\r\n",
      "p(4) p(5) p(7) p(8) p(10)\r\n",
      "Answer: 88\r\n",
      "p(3) p(5) p(8)\r\n",
      "Answer: 89\r\n",
      "p(3) p(4) p(5) p(8)\r\n",
      "Answer: 90\r\n",
      "p(3) p(5) p(7) p(8)\r\n",
      "Answer: 91\r\n",
      "p(3) p(4) p(5) p(7) p(8)\r\n",
      "Answer: 92\r\n",
      "p(3) p(5) p(8) p(10)\r\n",
      "Answer: 93\r\n",
      "p(3) p(5) p(7) p(8) p(10)\r\n",
      "Answer: 94\r\n",
      "p(3) p(4) p(5) p(8) p(10)\r\n",
      "Answer: 95\r\n",
      "p(3) p(4) p(5) p(7) p(8) p(10)\r\n",
      "Answer: 96\r\n",
      "p(6) p(8)\r\n",
      "Answer: 97\r\n",
      "p(4) p(6) p(8)\r\n",
      "Answer: 98\r\n",
      "p(5) p(6) p(8)\r\n",
      "Answer: 99\r\n",
      "p(4) p(5) p(6) p(8)\r\n",
      "Answer: 100\r\n",
      "p(3) p(6) p(8)\r\n",
      "Answer: 101\r\n",
      "p(3) p(5) p(6) p(8)\r\n",
      "Answer: 102\r\n",
      "p(3) p(4) p(6) p(8)\r\n",
      "Answer: 103\r\n",
      "p(3) p(4) p(5) p(6) p(8)\r\n",
      "Answer: 104\r\n",
      "p(6) p(8) p(10)\r\n",
      "Answer: 105\r\n",
      "p(4) p(6) p(8) p(10)\r\n",
      "Answer: 106\r\n",
      "p(3) p(6) p(8) p(10)\r\n",
      "Answer: 107\r\n",
      "p(3) p(4) p(6) p(8) p(10)\r\n",
      "Answer: 108\r\n",
      "p(5) p(6) p(8) p(10)\r\n",
      "Answer: 109\r\n",
      "p(3) p(5) p(6) p(8) p(10)\r\n",
      "Answer: 110\r\n",
      "p(4) p(5) p(6) p(8) p(10)\r\n",
      "Answer: 111\r\n",
      "p(3) p(4) p(5) p(6) p(8) p(10)\r\n",
      "Answer: 112\r\n",
      "p(6) p(7) p(8)\r\n",
      "Answer: 113\r\n",
      "p(4) p(6) p(7) p(8)\r\n",
      "Answer: 114\r\n",
      "p(6) p(7) p(8) p(10)\r\n",
      "Answer: 115\r\n",
      "p(4) p(6) p(7) p(8) p(10)\r\n",
      "Answer: 116\r\n",
      "p(5) p(6) p(7) p(8)\r\n",
      "Answer: 117\r\n",
      "p(5) p(6) p(7) p(8) p(10)\r\n",
      "Answer: 118\r\n",
      "p(4) p(5) p(6) p(7) p(8)\r\n",
      "Answer: 119\r\n",
      "p(4) p(5) p(6) p(7) p(8) p(10)\r\n",
      "Answer: 120\r\n",
      "p(3) p(6) p(7) p(8)\r\n",
      "Answer: 121\r\n",
      "p(3) p(4) p(6) p(7) p(8)\r\n",
      "Answer: 122\r\n",
      "p(3) p(5) p(6) p(7) p(8)\r\n",
      "Answer: 123\r\n",
      "p(3) p(4) p(5) p(6) p(7) p(8)\r\n",
      "Answer: 124\r\n",
      "p(3) p(6) p(7) p(8) p(10)\r\n",
      "Answer: 125\r\n",
      "p(3) p(5) p(6) p(7) p(8) p(10)\r\n",
      "Answer: 126\r\n",
      "p(3) p(4) p(6) p(7) p(8) p(10)\r\n",
      "Answer: 127\r\n",
      "p(3) p(4) p(5) p(6) p(7) p(8) p(10)\r\n",
      "Answer: 128\r\n",
      "p(9)\r\n",
      "Answer: 129\r\n",
      "p(4) p(9)\r\n",
      "Answer: 130\r\n",
      "p(8) p(9)\r\n",
      "Answer: 131\r\n",
      "p(4) p(8) p(9)\r\n",
      "Answer: 132\r\n",
      "p(6) p(9)\r\n",
      "Answer: 133\r\n",
      "p(6) p(8) p(9)\r\n",
      "Answer: 134\r\n",
      "p(4) p(6) p(9)\r\n",
      "Answer: 135\r\n",
      "p(4) p(6) p(8) p(9)\r\n",
      "Answer: 136\r\n",
      "p(7) p(9)\r\n",
      "Answer: 137\r\n",
      "p(4) p(7) p(9)\r\n",
      "Answer: 138\r\n",
      "p(6) p(7) p(9)\r\n",
      "Answer: 139\r\n",
      "p(4) p(6) p(7) p(9)\r\n",
      "Answer: 140\r\n",
      "p(7) p(8) p(9)\r\n",
      "Answer: 141\r\n",
      "p(6) p(7) p(8) p(9)\r\n",
      "Answer: 142\r\n",
      "p(4) p(7) p(8) p(9)\r\n",
      "Answer: 143\r\n",
      "p(4) p(6) p(7) p(8) p(9)\r\n",
      "Answer: 144\r\n",
      "p(3) p(9)\r\n",
      "Answer: 145\r\n",
      "p(3) p(4) p(9)\r\n",
      "Answer: 146\r\n",
      "p(3) p(7) p(9)\r\n",
      "Answer: 147\r\n",
      "p(3) p(4) p(7) p(9)\r\n",
      "Answer: 148\r\n",
      "p(3) p(8) p(9)\r\n",
      "Answer: 149\r\n",
      "p(3) p(7) p(8) p(9)\r\n",
      "Answer: 150\r\n",
      "p(3) p(4) p(8) p(9)\r\n",
      "Answer: 151\r\n",
      "p(3) p(4) p(7) p(8) p(9)\r\n",
      "Answer: 152\r\n",
      "p(3) p(6) p(9)\r\n",
      "Answer: 153\r\n",
      "p(3) p(4) p(6) p(9)\r\n",
      "Answer: 154\r\n",
      "p(3) p(6) p(8) p(9)\r\n",
      "Answer: 155\r\n",
      "p(3) p(4) p(6) p(8) p(9)\r\n",
      "Answer: 156\r\n",
      "p(3) p(6) p(7) p(9)\r\n",
      "Answer: 157\r\n",
      "p(3) p(6) p(7) p(8) p(9)\r\n",
      "Answer: 158\r\n",
      "p(3) p(4) p(6) p(7) p(9)\r\n",
      "Answer: 159\r\n",
      "p(3) p(4) p(6) p(7) p(8) p(9)\r\n",
      "Answer: 160\r\n",
      "p(9) p(10)\r\n",
      "Answer: 161\r\n",
      "p(4) p(9) p(10)\r\n",
      "Answer: 162\r\n",
      "p(3) p(9) p(10)\r\n",
      "Answer: 163\r\n",
      "p(3) p(4) p(9) p(10)\r\n",
      "Answer: 164\r\n",
      "p(6) p(9) p(10)\r\n",
      "Answer: 165\r\n",
      "p(3) p(6) p(9) p(10)\r\n",
      "Answer: 166\r\n",
      "p(4) p(6) p(9) p(10)\r\n",
      "Answer: 167\r\n",
      "p(3) p(4) p(6) p(9) p(10)\r\n",
      "Answer: 168\r\n",
      "p(7) p(9) p(10)\r\n",
      "Answer: 169\r\n",
      "p(4) p(7) p(9) p(10)\r\n",
      "Answer: 170\r\n",
      "p(6) p(7) p(9) p(10)\r\n",
      "Answer: 171\r\n",
      "p(4) p(6) p(7) p(9) p(10)\r\n",
      "Answer: 172\r\n",
      "p(3) p(7) p(9) p(10)\r\n",
      "Answer: 173\r\n",
      "p(3) p(6) p(7) p(9) p(10)\r\n",
      "Answer: 174\r\n",
      "p(3) p(4) p(7) p(9) p(10)\r\n",
      "Answer: 175\r\n",
      "p(3) p(4) p(6) p(7) p(9) p(10)\r\n",
      "Answer: 176\r\n",
      "p(8) p(9) p(10)\r\n",
      "Answer: 177\r\n",
      "p(4) p(8) p(9) p(10)\r\n",
      "Answer: 178\r\n",
      "p(7) p(8) p(9) p(10)\r\n",
      "Answer: 179\r\n",
      "p(4) p(7) p(8) p(9) p(10)\r\n",
      "Answer: 180\r\n",
      "p(3) p(8) p(9) p(10)\r\n",
      "Answer: 181\r\n",
      "p(3) p(7) p(8) p(9) p(10)\r\n",
      "Answer: 182\r\n",
      "p(3) p(4) p(8) p(9) p(10)\r\n",
      "Answer: 183\r\n",
      "p(3) p(4) p(7) p(8) p(9) p(10)\r\n",
      "Answer: 184\r\n",
      "p(6) p(8) p(9) p(10)\r\n",
      "Answer: 185\r\n",
      "p(4) p(6) p(8) p(9) p(10)\r\n",
      "Answer: 186\r\n",
      "p(3) p(6) p(8) p(9) p(10)\r\n",
      "Answer: 187\r\n",
      "p(3) p(4) p(6) p(8) p(9) p(10)\r\n",
      "Answer: 188\r\n",
      "p(6) p(7) p(8) p(9) p(10)\r\n",
      "Answer: 189\r\n",
      "p(3) p(6) p(7) p(8) p(9) p(10)\r\n",
      "Answer: 190\r\n",
      "p(4) p(6) p(7) p(8) p(9) p(10)\r\n",
      "Answer: 191\r\n",
      "p(3) p(4) p(6) p(7) p(8) p(9) p(10)\r\n",
      "Answer: 192\r\n",
      "p(5) p(9)\r\n",
      "Answer: 193\r\n",
      "p(4) p(5) p(9)\r\n",
      "Answer: 194\r\n",
      "p(5) p(9) p(10)\r\n",
      "Answer: 195\r\n",
      "p(4) p(5) p(9) p(10)\r\n",
      "Answer: 196\r\n",
      "p(5) p(8) p(9)\r\n",
      "Answer: 197\r\n",
      "p(5) p(8) p(9) p(10)\r\n",
      "Answer: 198\r\n",
      "p(4) p(5) p(8) p(9)\r\n",
      "Answer: 199\r\n",
      "p(4) p(5) p(8) p(9) p(10)\r\n",
      "Answer: 200\r\n",
      "p(5) p(6) p(9)\r\n",
      "Answer: 201\r\n",
      "p(4) p(5) p(6) p(9)\r\n",
      "Answer: 202\r\n",
      "p(5) p(6) p(8) p(9)\r\n",
      "Answer: 203\r\n",
      "p(4) p(5) p(6) p(8) p(9)\r\n",
      "Answer: 204\r\n",
      "p(5) p(6) p(9) p(10)\r\n",
      "Answer: 205\r\n",
      "p(5) p(6) p(8) p(9) p(10)\r\n",
      "Answer: 206\r\n",
      "p(4) p(5) p(6) p(9) p(10)\r\n",
      "Answer: 207\r\n",
      "p(4) p(5) p(6) p(8) p(9) p(10)\r\n",
      "Answer: 208\r\n",
      "p(5) p(7) p(9)\r\n",
      "Answer: 209\r\n",
      "p(4) p(5) p(7) p(9)\r\n",
      "Answer: 210\r\n",
      "p(5) p(6) p(7) p(9)\r\n",
      "Answer: 211\r\n",
      "p(4) p(5) p(6) p(7) p(9)\r\n",
      "Answer: 212\r\n",
      "p(5) p(7) p(9) p(10)\r\n",
      "Answer: 213\r\n",
      "p(5) p(6) p(7) p(9) p(10)\r\n",
      "Answer: 214\r\n",
      "p(4) p(5) p(7) p(9) p(10)\r\n",
      "Answer: 215\r\n",
      "p(4) p(5) p(6) p(7) p(9) p(10)\r\n",
      "Answer: 216\r\n",
      "p(5) p(7) p(8) p(9)\r\n",
      "Answer: 217\r\n",
      "p(4) p(5) p(7) p(8) p(9)\r\n",
      "Answer: 218\r\n",
      "p(5) p(7) p(8) p(9) p(10)\r\n",
      "Answer: 219\r\n",
      "p(4) p(5) p(7) p(8) p(9) p(10)\r\n",
      "Answer: 220\r\n",
      "p(5) p(6) p(7) p(8) p(9)\r\n",
      "Answer: 221\r\n",
      "p(5) p(6) p(7) p(8) p(9) p(10)\r\n",
      "Answer: 222\r\n",
      "p(4) p(5) p(6) p(7) p(8) p(9)\r\n",
      "Answer: 223\r\n",
      "p(4) p(5) p(6) p(7) p(8) p(9) p(10)\r\n",
      "Answer: 224\r\n",
      "p(3) p(5) p(9)\r\n",
      "Answer: 225\r\n",
      "p(3) p(4) p(5) p(9)\r\n",
      "Answer: 226\r\n",
      "p(3) p(5) p(7) p(9)\r\n",
      "Answer: 227\r\n",
      "p(3) p(4) p(5) p(7) p(9)\r\n",
      "Answer: 228\r\n",
      "p(3) p(5) p(8) p(9)\r\n",
      "Answer: 229\r\n",
      "p(3) p(5) p(7) p(8) p(9)\r\n",
      "Answer: 230\r\n",
      "p(3) p(4) p(5) p(8) p(9)\r\n",
      "Answer: 231\r\n",
      "p(3) p(4) p(5) p(7) p(8) p(9)\r\n",
      "Answer: 232\r\n",
      "p(3) p(5) p(6) p(9)\r\n",
      "Answer: 233\r\n",
      "p(3) p(4) p(5) p(6) p(9)\r\n",
      "Answer: 234\r\n",
      "p(3) p(5) p(6) p(8) p(9)\r\n",
      "Answer: 235\r\n",
      "p(3) p(4) p(5) p(6) p(8) p(9)\r\n",
      "Answer: 236\r\n",
      "p(3) p(5) p(6) p(7) p(9)\r\n",
      "Answer: 237\r\n",
      "p(3) p(5) p(6) p(7) p(8) p(9)\r\n",
      "Answer: 238\r\n",
      "p(3) p(4) p(5) p(6) p(7) p(9)\r\n",
      "Answer: 239\r\n",
      "p(3) p(4) p(5) p(6) p(7) p(8) p(9)\r\n",
      "Answer: 240\r\n",
      "p(3) p(5) p(9) p(10)\r\n",
      "Answer: 241\r\n",
      "p(3) p(4) p(5) p(9) p(10)\r\n",
      "Answer: 242\r\n",
      "p(3) p(5) p(6) p(9) p(10)\r\n",
      "Answer: 243\r\n",
      "p(3) p(4) p(5) p(6) p(9) p(10)\r\n",
      "Answer: 244\r\n",
      "p(3) p(5) p(7) p(9) p(10)\r\n",
      "Answer: 245\r\n",
      "p(3) p(5) p(6) p(7) p(9) p(10)\r\n",
      "Answer: 246\r\n",
      "p(3) p(4) p(5) p(7) p(9) p(10)\r\n",
      "Answer: 247\r\n",
      "p(3) p(4) p(5) p(6) p(7) p(9) p(10)\r\n",
      "Answer: 248\r\n",
      "p(3) p(5) p(8) p(9) p(10)\r\n",
      "Answer: 249\r\n",
      "p(3) p(4) p(5) p(8) p(9) p(10)\r\n",
      "Answer: 250\r\n",
      "p(3) p(5) p(7) p(8) p(9) p(10)\r\n",
      "Answer: 251\r\n",
      "p(3) p(4) p(5) p(7) p(8) p(9) p(10)\r\n",
      "Answer: 252\r\n",
      "p(3) p(5) p(6) p(8) p(9) p(10)\r\n",
      "Answer: 253\r\n",
      "p(3) p(5) p(6) p(7) p(8) p(9) p(10)\r\n",
      "Answer: 254\r\n",
      "p(3) p(4) p(5) p(6) p(8) p(9) p(10)\r\n",
      "Answer: 255\r\n",
      "p(3) p(4) p(5) p(6) p(7) p(8) p(9) p(10)\r\n",
      "Answer: 256\r\n",
      "p(2)\r\n",
      "Answer: 257\r\n",
      "p(2) p(4)\r\n",
      "Answer: 258\r\n",
      "p(2) p(7)\r\n",
      "Answer: 259\r\n",
      "p(2) p(4) p(7)\r\n",
      "Answer: 260\r\n",
      "p(2) p(9)\r\n",
      "Answer: 261\r\n",
      "p(2) p(7) p(9)\r\n",
      "Answer: 262\r\n",
      "p(2) p(4) p(9)\r\n",
      "Answer: 263\r\n",
      "p(2) p(4) p(7) p(9)\r\n",
      "Answer: 264\r\n",
      "p(2) p(5)\r\n",
      "Answer: 265\r\n",
      "p(2) p(4) p(5)\r\n",
      "Answer: 266\r\n",
      "p(2) p(5) p(9)\r\n",
      "Answer: 267\r\n",
      "p(2) p(4) p(5) p(9)\r\n",
      "Answer: 268\r\n",
      "p(2) p(5) p(7)\r\n",
      "Answer: 269\r\n",
      "p(2) p(5) p(7) p(9)\r\n",
      "Answer: 270\r\n",
      "p(2) p(4) p(5) p(7)\r\n",
      "Answer: 271\r\n",
      "p(2) p(4) p(5) p(7) p(9)\r\n",
      "Answer: 272\r\n",
      "p(2) p(3)\r\n",
      "Answer: 273\r\n",
      "p(2) p(3) p(4)\r\n",
      "Answer: 274\r\n",
      "p(2) p(3) p(5)\r\n",
      "Answer: 275\r\n",
      "p(2) p(3) p(4) p(5)\r\n",
      "Answer: 276\r\n",
      "p(2) p(3) p(7)\r\n",
      "Answer: 277\r\n",
      "p(2) p(3) p(5) p(7)\r\n",
      "Answer: 278\r\n",
      "p(2) p(3) p(4) p(7)\r\n",
      "Answer: 279\r\n",
      "p(2) p(3) p(4) p(5) p(7)\r\n",
      "Answer: 280\r\n",
      "p(2) p(3) p(9)\r\n",
      "Answer: 281\r\n",
      "p(2) p(3) p(4) p(9)\r\n",
      "Answer: 282\r\n",
      "p(2) p(3) p(7) p(9)\r\n",
      "Answer: 283\r\n",
      "p(2) p(3) p(4) p(7) p(9)\r\n",
      "Answer: 284\r\n",
      "p(2) p(3) p(5) p(9)\r\n",
      "Answer: 285\r\n",
      "p(2) p(3) p(5) p(7) p(9)\r\n",
      "Answer: 286\r\n",
      "p(2) p(3) p(4) p(5) p(9)\r\n",
      "Answer: 287\r\n",
      "p(2) p(3) p(4) p(5) p(7) p(9)\r\n",
      "Answer: 288\r\n",
      "p(2) p(10)\r\n",
      "Answer: 289\r\n",
      "p(2) p(4) p(10)\r\n",
      "Answer: 290\r\n",
      "p(2) p(3) p(10)\r\n",
      "Answer: 291\r\n",
      "p(2) p(3) p(4) p(10)\r\n",
      "Answer: 292\r\n",
      "p(2) p(9) p(10)\r\n",
      "Answer: 293\r\n",
      "p(2) p(3) p(9) p(10)\r\n",
      "Answer: 294\r\n",
      "p(2) p(4) p(9) p(10)\r\n",
      "Answer: 295\r\n",
      "p(2) p(3) p(4) p(9) p(10)\r\n",
      "Answer: 296\r\n",
      "p(2) p(5) p(10)\r\n",
      "Answer: 297\r\n",
      "p(2) p(4) p(5) p(10)\r\n",
      "Answer: 298\r\n",
      "p(2) p(5) p(9) p(10)\r\n",
      "Answer: 299\r\n",
      "p(2) p(4) p(5) p(9) p(10)\r\n",
      "Answer: 300\r\n",
      "p(2) p(3) p(5) p(10)\r\n",
      "Answer: 301\r\n",
      "p(2) p(3) p(5) p(9) p(10)\r\n",
      "Answer: 302\r\n",
      "p(2) p(3) p(4) p(5) p(10)\r\n",
      "Answer: 303\r\n",
      "p(2) p(3) p(4) p(5) p(9) p(10)\r\n",
      "Answer: 304\r\n",
      "p(2) p(7) p(10)\r\n",
      "Answer: 305\r\n",
      "p(2) p(4) p(7) p(10)\r\n",
      "Answer: 306\r\n",
      "p(2) p(5) p(7) p(10)\r\n",
      "Answer: 307\r\n",
      "p(2) p(4) p(5) p(7) p(10)\r\n",
      "Answer: 308\r\n",
      "p(2) p(3) p(7) p(10)\r\n",
      "Answer: 309\r\n",
      "p(2) p(3) p(5) p(7) p(10)\r\n",
      "Answer: 310\r\n",
      "p(2) p(3) p(4) p(7) p(10)\r\n",
      "Answer: 311\r\n",
      "p(2) p(3) p(4) p(5) p(7) p(10)\r\n",
      "Answer: 312\r\n",
      "p(2) p(7) p(9) p(10)\r\n",
      "Answer: 313\r\n",
      "p(2) p(4) p(7) p(9) p(10)\r\n",
      "Answer: 314\r\n",
      "p(2) p(3) p(7) p(9) p(10)\r\n",
      "Answer: 315\r\n",
      "p(2) p(3) p(4) p(7) p(9) p(10)\r\n",
      "Answer: 316\r\n",
      "p(2) p(5) p(7) p(9) p(10)\r\n",
      "Answer: 317\r\n",
      "p(2) p(3) p(5) p(7) p(9) p(10)\r\n",
      "Answer: 318\r\n",
      "p(2) p(4) p(5) p(7) p(9) p(10)\r\n",
      "Answer: 319\r\n",
      "p(2) p(3) p(4) p(5) p(7) p(9) p(10)\r\n",
      "Answer: 320\r\n",
      "p(2) p(8)\r\n",
      "Answer: 321\r\n",
      "p(2) p(4) p(8)\r\n",
      "Answer: 322\r\n",
      "p(2) p(8) p(10)\r\n",
      "Answer: 323\r\n",
      "p(2) p(4) p(8) p(10)\r\n",
      "Answer: 324\r\n",
      "p(2) p(7) p(8)\r\n",
      "Answer: 325\r\n",
      "p(2) p(7) p(8) p(10)\r\n",
      "Answer: 326\r\n",
      "p(2) p(4) p(7) p(8)\r\n",
      "Answer: 327\r\n",
      "p(2) p(4) p(7) p(8) p(10)\r\n",
      "Answer: 328\r\n",
      "p(2) p(8) p(9)\r\n",
      "Answer: 329\r\n",
      "p(2) p(4) p(8) p(9)\r\n",
      "Answer: 330\r\n",
      "p(2) p(7) p(8) p(9)\r\n",
      "Answer: 331\r\n",
      "p(2) p(4) p(7) p(8) p(9)\r\n",
      "Answer: 332\r\n",
      "p(2) p(8) p(9) p(10)\r\n",
      "Answer: 333\r\n",
      "p(2) p(7) p(8) p(9) p(10)\r\n",
      "Answer: 334\r\n",
      "p(2) p(4) p(8) p(9) p(10)\r\n",
      "Answer: 335\r\n",
      "p(2) p(4) p(7) p(8) p(9) p(10)\r\n",
      "Answer: 336\r\n",
      "p(2) p(5) p(8)\r\n",
      "Answer: 337\r\n",
      "p(2) p(4) p(5) p(8)\r\n",
      "Answer: 338\r\n",
      "p(2) p(5) p(8) p(9)\r\n",
      "Answer: 339\r\n",
      "p(2) p(4) p(5) p(8) p(9)\r\n",
      "Answer: 340\r\n",
      "p(2) p(5) p(8) p(10)\r\n",
      "Answer: 341\r\n",
      "p(2) p(5) p(8) p(9) p(10)\r\n",
      "Answer: 342\r\n",
      "p(2) p(4) p(5) p(8) p(10)\r\n",
      "Answer: 343\r\n",
      "p(2) p(4) p(5) p(8) p(9) p(10)\r\n",
      "Answer: 344\r\n",
      "p(2) p(5) p(7) p(8)\r\n",
      "Answer: 345\r\n",
      "p(2) p(4) p(5) p(7) p(8)\r\n",
      "Answer: 346\r\n",
      "p(2) p(5) p(7) p(8) p(10)\r\n",
      "Answer: 347\r\n",
      "p(2) p(4) p(5) p(7) p(8) p(10)\r\n",
      "Answer: 348\r\n",
      "p(2) p(5) p(7) p(8) p(9)\r\n",
      "Answer: 349\r\n",
      "p(2) p(5) p(7) p(8) p(9) p(10)\r\n",
      "Answer: 350\r\n",
      "p(2) p(4) p(5) p(7) p(8) p(9)\r\n",
      "Answer: 351\r\n",
      "p(2) p(4) p(5) p(7) p(8) p(9) p(10)\r\n",
      "Answer: 352\r\n",
      "p(2) p(3) p(8)\r\n",
      "Answer: 353\r\n",
      "p(2) p(3) p(4) p(8)\r\n",
      "Answer: 354\r\n",
      "p(2) p(3) p(5) p(8)\r\n",
      "Answer: 355\r\n",
      "p(2) p(3) p(4) p(5) p(8)\r\n",
      "Answer: 356\r\n",
      "p(2) p(3) p(7) p(8)\r\n",
      "Answer: 357\r\n",
      "p(2) p(3) p(5) p(7) p(8)\r\n",
      "Answer: 358\r\n",
      "p(2) p(3) p(4) p(7) p(8)\r\n",
      "Answer: 359\r\n",
      "p(2) p(3) p(4) p(5) p(7) p(8)\r\n",
      "Answer: 360\r\n",
      "p(2) p(3) p(8) p(9)\r\n",
      "Answer: 361\r\n",
      "p(2) p(3) p(4) p(8) p(9)\r\n",
      "Answer: 362\r\n",
      "p(2) p(3) p(7) p(8) p(9)\r\n",
      "Answer: 363\r\n",
      "p(2) p(3) p(4) p(7) p(8) p(9)\r\n",
      "Answer: 364\r\n",
      "p(2) p(3) p(5) p(8) p(9)\r\n",
      "Answer: 365\r\n",
      "p(2) p(3) p(5) p(7) p(8) p(9)\r\n",
      "Answer: 366\r\n",
      "p(2) p(3) p(4) p(5) p(8) p(9)\r\n",
      "Answer: 367\r\n",
      "p(2) p(3) p(4) p(5) p(7) p(8) p(9)\r\n",
      "Answer: 368\r\n",
      "p(2) p(3) p(8) p(10)\r\n",
      "Answer: 369\r\n",
      "p(2) p(3) p(4) p(8) p(10)\r\n",
      "Answer: 370\r\n",
      "p(2) p(3) p(8) p(9) p(10)\r\n",
      "Answer: 371\r\n",
      "p(2) p(3) p(4) p(8) p(9) p(10)\r\n",
      "Answer: 372\r\n",
      "p(2) p(3) p(5) p(8) p(10)\r\n",
      "Answer: 373\r\n",
      "p(2) p(3) p(5) p(8) p(9) p(10)\r\n",
      "Answer: 374\r\n",
      "p(2) p(3) p(4) p(5) p(8) p(10)\r\n",
      "Answer: 375\r\n",
      "p(2) p(3) p(4) p(5) p(8) p(9) p(10)\r\n",
      "Answer: 376\r\n",
      "p(2) p(3) p(7) p(8) p(10)\r\n",
      "Answer: 377\r\n",
      "p(2) p(3) p(4) p(7) p(8) p(10)\r\n",
      "Answer: 378\r\n",
      "p(2) p(3) p(5) p(7) p(8) p(10)\r\n",
      "Answer: 379\r\n",
      "p(2) p(3) p(4) p(5) p(7) p(8) p(10)\r\n",
      "Answer: 380\r\n",
      "p(2) p(3) p(7) p(8) p(9) p(10)\r\n",
      "Answer: 381\r\n",
      "p(2) p(3) p(5) p(7) p(8) p(9) p(10)\r\n",
      "Answer: 382\r\n",
      "p(2) p(3) p(4) p(7) p(8) p(9) p(10)\r\n",
      "Answer: 383\r\n",
      "p(2) p(3) p(4) p(5) p(7) p(8) p(9) p(10)\r\n",
      "Answer: 384\r\n",
      "p(2) p(6)\r\n",
      "Answer: 385\r\n",
      "p(2) p(4) p(6)\r\n",
      "Answer: 386\r\n",
      "p(2) p(6) p(8)\r\n",
      "Answer: 387\r\n",
      "p(2) p(4) p(6) p(8)\r\n",
      "Answer: 388\r\n",
      "p(2) p(3) p(6)\r\n",
      "Answer: 389\r\n",
      "p(2) p(3) p(6) p(8)\r\n",
      "Answer: 390\r\n",
      "p(2) p(3) p(4) p(6)\r\n",
      "Answer: 391\r\n",
      "p(2) p(3) p(4) p(6) p(8)\r\n",
      "Answer: 392\r\n",
      "p(2) p(6) p(10)\r\n",
      "Answer: 393\r\n",
      "p(2) p(4) p(6) p(10)\r\n",
      "Answer: 394\r\n",
      "p(2) p(3) p(6) p(10)\r\n",
      "Answer: 395\r\n",
      "p(2) p(3) p(4) p(6) p(10)\r\n",
      "Answer: 396\r\n",
      "p(2) p(6) p(8) p(10)\r\n",
      "Answer: 397\r\n",
      "p(2) p(3) p(6) p(8) p(10)\r\n",
      "Answer: 398\r\n",
      "p(2) p(4) p(6) p(8) p(10)\r\n",
      "Answer: 399\r\n",
      "p(2) p(3) p(4) p(6) p(8) p(10)\r\n",
      "Answer: 400\r\n",
      "p(2) p(6) p(7)\r\n",
      "Answer: 401\r\n",
      "p(2) p(4) p(6) p(7)\r\n",
      "Answer: 402\r\n",
      "p(2) p(6) p(7) p(10)\r\n",
      "Answer: 403\r\n",
      "p(2) p(4) p(6) p(7) p(10)\r\n",
      "Answer: 404\r\n",
      "p(2) p(6) p(7) p(8)\r\n",
      "Answer: 405\r\n",
      "p(2) p(6) p(7) p(8) p(10)\r\n",
      "Answer: 406\r\n",
      "p(2) p(4) p(6) p(7) p(8)\r\n",
      "Answer: 407\r\n",
      "p(2) p(4) p(6) p(7) p(8) p(10)\r\n",
      "Answer: 408\r\n",
      "p(2) p(3) p(6) p(7)\r\n",
      "Answer: 409\r\n",
      "p(2) p(3) p(4) p(6) p(7)\r\n",
      "Answer: 410\r\n",
      "p(2) p(3) p(6) p(7) p(8)\r\n",
      "Answer: 411\r\n",
      "p(2) p(3) p(4) p(6) p(7) p(8)\r\n",
      "Answer: 412\r\n",
      "p(2) p(3) p(6) p(7) p(10)\r\n",
      "Answer: 413\r\n",
      "p(2) p(3) p(6) p(7) p(8) p(10)\r\n",
      "Answer: 414\r\n",
      "p(2) p(3) p(4) p(6) p(7) p(10)\r\n",
      "Answer: 415\r\n",
      "p(2) p(3) p(4) p(6) p(7) p(8) p(10)\r\n",
      "Answer: 416\r\n",
      "p(2) p(6) p(9)\r\n",
      "Answer: 417\r\n",
      "p(2) p(4) p(6) p(9)\r\n",
      "Answer: 418\r\n",
      "p(2) p(6) p(7) p(9)\r\n",
      "Answer: 419\r\n",
      "p(2) p(4) p(6) p(7) p(9)\r\n",
      "Answer: 420\r\n",
      "p(2) p(3) p(6) p(9)\r\n",
      "Answer: 421\r\n",
      "p(2) p(3) p(6) p(7) p(9)\r\n",
      "Answer: 422\r\n",
      "p(2) p(3) p(4) p(6) p(9)\r\n",
      "Answer: 423\r\n",
      "p(2) p(3) p(4) p(6) p(7) p(9)\r\n",
      "Answer: 424\r\n",
      "p(2) p(6) p(9) p(10)\r\n",
      "Answer: 425\r\n",
      "p(2) p(4) p(6) p(9) p(10)\r\n",
      "Answer: 426\r\n",
      "p(2) p(3) p(6) p(9) p(10)\r\n",
      "Answer: 427\r\n",
      "p(2) p(3) p(4) p(6) p(9) p(10)\r\n",
      "Answer: 428\r\n",
      "p(2) p(6) p(7) p(9) p(10)\r\n",
      "Answer: 429\r\n",
      "p(2) p(3) p(6) p(7) p(9) p(10)\r\n",
      "Answer: 430\r\n",
      "p(2) p(4) p(6) p(7) p(9) p(10)\r\n",
      "Answer: 431\r\n",
      "p(2) p(3) p(4) p(6) p(7) p(9) p(10)\r\n",
      "Answer: 432\r\n",
      "p(2) p(6) p(8) p(9)\r\n",
      "Answer: 433\r\n",
      "p(2) p(4) p(6) p(8) p(9)\r\n",
      "Answer: 434\r\n",
      "p(2) p(6) p(8) p(9) p(10)\r\n",
      "Answer: 435\r\n",
      "p(2) p(4) p(6) p(8) p(9) p(10)\r\n",
      "Answer: 436\r\n",
      "p(2) p(6) p(7) p(8) p(9)\r\n",
      "Answer: 437\r\n",
      "p(2) p(6) p(7) p(8) p(9) p(10)\r\n",
      "Answer: 438\r\n",
      "p(2) p(4) p(6) p(7) p(8) p(9)\r\n",
      "Answer: 439\r\n",
      "p(2) p(4) p(6) p(7) p(8) p(9) p(10)\r\n",
      "Answer: 440\r\n",
      "p(2) p(3) p(6) p(8) p(9)\r\n",
      "Answer: 441\r\n",
      "p(2) p(3) p(4) p(6) p(8) p(9)\r\n",
      "Answer: 442\r\n",
      "p(2) p(3) p(6) p(7) p(8) p(9)\r\n",
      "Answer: 443\r\n",
      "p(2) p(3) p(4) p(6) p(7) p(8) p(9)\r\n",
      "Answer: 444\r\n",
      "p(2) p(3) p(6) p(8) p(9) p(10)\r\n",
      "Answer: 445\r\n",
      "p(2) p(3) p(6) p(7) p(8) p(9) p(10)\r\n",
      "Answer: 446\r\n",
      "p(2) p(3) p(4) p(6) p(8) p(9) p(10)\r\n",
      "Answer: 447\r\n",
      "p(2) p(3) p(4) p(6) p(7) p(8) p(9) p(10)\r\n",
      "Answer: 448\r\n",
      "p(2) p(5) p(6)\r\n",
      "Answer: 449\r\n",
      "p(2) p(4) p(5) p(6)\r\n",
      "Answer: 450\r\n",
      "p(2) p(5) p(6) p(9)\r\n",
      "Answer: 451\r\n",
      "p(2) p(4) p(5) p(6) p(9)\r\n",
      "Answer: 452\r\n",
      "p(2) p(5) p(6) p(8)\r\n",
      "Answer: 453\r\n",
      "p(2) p(5) p(6) p(8) p(9)\r\n",
      "Answer: 454\r\n",
      "p(2) p(4) p(5) p(6) p(8)\r\n",
      "Answer: 455\r\n",
      "p(2) p(4) p(5) p(6) p(8) p(9)\r\n",
      "Answer: 456\r\n",
      "p(2) p(3) p(5) p(6)\r\n",
      "Answer: 457\r\n",
      "p(2) p(3) p(4) p(5) p(6)\r\n",
      "Answer: 458\r\n",
      "p(2) p(3) p(5) p(6) p(8)\r\n",
      "Answer: 459\r\n",
      "p(2) p(3) p(4) p(5) p(6) p(8)\r\n",
      "Answer: 460\r\n",
      "p(2) p(3) p(5) p(6) p(9)\r\n",
      "Answer: 461\r\n",
      "p(2) p(3) p(5) p(6) p(8) p(9)\r\n",
      "Answer: 462\r\n",
      "p(2) p(3) p(4) p(5) p(6) p(9)\r\n",
      "Answer: 463\r\n",
      "p(2) p(3) p(4) p(5) p(6) p(8) p(9)\r\n",
      "Answer: 464\r\n",
      "p(2) p(5) p(6) p(10)\r\n",
      "Answer: 465\r\n",
      "p(2) p(4) p(5) p(6) p(10)\r\n",
      "Answer: 466\r\n",
      "p(2) p(3) p(5) p(6) p(10)\r\n",
      "Answer: 467\r\n",
      "p(2) p(3) p(4) p(5) p(6) p(10)\r\n",
      "Answer: 468\r\n",
      "p(2) p(5) p(6) p(9) p(10)\r\n",
      "Answer: 469\r\n",
      "p(2) p(3) p(5) p(6) p(9) p(10)\r\n",
      "Answer: 470\r\n",
      "p(2) p(4) p(5) p(6) p(9) p(10)\r\n",
      "Answer: 471\r\n",
      "p(2) p(3) p(4) p(5) p(6) p(9) p(10)\r\n",
      "Answer: 472\r\n",
      "p(2) p(5) p(6) p(8) p(10)\r\n",
      "Answer: 473\r\n",
      "p(2) p(4) p(5) p(6) p(8) p(10)\r\n",
      "Answer: 474\r\n",
      "p(2) p(5) p(6) p(8) p(9) p(10)\r\n",
      "Answer: 475\r\n",
      "p(2) p(4) p(5) p(6) p(8) p(9) p(10)\r\n",
      "Answer: 476\r\n",
      "p(2) p(3) p(5) p(6) p(8) p(10)\r\n",
      "Answer: 477\r\n",
      "p(2) p(3) p(5) p(6) p(8) p(9) p(10)\r\n",
      "Answer: 478\r\n",
      "p(2) p(3) p(4) p(5) p(6) p(8) p(10)\r\n",
      "Answer: 479\r\n",
      "p(2) p(3) p(4) p(5) p(6) p(8) p(9) p(10)\r\n",
      "Answer: 480\r\n",
      "p(2) p(5) p(6) p(7)\r\n",
      "Answer: 481\r\n",
      "p(2) p(4) p(5) p(6) p(7)\r\n",
      "Answer: 482\r\n",
      "p(2) p(5) p(6) p(7) p(10)\r\n",
      "Answer: 483\r\n",
      "p(2) p(4) p(5) p(6) p(7) p(10)\r\n",
      "Answer: 484\r\n",
      "p(2) p(5) p(6) p(7) p(8)\r\n",
      "Answer: 485\r\n",
      "p(2) p(5) p(6) p(7) p(8) p(10)\r\n",
      "Answer: 486\r\n",
      "p(2) p(4) p(5) p(6) p(7) p(8)\r\n",
      "Answer: 487\r\n",
      "p(2) p(4) p(5) p(6) p(7) p(8) p(10)\r\n",
      "Answer: 488\r\n",
      "p(2) p(3) p(5) p(6) p(7)\r\n",
      "Answer: 489\r\n",
      "p(2) p(3) p(4) p(5) p(6) p(7)\r\n",
      "Answer: 490\r\n",
      "p(2) p(3) p(5) p(6) p(7) p(8)\r\n",
      "Answer: 491\r\n",
      "p(2) p(3) p(4) p(5) p(6) p(7) p(8)\r\n",
      "Answer: 492\r\n",
      "p(2) p(3) p(5) p(6) p(7) p(10)\r\n",
      "Answer: 493\r\n",
      "p(2) p(3) p(5) p(6) p(7) p(8) p(10)\r\n",
      "Answer: 494\r\n",
      "p(2) p(3) p(4) p(5) p(6) p(7) p(10)\r\n",
      "Answer: 495\r\n",
      "p(2) p(3) p(4) p(5) p(6) p(7) p(8) p(10)\r\n",
      "Answer: 496\r\n",
      "p(2) p(5) p(6) p(7) p(9)\r\n",
      "Answer: 497\r\n",
      "p(2) p(4) p(5) p(6) p(7) p(9)\r\n",
      "Answer: 498\r\n",
      "p(2) p(3) p(5) p(6) p(7) p(9)\r\n",
      "Answer: 499\r\n",
      "p(2) p(3) p(4) p(5) p(6) p(7) p(9)\r\n",
      "Answer: 500\r\n",
      "p(2) p(5) p(6) p(7) p(9) p(10)\r\n",
      "Answer: 501\r\n",
      "p(2) p(3) p(5) p(6) p(7) p(9) p(10)\r\n",
      "Answer: 502\r\n",
      "p(2) p(4) p(5) p(6) p(7) p(9) p(10)\r\n",
      "Answer: 503\r\n",
      "p(2) p(3) p(4) p(5) p(6) p(7) p(9) p(10)\r\n",
      "Answer: 504\r\n",
      "p(2) p(5) p(6) p(7) p(8) p(9)\r\n",
      "Answer: 505\r\n",
      "p(2) p(4) p(5) p(6) p(7) p(8) p(9)\r\n",
      "Answer: 506\r\n",
      "p(2) p(5) p(6) p(7) p(8) p(9) p(10)\r\n",
      "Answer: 507\r\n",
      "p(2) p(4) p(5) p(6) p(7) p(8) p(9) p(10)\r\n",
      "Answer: 508\r\n",
      "p(2) p(3) p(5) p(6) p(7) p(8) p(9)\r\n",
      "Answer: 509\r\n",
      "p(2) p(3) p(5) p(6) p(7) p(8) p(9) p(10)\r\n",
      "Answer: 510\r\n",
      "p(2) p(3) p(4) p(5) p(6) p(7) p(8) p(9)\r\n",
      "Answer: 511\r\n",
      "p(2) p(3) p(4) p(5) p(6) p(7) p(8) p(9) p(10)\r\n",
      "Answer: 512\r\n",
      "p(1)\r\n",
      "Answer: 513\r\n",
      "p(1) p(3)\r\n",
      "Answer: 514\r\n",
      "p(1) p(10)\r\n",
      "Answer: 515\r\n",
      "p(1) p(3) p(10)\r\n",
      "Answer: 516\r\n",
      "p(1) p(4)\r\n",
      "Answer: 517\r\n",
      "p(1) p(4) p(10)\r\n",
      "Answer: 518\r\n",
      "p(1) p(3) p(4)\r\n",
      "Answer: 519\r\n",
      "p(1) p(3) p(4) p(10)\r\n",
      "Answer: 520\r\n",
      "p(1) p(6)\r\n",
      "Answer: 521\r\n",
      "p(1) p(3) p(6)\r\n",
      "Answer: 522\r\n",
      "p(1) p(4) p(6)\r\n",
      "Answer: 523\r\n",
      "p(1) p(3) p(4) p(6)\r\n",
      "Answer: 524\r\n",
      "p(1) p(6) p(10)\r\n",
      "Answer: 525\r\n",
      "p(1) p(4) p(6) p(10)\r\n",
      "Answer: 526\r\n",
      "p(1) p(3) p(6) p(10)\r\n",
      "Answer: 527\r\n",
      "p(1) p(3) p(4) p(6) p(10)\r\n",
      "Answer: 528\r\n",
      "p(1) p(5)\r\n",
      "Answer: 529\r\n",
      "p(1) p(3) p(5)\r\n",
      "Answer: 530\r\n",
      "p(1) p(5) p(6)\r\n",
      "Answer: 531\r\n",
      "p(1) p(3) p(5) p(6)\r\n",
      "Answer: 532\r\n",
      "p(1) p(5) p(10)\r\n",
      "Answer: 533\r\n",
      "p(1) p(5) p(6) p(10)\r\n",
      "Answer: 534\r\n",
      "p(1) p(3) p(5) p(10)\r\n",
      "Answer: 535\r\n",
      "p(1) p(3) p(5) p(6) p(10)\r\n",
      "Answer: 536\r\n",
      "p(1) p(4) p(5)\r\n",
      "Answer: 537\r\n",
      "p(1) p(3) p(4) p(5)\r\n",
      "Answer: 538\r\n",
      "p(1) p(4) p(5) p(10)\r\n",
      "Answer: 539\r\n",
      "p(1) p(3) p(4) p(5) p(10)\r\n",
      "Answer: 540\r\n",
      "p(1) p(4) p(5) p(6)\r\n",
      "Answer: 541\r\n",
      "p(1) p(4) p(5) p(6) p(10)\r\n",
      "Answer: 542\r\n",
      "p(1) p(3) p(4) p(5) p(6)\r\n",
      "Answer: 543\r\n",
      "p(1) p(3) p(4) p(5) p(6) p(10)\r\n",
      "Answer: 544\r\n",
      "p(1) p(7)\r\n",
      "Answer: 545\r\n",
      "p(1) p(3) p(7)\r\n",
      "Answer: 546\r\n",
      "p(1) p(5) p(7)\r\n",
      "Answer: 547\r\n",
      "p(1) p(3) p(5) p(7)\r\n",
      "Answer: 548\r\n",
      "p(1) p(4) p(7)\r\n",
      "Answer: 549\r\n",
      "p(1) p(4) p(5) p(7)\r\n",
      "Answer: 550\r\n",
      "p(1) p(3) p(4) p(7)\r\n",
      "Answer: 551\r\n",
      "p(1) p(3) p(4) p(5) p(7)\r\n",
      "Answer: 552\r\n",
      "p(1) p(6) p(7)\r\n",
      "Answer: 553\r\n",
      "p(1) p(3) p(6) p(7)\r\n",
      "Answer: 554\r\n",
      "p(1) p(4) p(6) p(7)\r\n",
      "Answer: 555\r\n",
      "p(1) p(3) p(4) p(6) p(7)\r\n",
      "Answer: 556\r\n",
      "p(1) p(5) p(6) p(7)\r\n",
      "Answer: 557\r\n",
      "p(1) p(4) p(5) p(6) p(7)\r\n",
      "Answer: 558\r\n",
      "p(1) p(3) p(5) p(6) p(7)\r\n",
      "Answer: 559\r\n",
      "p(1) p(3) p(4) p(5) p(6) p(7)\r\n",
      "Answer: 560\r\n",
      "p(1) p(7) p(10)\r\n",
      "Answer: 561\r\n",
      "p(1) p(3) p(7) p(10)\r\n",
      "Answer: 562\r\n",
      "p(1) p(6) p(7) p(10)\r\n",
      "Answer: 563\r\n",
      "p(1) p(3) p(6) p(7) p(10)\r\n",
      "Answer: 564\r\n",
      "p(1) p(5) p(7) p(10)\r\n",
      "Answer: 565\r\n",
      "p(1) p(5) p(6) p(7) p(10)\r\n",
      "Answer: 566\r\n",
      "p(1) p(3) p(5) p(7) p(10)\r\n",
      "Answer: 567\r\n",
      "p(1) p(3) p(5) p(6) p(7) p(10)\r\n",
      "Answer: 568\r\n",
      "p(1) p(4) p(7) p(10)\r\n",
      "Answer: 569\r\n",
      "p(1) p(3) p(4) p(7) p(10)\r\n",
      "Answer: 570\r\n",
      "p(1) p(4) p(5) p(7) p(10)\r\n",
      "Answer: 571\r\n",
      "p(1) p(3) p(4) p(5) p(7) p(10)\r\n",
      "Answer: 572\r\n",
      "p(1) p(4) p(6) p(7) p(10)\r\n",
      "Answer: 573\r\n",
      "p(1) p(4) p(5) p(6) p(7) p(10)\r\n",
      "Answer: 574\r\n",
      "p(1) p(3) p(4) p(6) p(7) p(10)\r\n",
      "Answer: 575\r\n",
      "p(1) p(3) p(4) p(5) p(6) p(7) p(10)\r\n",
      "Answer: 576\r\n",
      "p(1) p(9)\r\n",
      "Answer: 577\r\n",
      "p(1) p(3) p(9)\r\n",
      "Answer: 578\r\n",
      "p(1) p(7) p(9)\r\n",
      "Answer: 579\r\n",
      "p(1) p(3) p(7) p(9)\r\n",
      "Answer: 580\r\n",
      "p(1) p(9) p(10)\r\n",
      "Answer: 581\r\n",
      "p(1) p(7) p(9) p(10)\r\n",
      "Answer: 582\r\n",
      "p(1) p(3) p(9) p(10)\r\n",
      "Answer: 583\r\n",
      "p(1) p(3) p(7) p(9) p(10)\r\n",
      "Answer: 584\r\n",
      "p(1) p(4) p(9)\r\n",
      "Answer: 585\r\n",
      "p(1) p(3) p(4) p(9)\r\n",
      "Answer: 586\r\n",
      "p(1) p(4) p(9) p(10)\r\n",
      "Answer: 587\r\n",
      "p(1) p(3) p(4) p(9) p(10)\r\n",
      "Answer: 588\r\n",
      "p(1) p(4) p(7) p(9)\r\n",
      "Answer: 589\r\n",
      "p(1) p(4) p(7) p(9) p(10)\r\n",
      "Answer: 590\r\n",
      "p(1) p(3) p(4) p(7) p(9)\r\n",
      "Answer: 591\r\n",
      "p(1) p(3) p(4) p(7) p(9) p(10)\r\n",
      "Answer: 592\r\n",
      "p(1) p(6) p(9)\r\n",
      "Answer: 593\r\n",
      "p(1) p(3) p(6) p(9)\r\n",
      "Answer: 594\r\n",
      "p(1) p(4) p(6) p(9)\r\n",
      "Answer: 595\r\n",
      "p(1) p(3) p(4) p(6) p(9)\r\n",
      "Answer: 596\r\n",
      "p(1) p(6) p(7) p(9)\r\n",
      "Answer: 597\r\n",
      "p(1) p(4) p(6) p(7) p(9)\r\n",
      "Answer: 598\r\n",
      "p(1) p(3) p(6) p(7) p(9)\r\n",
      "Answer: 599\r\n",
      "p(1) p(3) p(4) p(6) p(7) p(9)\r\n",
      "Answer: 600\r\n",
      "p(1) p(6) p(9) p(10)\r\n",
      "Answer: 601\r\n",
      "p(1) p(3) p(6) p(9) p(10)\r\n",
      "Answer: 602\r\n",
      "p(1) p(6) p(7) p(9) p(10)\r\n",
      "Answer: 603\r\n",
      "p(1) p(3) p(6) p(7) p(9) p(10)\r\n",
      "Answer: 604\r\n",
      "p(1) p(4) p(6) p(9) p(10)\r\n",
      "Answer: 605\r\n",
      "p(1) p(4) p(6) p(7) p(9) p(10)\r\n",
      "Answer: 606\r\n",
      "p(1) p(3) p(4) p(6) p(9) p(10)\r\n",
      "Answer: 607\r\n",
      "p(1) p(3) p(4) p(6) p(7) p(9) p(10)\r\n",
      "Answer: 608\r\n",
      "p(1) p(5) p(9)\r\n",
      "Answer: 609\r\n",
      "p(1) p(3) p(5) p(9)\r\n",
      "Answer: 610\r\n",
      "p(1) p(5) p(6) p(9)\r\n",
      "Answer: 611\r\n",
      "p(1) p(3) p(5) p(6) p(9)\r\n",
      "Answer: 612\r\n",
      "p(1) p(5) p(9) p(10)\r\n",
      "Answer: 613\r\n",
      "p(1) p(5) p(6) p(9) p(10)\r\n",
      "Answer: 614\r\n",
      "p(1) p(3) p(5) p(9) p(10)\r\n",
      "Answer: 615\r\n",
      "p(1) p(3) p(5) p(6) p(9) p(10)\r\n",
      "Answer: 616\r\n",
      "p(1) p(4) p(5) p(9)\r\n",
      "Answer: 617\r\n",
      "p(1) p(3) p(4) p(5) p(9)\r\n",
      "Answer: 618\r\n",
      "p(1) p(4) p(5) p(9) p(10)\r\n",
      "Answer: 619\r\n",
      "p(1) p(3) p(4) p(5) p(9) p(10)\r\n",
      "Answer: 620\r\n",
      "p(1) p(4) p(5) p(6) p(9)\r\n",
      "Answer: 621\r\n",
      "p(1) p(4) p(5) p(6) p(9) p(10)\r\n",
      "Answer: 622\r\n",
      "p(1) p(3) p(4) p(5) p(6) p(9)\r\n",
      "Answer: 623\r\n",
      "p(1) p(3) p(4) p(5) p(6) p(9) p(10)\r\n",
      "Answer: 624\r\n",
      "p(1) p(5) p(7) p(9)\r\n",
      "Answer: 625\r\n",
      "p(1) p(3) p(5) p(7) p(9)\r\n",
      "Answer: 626\r\n",
      "p(1) p(4) p(5) p(7) p(9)\r\n",
      "Answer: 627\r\n",
      "p(1) p(3) p(4) p(5) p(7) p(9)\r\n",
      "Answer: 628\r\n",
      "p(1) p(5) p(6) p(7) p(9)\r\n",
      "Answer: 629\r\n",
      "p(1) p(4) p(5) p(6) p(7) p(9)\r\n",
      "Answer: 630\r\n",
      "p(1) p(3) p(5) p(6) p(7) p(9)\r\n",
      "Answer: 631\r\n",
      "p(1) p(3) p(4) p(5) p(6) p(7) p(9)\r\n",
      "Answer: 632\r\n",
      "p(1) p(5) p(7) p(9) p(10)\r\n",
      "Answer: 633\r\n",
      "p(1) p(3) p(5) p(7) p(9) p(10)\r\n",
      "Answer: 634\r\n",
      "p(1) p(5) p(6) p(7) p(9) p(10)\r\n",
      "Answer: 635\r\n",
      "p(1) p(3) p(5) p(6) p(7) p(9) p(10)\r\n",
      "Answer: 636\r\n",
      "p(1) p(4) p(5) p(7) p(9) p(10)\r\n",
      "Answer: 637\r\n",
      "p(1) p(4) p(5) p(6) p(7) p(9) p(10)\r\n",
      "Answer: 638\r\n",
      "p(1) p(3) p(4) p(5) p(7) p(9) p(10)\r\n",
      "Answer: 639\r\n",
      "p(1) p(3) p(4) p(5) p(6) p(7) p(9) p(10)\r\n",
      "Answer: 640\r\n",
      "p(1) p(8)\r\n",
      "Answer: 641\r\n",
      "p(1) p(3) p(8)\r\n",
      "Answer: 642\r\n",
      "p(1) p(8) p(9)\r\n",
      "Answer: 643\r\n",
      "p(1) p(3) p(8) p(9)\r\n",
      "Answer: 644\r\n",
      "p(1) p(5) p(8)\r\n",
      "Answer: 645\r\n",
      "p(1) p(5) p(8) p(9)\r\n",
      "Answer: 646\r\n",
      "p(1) p(3) p(5) p(8)\r\n",
      "Answer: 647\r\n",
      "p(1) p(3) p(5) p(8) p(9)\r\n",
      "Answer: 648\r\n",
      "p(1) p(7) p(8)\r\n",
      "Answer: 649\r\n",
      "p(1) p(3) p(7) p(8)\r\n",
      "Answer: 650\r\n",
      "p(1) p(5) p(7) p(8)\r\n",
      "Answer: 651\r\n",
      "p(1) p(3) p(5) p(7) p(8)\r\n",
      "Answer: 652\r\n",
      "p(1) p(7) p(8) p(9)\r\n",
      "Answer: 653\r\n",
      "p(1) p(5) p(7) p(8) p(9)\r\n",
      "Answer: 654\r\n",
      "p(1) p(3) p(7) p(8) p(9)\r\n",
      "Answer: 655\r\n",
      "p(1) p(3) p(5) p(7) p(8) p(9)\r\n",
      "Answer: 656\r\n",
      "p(1) p(8) p(10)\r\n",
      "Answer: 657\r\n",
      "p(1) p(3) p(8) p(10)\r\n",
      "Answer: 658\r\n",
      "p(1) p(7) p(8) p(10)\r\n",
      "Answer: 659\r\n",
      "p(1) p(3) p(7) p(8) p(10)\r\n",
      "Answer: 660\r\n",
      "p(1) p(8) p(9) p(10)\r\n",
      "Answer: 661\r\n",
      "p(1) p(7) p(8) p(9) p(10)\r\n",
      "Answer: 662\r\n",
      "p(1) p(3) p(8) p(9) p(10)\r\n",
      "Answer: 663\r\n",
      "p(1) p(3) p(7) p(8) p(9) p(10)\r\n",
      "Answer: 664\r\n",
      "p(1) p(5) p(8) p(10)\r\n",
      "Answer: 665\r\n",
      "p(1) p(3) p(5) p(8) p(10)\r\n",
      "Answer: 666\r\n",
      "p(1) p(5) p(8) p(9) p(10)\r\n",
      "Answer: 667\r\n",
      "p(1) p(3) p(5) p(8) p(9) p(10)\r\n",
      "Answer: 668\r\n",
      "p(1) p(5) p(7) p(8) p(10)\r\n",
      "Answer: 669\r\n",
      "p(1) p(5) p(7) p(8) p(9) p(10)\r\n",
      "Answer: 670\r\n",
      "p(1) p(3) p(5) p(7) p(8) p(10)\r\n",
      "Answer: 671\r\n",
      "p(1) p(3) p(5) p(7) p(8) p(9) p(10)\r\n",
      "Answer: 672\r\n",
      "p(1) p(4) p(8)\r\n",
      "Answer: 673\r\n",
      "p(1) p(3) p(4) p(8)\r\n",
      "Answer: 674\r\n",
      "p(1) p(4) p(8) p(10)\r\n",
      "Answer: 675\r\n",
      "p(1) p(3) p(4) p(8) p(10)\r\n",
      "Answer: 676\r\n",
      "p(1) p(4) p(5) p(8)\r\n",
      "Answer: 677\r\n",
      "p(1) p(4) p(5) p(8) p(10)\r\n",
      "Answer: 678\r\n",
      "p(1) p(3) p(4) p(5) p(8)\r\n",
      "Answer: 679\r\n",
      "p(1) p(3) p(4) p(5) p(8) p(10)\r\n",
      "Answer: 680\r\n",
      "p(1) p(4) p(7) p(8)\r\n",
      "Answer: 681\r\n",
      "p(1) p(3) p(4) p(7) p(8)\r\n",
      "Answer: 682\r\n",
      "p(1) p(4) p(5) p(7) p(8)\r\n",
      "Answer: 683\r\n",
      "p(1) p(3) p(4) p(5) p(7) p(8)\r\n",
      "Answer: 684\r\n",
      "p(1) p(4) p(7) p(8) p(10)\r\n",
      "Answer: 685\r\n",
      "p(1) p(4) p(5) p(7) p(8) p(10)\r\n",
      "Answer: 686\r\n",
      "p(1) p(3) p(4) p(7) p(8) p(10)\r\n",
      "Answer: 687\r\n",
      "p(1) p(3) p(4) p(5) p(7) p(8) p(10)\r\n",
      "Answer: 688\r\n",
      "p(1) p(4) p(8) p(9)\r\n",
      "Answer: 689\r\n",
      "p(1) p(3) p(4) p(8) p(9)\r\n",
      "Answer: 690\r\n",
      "p(1) p(4) p(7) p(8) p(9)\r\n",
      "Answer: 691\r\n",
      "p(1) p(3) p(4) p(7) p(8) p(9)\r\n",
      "Answer: 692\r\n",
      "p(1) p(4) p(8) p(9) p(10)\r\n",
      "Answer: 693\r\n",
      "p(1) p(4) p(7) p(8) p(9) p(10)\r\n",
      "Answer: 694\r\n",
      "p(1) p(3) p(4) p(8) p(9) p(10)\r\n",
      "Answer: 695\r\n",
      "p(1) p(3) p(4) p(7) p(8) p(9) p(10)\r\n",
      "Answer: 696\r\n",
      "p(1) p(4) p(5) p(8) p(9)\r\n",
      "Answer: 697\r\n",
      "p(1) p(3) p(4) p(5) p(8) p(9)\r\n",
      "Answer: 698\r\n",
      "p(1) p(4) p(5) p(8) p(9) p(10)\r\n",
      "Answer: 699\r\n",
      "p(1) p(3) p(4) p(5) p(8) p(9) p(10)\r\n",
      "Answer: 700\r\n",
      "p(1) p(4) p(5) p(7) p(8) p(9)\r\n",
      "Answer: 701\r\n",
      "p(1) p(4) p(5) p(7) p(8) p(9) p(10)\r\n",
      "Answer: 702\r\n",
      "p(1) p(3) p(4) p(5) p(7) p(8) p(9)\r\n",
      "Answer: 703\r\n",
      "p(1) p(3) p(4) p(5) p(7) p(8) p(9) p(10)\r\n",
      "Answer: 704\r\n",
      "p(1) p(6) p(8)\r\n",
      "Answer: 705\r\n",
      "p(1) p(3) p(6) p(8)\r\n",
      "Answer: 706\r\n",
      "p(1) p(4) p(6) p(8)\r\n",
      "Answer: 707\r\n",
      "p(1) p(3) p(4) p(6) p(8)\r\n",
      "Answer: 708\r\n",
      "p(1) p(6) p(8) p(9)\r\n",
      "Answer: 709\r\n",
      "p(1) p(4) p(6) p(8) p(9)\r\n",
      "Answer: 710\r\n",
      "p(1) p(3) p(6) p(8) p(9)\r\n",
      "Answer: 711\r\n",
      "p(1) p(3) p(4) p(6) p(8) p(9)\r\n",
      "Answer: 712\r\n",
      "p(1) p(5) p(6) p(8)\r\n",
      "Answer: 713\r\n",
      "p(1) p(3) p(5) p(6) p(8)\r\n",
      "Answer: 714\r\n",
      "p(1) p(5) p(6) p(8) p(9)\r\n",
      "Answer: 715\r\n",
      "p(1) p(3) p(5) p(6) p(8) p(9)\r\n",
      "Answer: 716\r\n",
      "p(1) p(4) p(5) p(6) p(8)\r\n",
      "Answer: 717\r\n",
      "p(1) p(4) p(5) p(6) p(8) p(9)\r\n",
      "Answer: 718\r\n",
      "p(1) p(3) p(4) p(5) p(6) p(8)\r\n",
      "Answer: 719\r\n",
      "p(1) p(3) p(4) p(5) p(6) p(8) p(9)\r\n",
      "Answer: 720\r\n",
      "p(1) p(6) p(7) p(8)\r\n",
      "Answer: 721\r\n",
      "p(1) p(3) p(6) p(7) p(8)\r\n",
      "Answer: 722\r\n",
      "p(1) p(5) p(6) p(7) p(8)\r\n",
      "Answer: 723\r\n",
      "p(1) p(3) p(5) p(6) p(7) p(8)\r\n",
      "Answer: 724\r\n",
      "p(1) p(4) p(6) p(7) p(8)\r\n",
      "Answer: 725\r\n",
      "p(1) p(4) p(5) p(6) p(7) p(8)\r\n",
      "Answer: 726\r\n",
      "p(1) p(3) p(4) p(6) p(7) p(8)\r\n",
      "Answer: 727\r\n",
      "p(1) p(3) p(4) p(5) p(6) p(7) p(8)\r\n",
      "Answer: 728\r\n",
      "p(1) p(6) p(7) p(8) p(9)\r\n",
      "Answer: 729\r\n",
      "p(1) p(3) p(6) p(7) p(8) p(9)\r\n",
      "Answer: 730\r\n",
      "p(1) p(4) p(6) p(7) p(8) p(9)\r\n",
      "Answer: 731\r\n",
      "p(1) p(3) p(4) p(6) p(7) p(8) p(9)\r\n",
      "Answer: 732\r\n",
      "p(1) p(5) p(6) p(7) p(8) p(9)\r\n",
      "Answer: 733\r\n",
      "p(1) p(4) p(5) p(6) p(7) p(8) p(9)\r\n",
      "Answer: 734\r\n",
      "p(1) p(3) p(5) p(6) p(7) p(8) p(9)\r\n",
      "Answer: 735\r\n",
      "p(1) p(3) p(4) p(5) p(6) p(7) p(8) p(9)\r\n",
      "Answer: 736\r\n",
      "p(1) p(6) p(8) p(10)\r\n",
      "Answer: 737\r\n",
      "p(1) p(3) p(6) p(8) p(10)\r\n",
      "Answer: 738\r\n",
      "p(1) p(6) p(7) p(8) p(10)\r\n",
      "Answer: 739\r\n",
      "p(1) p(3) p(6) p(7) p(8) p(10)\r\n",
      "Answer: 740\r\n",
      "p(1) p(6) p(8) p(9) p(10)\r\n",
      "Answer: 741\r\n",
      "p(1) p(6) p(7) p(8) p(9) p(10)\r\n",
      "Answer: 742\r\n",
      "p(1) p(3) p(6) p(8) p(9) p(10)\r\n",
      "Answer: 743\r\n",
      "p(1) p(3) p(6) p(7) p(8) p(9) p(10)\r\n",
      "Answer: 744\r\n",
      "p(1) p(5) p(6) p(8) p(10)\r\n",
      "Answer: 745\r\n",
      "p(1) p(3) p(5) p(6) p(8) p(10)\r\n",
      "Answer: 746\r\n",
      "p(1) p(5) p(6) p(8) p(9) p(10)\r\n",
      "Answer: 747\r\n",
      "p(1) p(3) p(5) p(6) p(8) p(9) p(10)\r\n",
      "Answer: 748\r\n",
      "p(1) p(5) p(6) p(7) p(8) p(10)\r\n",
      "Answer: 749\r\n",
      "p(1) p(5) p(6) p(7) p(8) p(9) p(10)\r\n",
      "Answer: 750\r\n",
      "p(1) p(3) p(5) p(6) p(7) p(8) p(10)\r\n",
      "Answer: 751\r\n",
      "p(1) p(3) p(5) p(6) p(7) p(8) p(9) p(10)\r\n",
      "Answer: 752\r\n",
      "p(1) p(4) p(6) p(8) p(10)\r\n",
      "Answer: 753\r\n",
      "p(1) p(3) p(4) p(6) p(8) p(10)\r\n",
      "Answer: 754\r\n",
      "p(1) p(4) p(5) p(6) p(8) p(10)\r\n",
      "Answer: 755\r\n",
      "p(1) p(3) p(4) p(5) p(6) p(8) p(10)\r\n",
      "Answer: 756\r\n",
      "p(1) p(4) p(6) p(7) p(8) p(10)\r\n",
      "Answer: 757\r\n",
      "p(1) p(4) p(5) p(6) p(7) p(8) p(10)\r\n",
      "Answer: 758\r\n",
      "p(1) p(3) p(4) p(6) p(7) p(8) p(10)\r\n",
      "Answer: 759\r\n",
      "p(1) p(3) p(4) p(5) p(6) p(7) p(8) p(10)\r\n",
      "Answer: 760\r\n",
      "p(1) p(4) p(6) p(8) p(9) p(10)\r\n",
      "Answer: 761\r\n",
      "p(1) p(3) p(4) p(6) p(8) p(9) p(10)\r\n",
      "Answer: 762\r\n",
      "p(1) p(4) p(6) p(7) p(8) p(9) p(10)\r\n",
      "Answer: 763\r\n",
      "p(1) p(3) p(4) p(6) p(7) p(8) p(9) p(10)\r\n",
      "Answer: 764\r\n",
      "p(1) p(4) p(5) p(6) p(8) p(9) p(10)\r\n",
      "Answer: 765\r\n",
      "p(1) p(4) p(5) p(6) p(7) p(8) p(9) p(10)\r\n",
      "Answer: 766\r\n",
      "p(1) p(3) p(4) p(5) p(6) p(8) p(9) p(10)\r\n",
      "Answer: 767\r\n",
      "p(1) p(3) p(4) p(5) p(6) p(7) p(8) p(9) p(10)\r\n",
      "Answer: 768\r\n",
      "p(1) p(2)\r\n",
      "Answer: 769\r\n",
      "p(1) p(2) p(3)\r\n",
      "Answer: 770\r\n",
      "p(1) p(2) p(7)\r\n",
      "Answer: 771\r\n",
      "p(1) p(2) p(3) p(7)\r\n",
      "Answer: 772\r\n",
      "p(1) p(2) p(8)\r\n",
      "Answer: 773\r\n",
      "p(1) p(2) p(7) p(8)\r\n",
      "Answer: 774\r\n",
      "p(1) p(2) p(3) p(8)\r\n",
      "Answer: 775\r\n",
      "p(1) p(2) p(3) p(7) p(8)\r\n",
      "Answer: 776\r\n",
      "p(1) p(2) p(6)\r\n",
      "Answer: 777\r\n",
      "p(1) p(2) p(3) p(6)\r\n",
      "Answer: 778\r\n",
      "p(1) p(2) p(6) p(8)\r\n",
      "Answer: 779\r\n",
      "p(1) p(2) p(3) p(6) p(8)\r\n",
      "Answer: 780\r\n",
      "p(1) p(2) p(6) p(7)\r\n",
      "Answer: 781\r\n",
      "p(1) p(2) p(6) p(7) p(8)\r\n",
      "Answer: 782\r\n",
      "p(1) p(2) p(3) p(6) p(7)\r\n",
      "Answer: 783\r\n",
      "p(1) p(2) p(3) p(6) p(7) p(8)\r\n",
      "Answer: 784\r\n",
      "p(1) p(2) p(10)\r\n",
      "Answer: 785\r\n",
      "p(1) p(2) p(3) p(10)\r\n",
      "Answer: 786\r\n",
      "p(1) p(2) p(6) p(10)\r\n",
      "Answer: 787\r\n",
      "p(1) p(2) p(3) p(6) p(10)\r\n",
      "Answer: 788\r\n",
      "p(1) p(2) p(7) p(10)\r\n",
      "Answer: 789\r\n",
      "p(1) p(2) p(6) p(7) p(10)\r\n",
      "Answer: 790\r\n",
      "p(1) p(2) p(3) p(7) p(10)\r\n",
      "Answer: 791\r\n",
      "p(1) p(2) p(3) p(6) p(7) p(10)\r\n",
      "Answer: 792\r\n",
      "p(1) p(2) p(8) p(10)\r\n",
      "Answer: 793\r\n",
      "p(1) p(2) p(3) p(8) p(10)\r\n",
      "Answer: 794\r\n",
      "p(1) p(2) p(7) p(8) p(10)\r\n",
      "Answer: 795\r\n",
      "p(1) p(2) p(3) p(7) p(8) p(10)\r\n",
      "Answer: 796\r\n",
      "p(1) p(2) p(6) p(8) p(10)\r\n",
      "Answer: 797\r\n",
      "p(1) p(2) p(6) p(7) p(8) p(10)\r\n",
      "Answer: 798\r\n",
      "p(1) p(2) p(3) p(6) p(8) p(10)\r\n",
      "Answer: 799\r\n",
      "p(1) p(2) p(3) p(6) p(7) p(8) p(10)\r\n",
      "Answer: 800\r\n",
      "p(1) p(2) p(4)\r\n",
      "Answer: 801\r\n",
      "p(1) p(2) p(3) p(4)\r\n",
      "Answer: 802\r\n",
      "p(1) p(2) p(4) p(10)\r\n",
      "Answer: 803\r\n",
      "p(1) p(2) p(3) p(4) p(10)\r\n",
      "Answer: 804\r\n",
      "p(1) p(2) p(4) p(8)\r\n",
      "Answer: 805\r\n",
      "p(1) p(2) p(4) p(8) p(10)\r\n",
      "Answer: 806\r\n",
      "p(1) p(2) p(3) p(4) p(8)\r\n",
      "Answer: 807\r\n",
      "p(1) p(2) p(3) p(4) p(8) p(10)\r\n",
      "Answer: 808\r\n",
      "p(1) p(2) p(4) p(6)\r\n",
      "Answer: 809\r\n",
      "p(1) p(2) p(3) p(4) p(6)\r\n",
      "Answer: 810\r\n",
      "p(1) p(2) p(4) p(6) p(8)\r\n",
      "Answer: 811\r\n",
      "p(1) p(2) p(3) p(4) p(6) p(8)\r\n",
      "Answer: 812\r\n",
      "p(1) p(2) p(4) p(6) p(10)\r\n",
      "Answer: 813\r\n",
      "p(1) p(2) p(4) p(6) p(8) p(10)\r\n",
      "Answer: 814\r\n",
      "p(1) p(2) p(3) p(4) p(6) p(10)\r\n",
      "Answer: 815\r\n",
      "p(1) p(2) p(3) p(4) p(6) p(8) p(10)\r\n",
      "Answer: 816\r\n",
      "p(1) p(2) p(4) p(7)\r\n",
      "Answer: 817\r\n",
      "p(1) p(2) p(3) p(4) p(7)\r\n",
      "Answer: 818\r\n",
      "p(1) p(2) p(4) p(6) p(7)\r\n",
      "Answer: 819\r\n",
      "p(1) p(2) p(3) p(4) p(6) p(7)\r\n",
      "Answer: 820\r\n",
      "p(1) p(2) p(4) p(7) p(10)\r\n",
      "Answer: 821\r\n",
      "p(1) p(2) p(4) p(6) p(7) p(10)\r\n",
      "Answer: 822\r\n",
      "p(1) p(2) p(3) p(4) p(7) p(10)\r\n",
      "Answer: 823\r\n",
      "p(1) p(2) p(3) p(4) p(6) p(7) p(10)\r\n",
      "Answer: 824\r\n",
      "p(1) p(2) p(4) p(7) p(8)\r\n",
      "Answer: 825\r\n",
      "p(1) p(2) p(3) p(4) p(7) p(8)\r\n",
      "Answer: 826\r\n",
      "p(1) p(2) p(4) p(7) p(8) p(10)\r\n",
      "Answer: 827\r\n",
      "p(1) p(2) p(3) p(4) p(7) p(8) p(10)\r\n",
      "Answer: 828\r\n",
      "p(1) p(2) p(4) p(6) p(7) p(8)\r\n",
      "Answer: 829\r\n",
      "p(1) p(2) p(4) p(6) p(7) p(8) p(10)\r\n",
      "Answer: 830\r\n",
      "p(1) p(2) p(3) p(4) p(6) p(7) p(8)\r\n",
      "Answer: 831\r\n",
      "p(1) p(2) p(3) p(4) p(6) p(7) p(8) p(10)\r\n",
      "Answer: 832\r\n",
      "p(1) p(2) p(9)\r\n",
      "Answer: 833\r\n",
      "p(1) p(2) p(3) p(9)\r\n",
      "Answer: 834\r\n",
      "p(1) p(2) p(4) p(9)\r\n",
      "Answer: 835\r\n",
      "p(1) p(2) p(3) p(4) p(9)\r\n",
      "Answer: 836\r\n",
      "p(1) p(2) p(7) p(9)\r\n",
      "Answer: 837\r\n",
      "p(1) p(2) p(4) p(7) p(9)\r\n",
      "Answer: 838\r\n",
      "p(1) p(2) p(3) p(7) p(9)\r\n",
      "Answer: 839\r\n",
      "p(1) p(2) p(3) p(4) p(7) p(9)\r\n",
      "Answer: 840\r\n",
      "p(1) p(2) p(8) p(9)\r\n",
      "Answer: 841\r\n",
      "p(1) p(2) p(3) p(8) p(9)\r\n",
      "Answer: 842\r\n",
      "p(1) p(2) p(7) p(8) p(9)\r\n",
      "Answer: 843\r\n",
      "p(1) p(2) p(3) p(7) p(8) p(9)\r\n",
      "Answer: 844\r\n",
      "p(1) p(2) p(4) p(8) p(9)\r\n",
      "Answer: 845\r\n",
      "p(1) p(2) p(4) p(7) p(8) p(9)\r\n",
      "Answer: 846\r\n",
      "p(1) p(2) p(3) p(4) p(8) p(9)\r\n",
      "Answer: 847\r\n",
      "p(1) p(2) p(3) p(4) p(7) p(8) p(9)\r\n",
      "Answer: 848\r\n",
      "p(1) p(2) p(6) p(9)\r\n",
      "Answer: 849\r\n",
      "p(1) p(2) p(3) p(6) p(9)\r\n",
      "Answer: 850\r\n",
      "p(1) p(2) p(6) p(8) p(9)\r\n",
      "Answer: 851\r\n",
      "p(1) p(2) p(3) p(6) p(8) p(9)\r\n",
      "Answer: 852\r\n",
      "p(1) p(2) p(4) p(6) p(9)\r\n",
      "Answer: 853\r\n",
      "p(1) p(2) p(4) p(6) p(8) p(9)\r\n",
      "Answer: 854\r\n",
      "p(1) p(2) p(3) p(4) p(6) p(9)\r\n",
      "Answer: 855\r\n",
      "p(1) p(2) p(3) p(4) p(6) p(8) p(9)\r\n",
      "Answer: 856\r\n",
      "p(1) p(2) p(6) p(7) p(9)\r\n",
      "Answer: 857\r\n",
      "p(1) p(2) p(3) p(6) p(7) p(9)\r\n",
      "Answer: 858\r\n",
      "p(1) p(2) p(4) p(6) p(7) p(9)\r\n",
      "Answer: 859\r\n",
      "p(1) p(2) p(3) p(4) p(6) p(7) p(9)\r\n",
      "Answer: 860\r\n",
      "p(1) p(2) p(6) p(7) p(8) p(9)\r\n",
      "Answer: 861\r\n",
      "p(1) p(2) p(4) p(6) p(7) p(8) p(9)\r\n",
      "Answer: 862\r\n",
      "p(1) p(2) p(3) p(6) p(7) p(8) p(9)\r\n",
      "Answer: 863\r\n",
      "p(1) p(2) p(3) p(4) p(6) p(7) p(8) p(9)\r\n",
      "Answer: 864\r\n",
      "p(1) p(2) p(9) p(10)\r\n",
      "Answer: 865\r\n",
      "p(1) p(2) p(3) p(9) p(10)\r\n",
      "Answer: 866\r\n",
      "p(1) p(2) p(6) p(9) p(10)\r\n",
      "Answer: 867\r\n",
      "p(1) p(2) p(3) p(6) p(9) p(10)\r\n",
      "Answer: 868\r\n",
      "p(1) p(2) p(7) p(9) p(10)\r\n",
      "Answer: 869\r\n",
      "p(1) p(2) p(6) p(7) p(9) p(10)\r\n",
      "Answer: 870\r\n",
      "p(1) p(2) p(3) p(7) p(9) p(10)\r\n",
      "Answer: 871\r\n",
      "p(1) p(2) p(3) p(6) p(7) p(9) p(10)\r\n",
      "Answer: 872\r\n",
      "p(1) p(2) p(8) p(9) p(10)\r\n",
      "Answer: 873\r\n",
      "p(1) p(2) p(3) p(8) p(9) p(10)\r\n",
      "Answer: 874\r\n",
      "p(1) p(2) p(7) p(8) p(9) p(10)\r\n",
      "Answer: 875\r\n",
      "p(1) p(2) p(3) p(7) p(8) p(9) p(10)\r\n",
      "Answer: 876\r\n",
      "p(1) p(2) p(6) p(8) p(9) p(10)\r\n",
      "Answer: 877\r\n",
      "p(1) p(2) p(6) p(7) p(8) p(9) p(10)\r\n",
      "Answer: 878\r\n",
      "p(1) p(2) p(3) p(6) p(8) p(9) p(10)\r\n",
      "Answer: 879\r\n",
      "p(1) p(2) p(3) p(6) p(7) p(8) p(9) p(10)\r\n",
      "Answer: 880\r\n",
      "p(1) p(2) p(4) p(9) p(10)\r\n",
      "Answer: 881\r\n",
      "p(1) p(2) p(3) p(4) p(9) p(10)\r\n",
      "Answer: 882\r\n",
      "p(1) p(2) p(4) p(8) p(9) p(10)\r\n",
      "Answer: 883\r\n",
      "p(1) p(2) p(3) p(4) p(8) p(9) p(10)\r\n",
      "Answer: 884\r\n",
      "p(1) p(2) p(4) p(6) p(9) p(10)\r\n",
      "Answer: 885\r\n",
      "p(1) p(2) p(4) p(6) p(8) p(9) p(10)\r\n",
      "Answer: 886\r\n",
      "p(1) p(2) p(3) p(4) p(6) p(9) p(10)\r\n",
      "Answer: 887\r\n",
      "p(1) p(2) p(3) p(4) p(6) p(8) p(9) p(10)\r\n",
      "Answer: 888\r\n",
      "p(1) p(2) p(4) p(7) p(9) p(10)\r\n",
      "Answer: 889\r\n",
      "p(1) p(2) p(3) p(4) p(7) p(9) p(10)\r\n",
      "Answer: 890\r\n",
      "p(1) p(2) p(4) p(6) p(7) p(9) p(10)\r\n",
      "Answer: 891\r\n",
      "p(1) p(2) p(3) p(4) p(6) p(7) p(9) p(10)\r\n",
      "Answer: 892\r\n",
      "p(1) p(2) p(4) p(7) p(8) p(9) p(10)\r\n",
      "Answer: 893\r\n",
      "p(1) p(2) p(4) p(6) p(7) p(8) p(9) p(10)\r\n",
      "Answer: 894\r\n",
      "p(1) p(2) p(3) p(4) p(7) p(8) p(9) p(10)\r\n",
      "Answer: 895\r\n",
      "p(1) p(2) p(3) p(4) p(6) p(7) p(8) p(9) p(10)\r\n",
      "Answer: 896\r\n",
      "p(1) p(2) p(5)\r\n",
      "Answer: 897\r\n",
      "p(1) p(2) p(3) p(5)\r\n",
      "Answer: 898\r\n",
      "p(1) p(2) p(5) p(8)\r\n",
      "Answer: 899\r\n",
      "p(1) p(2) p(3) p(5) p(8)\r\n",
      "Answer: 900\r\n",
      "p(1) p(2) p(5) p(9)\r\n",
      "Answer: 901\r\n",
      "p(1) p(2) p(5) p(8) p(9)\r\n",
      "Answer: 902\r\n",
      "p(1) p(2) p(3) p(5) p(9)\r\n",
      "Answer: 903\r\n",
      "p(1) p(2) p(3) p(5) p(8) p(9)\r\n",
      "Answer: 904\r\n",
      "p(1) p(2) p(5) p(10)\r\n",
      "Answer: 905\r\n",
      "p(1) p(2) p(3) p(5) p(10)\r\n",
      "Answer: 906\r\n",
      "p(1) p(2) p(5) p(9) p(10)\r\n",
      "Answer: 907\r\n",
      "p(1) p(2) p(3) p(5) p(9) p(10)\r\n",
      "Answer: 908\r\n",
      "p(1) p(2) p(5) p(8) p(10)\r\n",
      "Answer: 909\r\n",
      "p(1) p(2) p(5) p(8) p(9) p(10)\r\n",
      "Answer: 910\r\n",
      "p(1) p(2) p(3) p(5) p(8) p(10)\r\n",
      "Answer: 911\r\n",
      "p(1) p(2) p(3) p(5) p(8) p(9) p(10)\r\n",
      "Answer: 912\r\n",
      "p(1) p(2) p(4) p(5)\r\n",
      "Answer: 913\r\n",
      "p(1) p(2) p(3) p(4) p(5)\r\n",
      "Answer: 914\r\n",
      "p(1) p(2) p(4) p(5) p(10)\r\n",
      "Answer: 915\r\n",
      "p(1) p(2) p(3) p(4) p(5) p(10)\r\n",
      "Answer: 916\r\n",
      "p(1) p(2) p(4) p(5) p(8)\r\n",
      "Answer: 917\r\n",
      "p(1) p(2) p(4) p(5) p(8) p(10)\r\n",
      "Answer: 918\r\n",
      "p(1) p(2) p(3) p(4) p(5) p(8)\r\n",
      "Answer: 919\r\n",
      "p(1) p(2) p(3) p(4) p(5) p(8) p(10)\r\n",
      "Answer: 920\r\n",
      "p(1) p(2) p(4) p(5) p(9)\r\n",
      "Answer: 921\r\n",
      "p(1) p(2) p(3) p(4) p(5) p(9)\r\n",
      "Answer: 922\r\n",
      "p(1) p(2) p(4) p(5) p(8) p(9)\r\n",
      "Answer: 923\r\n",
      "p(1) p(2) p(3) p(4) p(5) p(8) p(9)\r\n",
      "Answer: 924\r\n",
      "p(1) p(2) p(4) p(5) p(9) p(10)\r\n",
      "Answer: 925\r\n",
      "p(1) p(2) p(4) p(5) p(8) p(9) p(10)\r\n",
      "Answer: 926\r\n",
      "p(1) p(2) p(3) p(4) p(5) p(9) p(10)\r\n",
      "Answer: 927\r\n",
      "p(1) p(2) p(3) p(4) p(5) p(8) p(9) p(10)\r\n",
      "Answer: 928\r\n",
      "p(1) p(2) p(5) p(7)\r\n",
      "Answer: 929\r\n",
      "p(1) p(2) p(3) p(5) p(7)\r\n",
      "Answer: 930\r\n",
      "p(1) p(2) p(4) p(5) p(7)\r\n",
      "Answer: 931\r\n",
      "p(1) p(2) p(3) p(4) p(5) p(7)\r\n",
      "Answer: 932\r\n",
      "p(1) p(2) p(5) p(7) p(9)\r\n",
      "Answer: 933\r\n",
      "p(1) p(2) p(4) p(5) p(7) p(9)\r\n",
      "Answer: 934\r\n",
      "p(1) p(2) p(3) p(5) p(7) p(9)\r\n",
      "Answer: 935\r\n",
      "p(1) p(2) p(3) p(4) p(5) p(7) p(9)\r\n",
      "Answer: 936\r\n",
      "p(1) p(2) p(5) p(7) p(10)\r\n",
      "Answer: 937\r\n",
      "p(1) p(2) p(3) p(5) p(7) p(10)\r\n",
      "Answer: 938\r\n",
      "p(1) p(2) p(5) p(7) p(9) p(10)\r\n",
      "Answer: 939\r\n",
      "p(1) p(2) p(3) p(5) p(7) p(9) p(10)\r\n",
      "Answer: 940\r\n",
      "p(1) p(2) p(4) p(5) p(7) p(10)\r\n",
      "Answer: 941\r\n",
      "p(1) p(2) p(4) p(5) p(7) p(9) p(10)\r\n",
      "Answer: 942\r\n",
      "p(1) p(2) p(3) p(4) p(5) p(7) p(10)\r\n",
      "Answer: 943\r\n",
      "p(1) p(2) p(3) p(4) p(5) p(7) p(9) p(10)\r\n",
      "Answer: 944\r\n",
      "p(1) p(2) p(5) p(7) p(8)\r\n",
      "Answer: 945\r\n",
      "p(1) p(2) p(3) p(5) p(7) p(8)\r\n",
      "Answer: 946\r\n",
      "p(1) p(2) p(5) p(7) p(8) p(10)\r\n",
      "Answer: 947\r\n",
      "p(1) p(2) p(3) p(5) p(7) p(8) p(10)\r\n",
      "Answer: 948\r\n",
      "p(1) p(2) p(4) p(5) p(7) p(8)\r\n",
      "Answer: 949\r\n",
      "p(1) p(2) p(4) p(5) p(7) p(8) p(10)\r\n",
      "Answer: 950\r\n",
      "p(1) p(2) p(3) p(4) p(5) p(7) p(8)\r\n",
      "Answer: 951\r\n",
      "p(1) p(2) p(3) p(4) p(5) p(7) p(8) p(10)\r\n",
      "Answer: 952\r\n",
      "p(1) p(2) p(5) p(7) p(8) p(9)\r\n",
      "Answer: 953\r\n",
      "p(1) p(2) p(3) p(5) p(7) p(8) p(9)\r\n",
      "Answer: 954\r\n",
      "p(1) p(2) p(4) p(5) p(7) p(8) p(9)\r\n",
      "Answer: 955\r\n",
      "p(1) p(2) p(3) p(4) p(5) p(7) p(8) p(9)\r\n",
      "Answer: 956\r\n",
      "p(1) p(2) p(5) p(7) p(8) p(9) p(10)\r\n",
      "Answer: 957\r\n",
      "p(1) p(2) p(4) p(5) p(7) p(8) p(9) p(10)\r\n",
      "Answer: 958\r\n",
      "p(1) p(2) p(3) p(5) p(7) p(8) p(9) p(10)\r\n",
      "Answer: 959\r\n",
      "p(1) p(2) p(3) p(4) p(5) p(7) p(8) p(9) p(10)\r\n",
      "Answer: 960\r\n",
      "p(1) p(2) p(5) p(6)\r\n",
      "Answer: 961\r\n",
      "p(1) p(2) p(3) p(5) p(6)\r\n",
      "Answer: 962\r\n",
      "p(1) p(2) p(5) p(6) p(10)\r\n",
      "Answer: 963\r\n",
      "p(1) p(2) p(3) p(5) p(6) p(10)\r\n",
      "Answer: 964\r\n",
      "p(1) p(2) p(5) p(6) p(7)\r\n",
      "Answer: 965\r\n",
      "p(1) p(2) p(5) p(6) p(7) p(10)\r\n",
      "Answer: 966\r\n",
      "p(1) p(2) p(3) p(5) p(6) p(7)\r\n",
      "Answer: 967\r\n",
      "p(1) p(2) p(3) p(5) p(6) p(7) p(10)\r\n",
      "Answer: 968\r\n",
      "p(1) p(2) p(5) p(6) p(8)\r\n",
      "Answer: 969\r\n",
      "p(1) p(2) p(3) p(5) p(6) p(8)\r\n",
      "Answer: 970\r\n",
      "p(1) p(2) p(5) p(6) p(7) p(8)\r\n",
      "Answer: 971\r\n",
      "p(1) p(2) p(3) p(5) p(6) p(7) p(8)\r\n",
      "Answer: 972\r\n",
      "p(1) p(2) p(5) p(6) p(8) p(10)\r\n",
      "Answer: 973\r\n",
      "p(1) p(2) p(5) p(6) p(7) p(8) p(10)\r\n",
      "Answer: 974\r\n",
      "p(1) p(2) p(3) p(5) p(6) p(8) p(10)\r\n",
      "Answer: 975\r\n",
      "p(1) p(2) p(3) p(5) p(6) p(7) p(8) p(10)\r\n",
      "Answer: 976\r\n",
      "p(1) p(2) p(5) p(6) p(9)\r\n",
      "Answer: 977\r\n",
      "p(1) p(2) p(3) p(5) p(6) p(9)\r\n",
      "Answer: 978\r\n",
      "p(1) p(2) p(5) p(6) p(8) p(9)\r\n",
      "Answer: 979\r\n",
      "p(1) p(2) p(3) p(5) p(6) p(8) p(9)\r\n",
      "Answer: 980\r\n",
      "p(1) p(2) p(5) p(6) p(9) p(10)\r\n",
      "Answer: 981\r\n",
      "p(1) p(2) p(5) p(6) p(8) p(9) p(10)\r\n",
      "Answer: 982\r\n",
      "p(1) p(2) p(3) p(5) p(6) p(9) p(10)\r\n",
      "Answer: 983\r\n",
      "p(1) p(2) p(3) p(5) p(6) p(8) p(9) p(10)\r\n",
      "Answer: 984\r\n",
      "p(1) p(2) p(5) p(6) p(7) p(9)\r\n",
      "Answer: 985\r\n",
      "p(1) p(2) p(3) p(5) p(6) p(7) p(9)\r\n",
      "Answer: 986\r\n",
      "p(1) p(2) p(5) p(6) p(7) p(9) p(10)\r\n",
      "Answer: 987\r\n",
      "p(1) p(2) p(3) p(5) p(6) p(7) p(9) p(10)\r\n",
      "Answer: 988\r\n",
      "p(1) p(2) p(5) p(6) p(7) p(8) p(9)\r\n",
      "Answer: 989\r\n",
      "p(1) p(2) p(5) p(6) p(7) p(8) p(9) p(10)\r\n",
      "Answer: 990\r\n",
      "p(1) p(2) p(3) p(5) p(6) p(7) p(8) p(9)\r\n",
      "Answer: 991\r\n",
      "p(1) p(2) p(3) p(5) p(6) p(7) p(8) p(9) p(10)\r\n",
      "Answer: 992\r\n",
      "p(1) p(2) p(4) p(5) p(6)\r\n",
      "Answer: 993\r\n",
      "p(1) p(2) p(3) p(4) p(5) p(6)\r\n",
      "Answer: 994\r\n",
      "p(1) p(2) p(4) p(5) p(6) p(8)\r\n",
      "Answer: 995\r\n",
      "p(1) p(2) p(3) p(4) p(5) p(6) p(8)\r\n",
      "Answer: 996\r\n",
      "p(1) p(2) p(4) p(5) p(6) p(9)\r\n",
      "Answer: 997\r\n",
      "p(1) p(2) p(4) p(5) p(6) p(8) p(9)\r\n",
      "Answer: 998\r\n",
      "p(1) p(2) p(3) p(4) p(5) p(6) p(9)\r\n",
      "Answer: 999\r\n",
      "p(1) p(2) p(3) p(4) p(5) p(6) p(8) p(9)\r\n",
      "Answer: 1000\r\n",
      "p(1) p(2) p(4) p(5) p(6) p(7)\r\n",
      "Answer: 1001\r\n",
      "p(1) p(2) p(3) p(4) p(5) p(6) p(7)\r\n",
      "Answer: 1002\r\n",
      "p(1) p(2) p(4) p(5) p(6) p(7) p(9)\r\n",
      "Answer: 1003\r\n",
      "p(1) p(2) p(3) p(4) p(5) p(6) p(7) p(9)\r\n",
      "Answer: 1004\r\n",
      "p(1) p(2) p(4) p(5) p(6) p(7) p(8)\r\n",
      "Answer: 1005\r\n",
      "p(1) p(2) p(4) p(5) p(6) p(7) p(8) p(9)\r\n",
      "Answer: 1006\r\n",
      "p(1) p(2) p(3) p(4) p(5) p(6) p(7) p(8)\r\n",
      "Answer: 1007\r\n",
      "p(1) p(2) p(3) p(4) p(5) p(6) p(7) p(8) p(9)\r\n",
      "Answer: 1008\r\n",
      "p(1) p(2) p(4) p(5) p(6) p(10)\r\n",
      "Answer: 1009\r\n",
      "p(1) p(2) p(3) p(4) p(5) p(6) p(10)\r\n",
      "Answer: 1010\r\n",
      "p(1) p(2) p(4) p(5) p(6) p(8) p(10)\r\n",
      "Answer: 1011\r\n",
      "p(1) p(2) p(3) p(4) p(5) p(6) p(8) p(10)\r\n",
      "Answer: 1012\r\n",
      "p(1) p(2) p(4) p(5) p(6) p(7) p(10)\r\n",
      "Answer: 1013\r\n",
      "p(1) p(2) p(4) p(5) p(6) p(7) p(8) p(10)\r\n",
      "Answer: 1014\r\n",
      "p(1) p(2) p(3) p(4) p(5) p(6) p(7) p(10)\r\n",
      "Answer: 1015\r\n",
      "p(1) p(2) p(3) p(4) p(5) p(6) p(7) p(8) p(10)\r\n",
      "Answer: 1016\r\n",
      "p(1) p(2) p(4) p(5) p(6) p(9) p(10)\r\n",
      "Answer: 1017\r\n",
      "p(1) p(2) p(3) p(4) p(5) p(6) p(9) p(10)\r\n",
      "Answer: 1018\r\n",
      "p(1) p(2) p(4) p(5) p(6) p(7) p(9) p(10)\r\n",
      "Answer: 1019\r\n",
      "p(1) p(2) p(3) p(4) p(5) p(6) p(7) p(9) p(10)\r\n",
      "Answer: 1020\r\n",
      "p(1) p(2) p(4) p(5) p(6) p(8) p(9) p(10)\r\n",
      "Answer: 1021\r\n",
      "p(1) p(2) p(4) p(5) p(6) p(7) p(8) p(9) p(10)\r\n",
      "Answer: 1022\r\n",
      "p(1) p(2) p(3) p(4) p(5) p(6) p(8) p(9) p(10)\r\n",
      "Answer: 1023\r\n",
      "p(1) p(2) p(3) p(4) p(5) p(6) p(7) p(8) p(9) p(10)\r\n",
      "SATISFIABLE\r\n",
      "\r\n",
      "Models       : 1023\r\n",
      "Calls        : 1\r\n",
      "Time         : 0.004s (Solving: 0.00s 1st Model: 0.00s Unsat: 0.00s)\r\n",
      "CPU Time     : 0.004s\r\n"
     ]
    }
   ],
   "source": [
    "!clingo ./ch2-files/ex-2-20a.lp 0"
   ]
  },
  {
   "cell_type": "code",
   "execution_count": 6,
   "metadata": {
    "scrolled": false
   },
   "outputs": [
    {
     "name": "stdout",
     "output_type": "stream",
     "text": [
      "Writing ./ch2-files/ex-2-20b.lp\n"
     ]
    }
   ],
   "source": [
    "%%file ./ch2-files/ex-2-20b.lp\n",
    "3 {elected(ann; bob; carol; dan; elaine; fred)} 3."
   ]
  },
  {
   "cell_type": "code",
   "execution_count": 7,
   "metadata": {
    "scrolled": true
   },
   "outputs": [
    {
     "name": "stdout",
     "output_type": "stream",
     "text": [
      "clingo version 5.4.0\r\n",
      "Reading from ./ch2-files/ex-2-20b.lp\r\n",
      "Solving...\r\n",
      "Answer: 1\r\n",
      "elected(fred) elected(elaine) elected(carol)\r\n",
      "Answer: 2\r\n",
      "elected(fred) elected(elaine) elected(bob)\r\n",
      "Answer: 3\r\n",
      "elected(fred) elected(carol) elected(bob)\r\n",
      "Answer: 4\r\n",
      "elected(elaine) elected(carol) elected(bob)\r\n",
      "Answer: 5\r\n",
      "elected(fred) elected(bob) elected(ann)\r\n",
      "Answer: 6\r\n",
      "elected(fred) elected(carol) elected(ann)\r\n",
      "Answer: 7\r\n",
      "elected(carol) elected(bob) elected(ann)\r\n",
      "Answer: 8\r\n",
      "elected(fred) elected(elaine) elected(ann)\r\n",
      "Answer: 9\r\n",
      "elected(elaine) elected(carol) elected(ann)\r\n",
      "Answer: 10\r\n",
      "elected(elaine) elected(bob) elected(ann)\r\n",
      "Answer: 11\r\n",
      "elected(fred) elected(dan) elected(carol)\r\n",
      "Answer: 12\r\n",
      "elected(fred) elected(elaine) elected(dan)\r\n",
      "Answer: 13\r\n",
      "elected(elaine) elected(dan) elected(carol)\r\n",
      "Answer: 14\r\n",
      "elected(fred) elected(dan) elected(bob)\r\n",
      "Answer: 15\r\n",
      "elected(elaine) elected(dan) elected(bob)\r\n",
      "Answer: 16\r\n",
      "elected(dan) elected(carol) elected(bob)\r\n",
      "Answer: 17\r\n",
      "elected(fred) elected(dan) elected(ann)\r\n",
      "Answer: 18\r\n",
      "elected(dan) elected(bob) elected(ann)\r\n",
      "Answer: 19\r\n",
      "elected(dan) elected(carol) elected(ann)\r\n",
      "Answer: 20\r\n",
      "elected(elaine) elected(dan) elected(ann)\r\n",
      "SATISFIABLE\r\n",
      "\r\n",
      "Models       : 20\r\n",
      "Calls        : 1\r\n",
      "Time         : 0.001s (Solving: 0.00s 1st Model: 0.00s Unsat: 0.00s)\r\n",
      "CPU Time     : 0.001s\r\n"
     ]
    }
   ],
   "source": [
    "!clingo ./ch2-files/ex-2-20b.lp 0"
   ]
  },
  {
   "cell_type": "markdown",
   "metadata": {},
   "source": [
    "**Exercise 2.21**"
   ]
  },
  {
   "cell_type": "markdown",
   "metadata": {},
   "source": [
    "For each of the given rules, find a simpler rule that has the same meaning.\n",
    "\n",
    "(a) `0 {p(a)}.`\n",
    "\n",
    "(b) `1 {p(a)}.`\n",
    "\n",
    "(c) `{p(a)} 1.`"
   ]
  },
  {
   "cell_type": "markdown",
   "metadata": {},
   "source": [
    "Answer:\n",
    "\n",
    "(a) `{p(a)}.`\n",
    "\n",
    "(b) `p(a).`\n",
    "\n",
    "(c) `{p(a)}.`"
   ]
  },
  {
   "cell_type": "markdown",
   "metadata": {},
   "source": [
    "Checking work..."
   ]
  },
  {
   "cell_type": "code",
   "execution_count": 6,
   "metadata": {
    "scrolled": false
   },
   "outputs": [
    {
     "name": "stdout",
     "output_type": "stream",
     "text": [
      "Overwriting ./ch2-files/ex-2-21.lp\n"
     ]
    }
   ],
   "source": [
    "%%file ./ch2-files/ex-2-21.lp\n",
    "{p(a)}."
   ]
  },
  {
   "cell_type": "code",
   "execution_count": 7,
   "metadata": {
    "scrolled": false
   },
   "outputs": [
    {
     "name": "stdout",
     "output_type": "stream",
     "text": [
      "clingo version 5.4.0\r\n",
      "Reading from ./ch2-files/ex-2-21.lp\r\n",
      "Solving...\r\n",
      "Answer: 1\r\n",
      "\r\n",
      "Answer: 2\r\n",
      "p(a)\r\n",
      "SATISFIABLE\r\n",
      "\r\n",
      "Models       : 2\r\n",
      "Calls        : 1\r\n",
      "Time         : 0.000s (Solving: 0.00s 1st Model: 0.00s Unsat: 0.00s)\r\n",
      "CPU Time     : 0.000s\r\n"
     ]
    }
   ],
   "source": [
    "!clingo ./ch2-files/ex-2-21.lp 0"
   ]
  },
  {
   "cell_type": "markdown",
   "metadata": {},
   "source": [
    "### Section 2.6"
   ]
  },
  {
   "cell_type": "markdown",
   "metadata": {},
   "source": [
    "**Exercise 2.22**"
   ]
  },
  {
   "cell_type": "markdown",
   "metadata": {},
   "source": [
    "(a) Rewrite the last rule of the program\n",
    "\n",
    "```\n",
    "p(a; b).\n",
    "\n",
    "{q(X,Y) : p(X), p(Y)} = 1.\n",
    "```\n",
    "\n",
    "without the use of local variables.\n",
    "\n",
    "(b) How many stable models do you think this program has?"
   ]
  },
  {
   "cell_type": "markdown",
   "metadata": {},
   "source": [
    "Answer:\n",
    "\n",
    "`q(X,Y) :- p(X), p(Y).`\n",
    "\n",
    "It has 4 stable models:\n",
    "- `p(a). p(b). q(a,a).`\n",
    "- `p(a). p(b). q(a,b).`\n",
    "- `p(a). p(b). q(b,a).`\n",
    "- `p(a). p(b). q(b,b).`"
   ]
  },
  {
   "cell_type": "markdown",
   "metadata": {},
   "source": [
    "Checking work..."
   ]
  },
  {
   "cell_type": "code",
   "execution_count": 4,
   "metadata": {
    "scrolled": false
   },
   "outputs": [
    {
     "name": "stdout",
     "output_type": "stream",
     "text": [
      "Writing ./ch2-files/ex-2-22.lp\n"
     ]
    }
   ],
   "source": [
    "%%file ./ch2-files/ex-2-22.lp\n",
    "p(a; b).\n",
    "{q(X,Y) : p(X), p(Y)} = 1."
   ]
  },
  {
   "cell_type": "code",
   "execution_count": 5,
   "metadata": {
    "scrolled": false
   },
   "outputs": [
    {
     "name": "stdout",
     "output_type": "stream",
     "text": [
      "clingo version 5.4.0\r\n",
      "Reading from ./ch2-files/ex-2-22.lp\r\n",
      "Solving...\r\n",
      "Answer: 1\r\n",
      "p(a) p(b) q(b,a)\r\n",
      "Answer: 2\r\n",
      "p(a) p(b) q(a,b)\r\n",
      "Answer: 3\r\n",
      "p(a) p(b) q(b,b)\r\n",
      "Answer: 4\r\n",
      "p(a) p(b) q(a,a)\r\n",
      "SATISFIABLE\r\n",
      "\r\n",
      "Models       : 4\r\n",
      "Calls        : 1\r\n",
      "Time         : 0.001s (Solving: 0.00s 1st Model: 0.00s Unsat: 0.00s)\r\n",
      "CPU Time     : 0.001s\r\n"
     ]
    }
   ],
   "source": [
    "!clingo ./ch2-files/ex-2-22.lp 0"
   ]
  },
  {
   "cell_type": "markdown",
   "metadata": {},
   "source": [
    "**Exercise 2.23**"
   ]
  },
  {
   "cell_type": "markdown",
   "metadata": {},
   "source": [
    "(a) Rewrite the last rule of the program\n",
    "```\n",
    "p(a; b).\n",
    "q(1..4).\n",
    "1 {r(X,Y) : p(X)} :- q(Y).\n",
    "```\n",
    "without the use of local variables.\n",
    "\n",
    "(b) How many stable models do you think this program has?"
   ]
  },
  {
   "cell_type": "markdown",
   "metadata": {},
   "source": [
    "Answer:\n",
    "\n",
    "(a) `r(X,Y) :- p(X), q(Y).`\n",
    "\n",
    "(b) It has 8 stables models. All include `p(a). p(b). q(1). q(2). q(3). q(4).`. Each stable model is defined by the addition of one of the following:\n",
    "- `r(a,1).`\n",
    "- `r(a,2).`\n",
    "- `r(a,3).`\n",
    "- `r(a,4).`\n",
    "- `r(b,1).`\n",
    "- `r(b,2).`\n",
    "- `r(b,3).`\n",
    "- `r(b,4).`"
   ]
  },
  {
   "cell_type": "markdown",
   "metadata": {},
   "source": [
    "Checking work..."
   ]
  },
  {
   "cell_type": "code",
   "execution_count": 1,
   "metadata": {
    "scrolled": false
   },
   "outputs": [
    {
     "name": "stdout",
     "output_type": "stream",
     "text": [
      "Overwriting ./ch2-files/ex-2-23.lp\n"
     ]
    }
   ],
   "source": [
    "%%file ./ch2-files/ex-2-23.lp\n",
    "p(a; b).\n",
    "q(1..4).\n",
    "1 {r(X,Y)} :- p(X), q(Y)."
   ]
  },
  {
   "cell_type": "code",
   "execution_count": 2,
   "metadata": {
    "scrolled": false
   },
   "outputs": [
    {
     "name": "stdout",
     "output_type": "stream",
     "text": [
      "clingo version 5.4.0\r\n",
      "Reading from ./ch2-files/ex-2-23.lp\r\n",
      "Solving...\r\n",
      "Answer: 1\r\n",
      "q(1) q(2) q(3) q(4) p(a) p(b) r(a,1) r(a,2) r(a,3) r(a,4) r(b,1) r(b,2) r(b,3) r(b,4)\r\n",
      "SATISFIABLE\r\n",
      "\r\n",
      "Models       : 1\r\n",
      "Calls        : 1\r\n",
      "Time         : 0.005s (Solving: 0.00s 1st Model: 0.00s Unsat: 0.00s)\r\n",
      "CPU Time     : 0.001s\r\n"
     ]
    }
   ],
   "source": [
    "!clingo ./ch2-files/ex-2-23.lp 0"
   ]
  },
  {
   "cell_type": "markdown",
   "metadata": {},
   "source": [
    "### Section 2.7"
   ]
  },
  {
   "cell_type": "markdown",
   "metadata": {},
   "source": [
    "**Exercise 2.24**"
   ]
  },
  {
   "cell_type": "markdown",
   "metadata": {},
   "source": [
    "Consider the program consisting of choice rule (2.12) \n",
    "\n",
    "`1 {p(1..3)} 2.`\n",
    "\n",
    "and the constraint\n",
    "\n",
    "`:- p(1), not p(2).`\n",
    "\n",
    "How many stable models do you think it has?"
   ]
  },
  {
   "cell_type": "markdown",
   "metadata": {},
   "source": [
    "Answer:\n",
    "\n",
    "Rule (2.12) produces an answer set with 6 stable models:\n",
    "1. `p(1).`\n",
    "2. `p(2).`\n",
    "3. `p(3).`\n",
    "4. `p(1). p(2).`\n",
    "5. `p(1). p(3).`\n",
    "6. `p(2). p(3).`\n",
    "\n",
    "When you add the constraint, it removes from the answer set all stable models that both include `p(1)` and do not include `p(2)`. Thus, stable model 5 is removed from the answer set, leaving us with 5 stable models in the constrained answer set."
   ]
  },
  {
   "cell_type": "markdown",
   "metadata": {},
   "source": [
    "Checking work..."
   ]
  },
  {
   "cell_type": "code",
   "execution_count": 18,
   "metadata": {
    "scrolled": false
   },
   "outputs": [
    {
     "name": "stdout",
     "output_type": "stream",
     "text": [
      "Overwriting ./ch2-files/ex-2-24.lp\n"
     ]
    }
   ],
   "source": [
    "%%file ./ch2-files/ex-2-24.lp\n",
    "1 {p(1..3)} 2.\n",
    ":- p(1), not p(2)."
   ]
  },
  {
   "cell_type": "code",
   "execution_count": 19,
   "metadata": {
    "scrolled": false
   },
   "outputs": [
    {
     "name": "stdout",
     "output_type": "stream",
     "text": [
      "clingo version 5.4.0\r\n",
      "Reading from ./ch2-files/ex-2-24.lp\r\n",
      "Solving...\r\n",
      "Answer: 1\r\n",
      "p(3)\r\n",
      "Answer: 2\r\n",
      "p(2)\r\n",
      "Answer: 3\r\n",
      "p(2) p(3)\r\n",
      "Answer: 4\r\n",
      "p(2) p(1)\r\n",
      "SATISFIABLE\r\n",
      "\r\n",
      "Models       : 4\r\n",
      "Calls        : 1\r\n",
      "Time         : 0.001s (Solving: 0.00s 1st Model: 0.00s Unsat: 0.00s)\r\n",
      "CPU Time     : 0.001s\r\n"
     ]
    }
   ],
   "source": [
    "!clingo ./ch2-files/ex-2-24.lp 0"
   ]
  },
  {
   "cell_type": "markdown",
   "metadata": {},
   "source": [
    "Correction: Stable model 1 includes `p(1)` and does not include `p(2)`, and so it is also removed; this leaves us with only 4 stable models."
   ]
  },
  {
   "cell_type": "markdown",
   "metadata": {},
   "source": [
    "**Exercise 2.25**"
   ]
  },
  {
   "cell_type": "markdown",
   "metadata": {},
   "source": [
    "Find a similar transformation for the rule `1 {p(a); q(b)}.`"
   ]
  },
  {
   "cell_type": "markdown",
   "metadata": {},
   "source": [
    "Answer:\n",
    "```\n",
    "{p(a); q(b)}.\n",
    ":- not p(a), not q(b).\n",
    "```"
   ]
  },
  {
   "cell_type": "markdown",
   "metadata": {},
   "source": [
    "Checking work..."
   ]
  },
  {
   "cell_type": "code",
   "execution_count": 22,
   "metadata": {
    "scrolled": false
   },
   "outputs": [
    {
     "name": "stdout",
     "output_type": "stream",
     "text": [
      "Overwriting ./ch2-files/ex-2-25.lp\n"
     ]
    }
   ],
   "source": [
    "%%file ./ch2-files/ex-2-25.lp\n",
    "{p(a); q(b)}.\n",
    ":- not p(a), not q(b)."
   ]
  },
  {
   "cell_type": "code",
   "execution_count": 23,
   "metadata": {
    "scrolled": true
   },
   "outputs": [
    {
     "name": "stdout",
     "output_type": "stream",
     "text": [
      "clingo version 5.4.0\r\n",
      "Reading from ./ch2-files/ex-2-25.lp\r\n",
      "Solving...\r\n",
      "Answer: 1\r\n",
      "q(b)\r\n",
      "Answer: 2\r\n",
      "p(a)\r\n",
      "Answer: 3\r\n",
      "p(a) q(b)\r\n",
      "SATISFIABLE\r\n",
      "\r\n",
      "Models       : 3\r\n",
      "Calls        : 1\r\n",
      "Time         : 0.001s (Solving: 0.00s 1st Model: 0.00s Unsat: 0.00s)\r\n",
      "CPU Time     : 0.001s\r\n"
     ]
    }
   ],
   "source": [
    "!clingo ./ch2-files/ex-2-25.lp 0"
   ]
  },
  {
   "cell_type": "markdown",
   "metadata": {},
   "source": [
    "### Section 2.8"
   ]
  },
  {
   "cell_type": "markdown",
   "metadata": {},
   "source": [
    "**Exercise 2.26**"
   ]
  },
  {
   "cell_type": "markdown",
   "metadata": {},
   "source": [
    "Find a place in Listing 2.6 (page 26) where an anonymous variable can be used."
   ]
  },
  {
   "cell_type": "markdown",
   "metadata": {},
   "source": [
    "Answer: The `N` in line 9 `fac(F) :- fac(N,F).` can be replaced with an `_` such that `fac(F) :- fac(_,F).`"
   ]
  },
  {
   "cell_type": "markdown",
   "metadata": {},
   "source": [
    "**Exercise 2.27**"
   ]
  },
  {
   "cell_type": "markdown",
   "metadata": {},
   "source": [
    "Given the program\n",
    "```\n",
    "p(1,1).\n",
    "q(X) :- X = 1..2, not p(X,_).\n",
    "```\n",
    "what solutions do you think clingo is going to produce?"
   ]
  },
  {
   "cell_type": "markdown",
   "metadata": {},
   "source": [
    "Answer: `p(1,1). q(2).`"
   ]
  },
  {
   "cell_type": "code",
   "execution_count": null,
   "metadata": {},
   "outputs": [],
   "source": []
  }
 ],
 "metadata": {
  "kernelspec": {
   "display_name": "Python 3 (ipykernel)",
   "language": "python",
   "name": "python3"
  },
  "language_info": {
   "codemirror_mode": {
    "name": "ipython",
    "version": 3
   },
   "file_extension": ".py",
   "mimetype": "text/x-python",
   "name": "python",
   "nbconvert_exporter": "python",
   "pygments_lexer": "ipython3",
   "version": "3.8.10"
  }
 },
 "nbformat": 4,
 "nbformat_minor": 2
}
