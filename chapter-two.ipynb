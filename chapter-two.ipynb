{
 "cells": [
  {
   "cell_type": "markdown",
   "metadata": {},
   "source": [
    "# Chapter 2"
   ]
  },
  {
   "cell_type": "markdown",
   "metadata": {},
   "source": [
    "### Introduction"
   ]
  },
  {
   "cell_type": "markdown",
   "metadata": {},
   "source": [
    "**Exercise 2.1**"
   ]
  },
  {
   "cell_type": "code",
   "execution_count": 47,
   "metadata": {},
   "outputs": [
    {
     "name": "stdout",
     "output_type": "stream",
     "text": [
      "Overwriting ex-2-1.dlv\n"
     ]
    }
   ],
   "source": [
    "%%file ex-2-1.dlv\n",
    "size(uk, 64).\n",
    "size(france, 65).\n",
    "size(germany, 83).\n",
    "size(italy, 61).\n",
    "\n",
    "large(C) :- size(C, S1), size(uk, S2), S1 > S2.\n",
    "    \n",
    "size(russia, 142)."
   ]
  },
  {
   "cell_type": "code",
   "execution_count": 48,
   "metadata": {
    "scrolled": true
   },
   "outputs": [
    {
     "name": "stdout",
     "output_type": "stream",
     "text": [
      "clingo version 5.4.0\r\n",
      "Reading from ex-2-1.dlv\r\n",
      "Solving...\r\n",
      "Answer: 1\r\n",
      "size(uk,64) size(france,65) size(germany,83) size(italy,61) size(russia,142) large(france) large(germany) large(russia)\r\n",
      "SATISFIABLE\r\n",
      "\r\n",
      "Models       : 1\r\n",
      "Calls        : 1\r\n",
      "Time         : 0.001s (Solving: 0.00s 1st Model: 0.00s Unsat: 0.00s)\r\n",
      "CPU Time     : 0.001s\r\n"
     ]
    }
   ],
   "source": [
    "!clingo ex-2-1.dlv"
   ]
  },
  {
   "cell_type": "code",
   "execution_count": 37,
   "metadata": {},
   "outputs": [
    {
     "name": "stdout",
     "output_type": "stream",
     "text": [
      "Overwriting ex-2-1.dlv\n"
     ]
    }
   ],
   "source": [
    "%%file ex-2-1.dlv\n",
    "size(uk, 64).\n",
    "size(france, 65).\n",
    "size(germany, 83).\n",
    "size(italy, 61).\n",
    "\n",
    "large(C) :- size(C, S1), S1 > 500.\n",
    "    \n",
    "size(russia, 142)."
   ]
  },
  {
   "cell_type": "code",
   "execution_count": 38,
   "metadata": {},
   "outputs": [
    {
     "name": "stdout",
     "output_type": "stream",
     "text": [
      "clingo version 5.4.0\r\n",
      "Reading from ex-2-1.dlv\r\n",
      "Solving...\r\n",
      "Answer: 1\r\n",
      "size(uk,64) size(france,65) size(germany,83) size(italy,61) size(russia,142)\r\n",
      "SATISFIABLE\r\n",
      "\r\n",
      "Models       : 1\r\n",
      "Calls        : 1\r\n",
      "Time         : 0.001s (Solving: 0.00s 1st Model: 0.00s Unsat: 0.00s)\r\n",
      "CPU Time     : 0.001s\r\n"
     ]
    }
   ],
   "source": [
    "!clingo ex-2-1.dlv"
   ]
  },
  {
   "cell_type": "markdown",
   "metadata": {},
   "source": [
    "**Exercise 2.2**"
   ]
  },
  {
   "cell_type": "markdown",
   "metadata": {},
   "source": [
    "`child(X,Y) :- parent(Y,X).` translates to \"X is a child of Y *if* Y is a parent of X\""
   ]
  },
  {
   "cell_type": "markdown",
   "metadata": {},
   "source": [
    "Given the rules `parent(ann,bob). parent(bob,carol). parent(bob,dan).`, the stable model will be as follows:\n",
    " - parent(ann, bob)\n",
    " - parent(bob, carol)\n",
    " - parent(bob, dan)\n",
    " - child(bob, ann)\n",
    " - child(carol, bob)\n",
    " - child(dan, bob)"
   ]
  },
  {
   "cell_type": "markdown",
   "metadata": {},
   "source": [
    "### Section 2.1"
   ]
  },
  {
   "cell_type": "markdown",
   "metadata": {},
   "source": [
    "**Exercise 2.3**"
   ]
  },
  {
   "cell_type": "markdown",
   "metadata": {},
   "source": [
    "(a) Which instance of rule (1.1) justifies including `large(germany)` in the stable model of the program?\n",
    "\n",
    "Answer: `large(germany) :- size(germany, 83), size(uk, 64), 83 > 64`"
   ]
  },
  {
   "cell_type": "markdown",
   "metadata": {},
   "source": [
    "(b) Which instance of rule (2.1) justifies including `child(dan,bob)` in the stable model of program (2.1), (2.2)?\n",
    "\n",
    "Answer: `child(dan, bob) :- parent(bob, dan)`"
   ]
  },
  {
   "cell_type": "markdown",
   "metadata": {},
   "source": [
    "**Exercise 2.4**"
   ]
  },
  {
   "cell_type": "markdown",
   "metadata": {},
   "source": [
    "Which of the following ground rules are instances of rule (1.1), `large(C) :- size(C,S1), size(uk,S2), S1 > S2.`?\n",
    "\n",
    "(a) `large(france) :- size(france,65), size(italy,61), 65 > 61.`\n",
    "\n",
    "(b) `large(italy) :- size(italy,61), size(uk,64), 61 > 64.`\n",
    "\n",
    "(c) `large(italy) :- size(italy,83), size(uk,64), 83 > 64.`\n",
    "\n",
    "(d) `large(7) :- size(7,7), size(uk,7), 7 > 7.`"
   ]
  },
  {
   "cell_type": "markdown",
   "metadata": {},
   "source": [
    "Answer: None of the above"
   ]
  },
  {
   "cell_type": "markdown",
   "metadata": {},
   "source": [
    "**Exercise 2.5**"
   ]
  },
  {
   "cell_type": "markdown",
   "metadata": {},
   "source": [
    "Use pooling to abbreviate line (2.2), `parent(ann,bob). parent(bob,carol). parent(bob,dan).`."
   ]
  },
  {
   "cell_type": "markdown",
   "metadata": {},
   "source": [
    "Answer: `parent(ann, bob; bob, carol; bob, dan).`"
   ]
  },
  {
   "cell_type": "markdown",
   "metadata": {},
   "source": [
    "**Exercise 2.6**"
   ]
  },
  {
   "cell_type": "markdown",
   "metadata": {},
   "source": [
    "If you run clingo on the one-rule program, `p(1,2; 2,4; 4,8; 8,16).`, then what stable model do you think it will produce?"
   ]
  },
  {
   "cell_type": "markdown",
   "metadata": {},
   "source": [
    "Answer: It will produce the stable model consisting of the following:\n",
    " - p(1, 2).\n",
    " - p(2, 4).\n",
    " - p(4, 8).\n",
    " - p(8, 16)."
   ]
  },
  {
   "cell_type": "markdown",
   "metadata": {},
   "source": [
    "### Section 2.3"
   ]
  },
  {
   "cell_type": "markdown",
   "metadata": {},
   "source": [
    "**Exercise 2.7**"
   ]
  },
  {
   "cell_type": "markdown",
   "metadata": {},
   "source": [
    "For each of the given one-rule programs, predict what stable model clingo is going to produce.\n",
    "\n",
    "(a) `p(N,N*N+N+41) :- N+1 = 1..4.`\n",
    "\n",
    "(b) `p(N,N*N+N+41) :- N = -3..3, N >= 0.`"
   ]
  },
  {
   "cell_type": "markdown",
   "metadata": {},
   "source": [
    "Answer:\n",
    "\n",
    "(a) p(0,41) p(1,43) p(2,47) p(3,53) % since N+1 belongs to 1..4, meaning N belongs to 0..3\n",
    "\n",
    "(b) p(0,41) p(1,43) p(2,47) p(3,53) % since N belongs to -3..3, but we add the requirement that N is not negative."
   ]
  },
  {
   "cell_type": "markdown",
   "metadata": {},
   "source": [
    "Checking work..."
   ]
  },
  {
   "cell_type": "code",
   "execution_count": 1,
   "metadata": {
    "scrolled": true
   },
   "outputs": [
    {
     "name": "stdout",
     "output_type": "stream",
     "text": [
      "Writing ex-2-7a.lp\n"
     ]
    }
   ],
   "source": [
    "%%file ex-2-7a.lp\n",
    "p(N,N*N+N+41) :- N+1 = 1..4."
   ]
  },
  {
   "cell_type": "code",
   "execution_count": 2,
   "metadata": {
    "scrolled": true
   },
   "outputs": [
    {
     "name": "stdout",
     "output_type": "stream",
     "text": [
      "clingo version 5.4.0\r\n",
      "Reading from ex-2-7a.lp\r\n",
      "Solving...\r\n",
      "Answer: 1\r\n",
      "p(0,41) p(1,43) p(2,47) p(3,53)\r\n",
      "SATISFIABLE\r\n",
      "\r\n",
      "Models       : 1\r\n",
      "Calls        : 1\r\n",
      "Time         : 0.008s (Solving: 0.00s 1st Model: 0.00s Unsat: 0.00s)\r\n",
      "CPU Time     : 0.002s\r\n"
     ]
    }
   ],
   "source": [
    "!clingo ex-2-7a.lp"
   ]
  },
  {
   "cell_type": "code",
   "execution_count": 3,
   "metadata": {
    "scrolled": true
   },
   "outputs": [
    {
     "name": "stdout",
     "output_type": "stream",
     "text": [
      "Writing ex-2-7b.lp\n"
     ]
    }
   ],
   "source": [
    "%%file ex-2-7b.lp\n",
    "p(N,N*N+N+41) :- N = -3..3, N >= 0."
   ]
  },
  {
   "cell_type": "code",
   "execution_count": 4,
   "metadata": {
    "scrolled": false
   },
   "outputs": [
    {
     "name": "stdout",
     "output_type": "stream",
     "text": [
      "clingo version 5.4.0\r\n",
      "Reading from ex-2-7b.lp\r\n",
      "Solving...\r\n",
      "Answer: 1\r\n",
      "p(0,41) p(1,43) p(2,47) p(3,53)\r\n",
      "SATISFIABLE\r\n",
      "\r\n",
      "Models       : 1\r\n",
      "Calls        : 1\r\n",
      "Time         : 0.001s (Solving: 0.00s 1st Model: 0.00s Unsat: 0.00s)\r\n",
      "CPU Time     : 0.001s\r\n"
     ]
    }
   ],
   "source": [
    "!clingo ex-2-7b.lp"
   ]
  },
  {
   "cell_type": "markdown",
   "metadata": {},
   "source": [
    "**Exercise 2.8**"
   ]
  },
  {
   "cell_type": "markdown",
   "metadata": {},
   "source": [
    "Write a one-rule program that does not contain pooling and has the same stable model as the program from Exercise 2.6, p(1,2; 2,4; 4,8; 8,16)."
   ]
  },
  {
   "cell_type": "code",
   "execution_count": 5,
   "metadata": {
    "scrolled": true
   },
   "outputs": [
    {
     "name": "stdout",
     "output_type": "stream",
     "text": [
      "Writing ex-2-8.lp\n"
     ]
    }
   ],
   "source": [
    "%%file ex-2-8.lp\n",
    "p(2**N, 2**N*2) :- N = 0..3."
   ]
  },
  {
   "cell_type": "code",
   "execution_count": 6,
   "metadata": {
    "scrolled": false
   },
   "outputs": [
    {
     "name": "stdout",
     "output_type": "stream",
     "text": [
      "clingo version 5.4.0\r\n",
      "Reading from ex-2-8.lp\r\n",
      "Solving...\r\n",
      "Answer: 1\r\n",
      "p(1,2) p(2,4) p(4,8) p(8,16)\r\n",
      "SATISFIABLE\r\n",
      "\r\n",
      "Models       : 1\r\n",
      "Calls        : 1\r\n",
      "Time         : 0.001s (Solving: 0.00s 1st Model: 0.00s Unsat: 0.00s)\r\n",
      "CPU Time     : 0.001s\r\n"
     ]
    }
   ],
   "source": [
    "!clingo ex-2-8.lp"
   ]
  },
  {
   "cell_type": "markdown",
   "metadata": {},
   "source": [
    "**Exercise 2.9**"
   ]
  },
  {
   "cell_type": "markdown",
   "metadata": {},
   "source": [
    "For each of the given sets of ground atoms, write a one-rule program that does not contain pooling and has that set as its stable model.\n",
    "\n",
    "\n",
    "(a) p(0,1) p(1,-1) p(2,1) p(3,-1) p(4,1)\n",
    "\n",
    "\n",
    "(b)\n",
    "\n",
    "p(1,1)\n",
    "\n",
    "p(2,1) p(2,2)\n",
    "\n",
    "p(3,1) p(3,2) p(3,3)\n",
    "\n",
    "p(4,1) p(4,2) p(4,3) p(4,4)"
   ]
  },
  {
   "cell_type": "markdown",
   "metadata": {},
   "source": [
    "Answer:\n",
    "\n",
    "(a) `p(N, 1 - 2 * (N \\ 2)) :- N = 0..4.`\n",
    "\n",
    "(b) `p(I,J) :- I=1..4, J=1..I.`"
   ]
  },
  {
   "cell_type": "markdown",
   "metadata": {},
   "source": [
    "Checking work..."
   ]
  },
  {
   "cell_type": "code",
   "execution_count": 13,
   "metadata": {
    "scrolled": false
   },
   "outputs": [
    {
     "name": "stdout",
     "output_type": "stream",
     "text": [
      "Writing ex-2-9a.lp\n"
     ]
    }
   ],
   "source": [
    "%%file ex-2-9a.lp\n",
    "p(N, 1 - 2 * (N \\ 2)) :- N = 0..4."
   ]
  },
  {
   "cell_type": "code",
   "execution_count": 14,
   "metadata": {
    "scrolled": true
   },
   "outputs": [
    {
     "name": "stdout",
     "output_type": "stream",
     "text": [
      "clingo version 5.4.0\r\n",
      "Reading from ex-2-9a.lp\r\n",
      "Solving...\r\n",
      "Answer: 1\r\n",
      "p(0,1) p(1,-1) p(2,1) p(3,-1) p(4,1)\r\n",
      "SATISFIABLE\r\n",
      "\r\n",
      "Models       : 1\r\n",
      "Calls        : 1\r\n",
      "Time         : 0.001s (Solving: 0.00s 1st Model: 0.00s Unsat: 0.00s)\r\n",
      "CPU Time     : 0.001s\r\n"
     ]
    }
   ],
   "source": [
    "!clingo ex-2-9a.lp"
   ]
  },
  {
   "cell_type": "code",
   "execution_count": 15,
   "metadata": {
    "scrolled": false
   },
   "outputs": [
    {
     "name": "stdout",
     "output_type": "stream",
     "text": [
      "Writing ex-2-9b.lp\n"
     ]
    }
   ],
   "source": [
    "%%file ex-2-9b.lp\n",
    "p(I,J) :- I=1..4, J=1..I."
   ]
  },
  {
   "cell_type": "code",
   "execution_count": 16,
   "metadata": {
    "scrolled": false
   },
   "outputs": [
    {
     "name": "stdout",
     "output_type": "stream",
     "text": [
      "clingo version 5.4.0\r\n",
      "Reading from ex-2-9b.lp\r\n",
      "Solving...\r\n",
      "Answer: 1\r\n",
      "p(1,1) p(2,1) p(2,2) p(3,1) p(3,2) p(3,3) p(4,1) p(4,2) p(4,3) p(4,4)\r\n",
      "SATISFIABLE\r\n",
      "\r\n",
      "Models       : 1\r\n",
      "Calls        : 1\r\n",
      "Time         : 0.001s (Solving: 0.00s 1st Model: 0.00s Unsat: 0.00s)\r\n",
      "CPU Time     : 0.001s\r\n"
     ]
    }
   ],
   "source": [
    "!clingo ex-2-9b.lp"
   ]
  },
  {
   "cell_type": "markdown",
   "metadata": {},
   "source": [
    "**Exercise 2.10**"
   ]
  },
  {
   "cell_type": "markdown",
   "metadata": {},
   "source": [
    "Consider the program consisting of two facts: `p(1..2,1..4). p(1..4,1..2).`.\n",
    "\n",
    "How many atoms do you expect to see in its stable model?"
   ]
  },
  {
   "cell_type": "markdown",
   "metadata": {},
   "source": [
    "Answer: 12. The first produces 8, and the second produces 8, but they both share 4 as duplicates."
   ]
  },
  {
   "cell_type": "markdown",
   "metadata": {},
   "source": [
    "### Section 2.4"
   ]
  },
  {
   "cell_type": "markdown",
   "metadata": {},
   "source": [
    "**Exercise 2.11**"
   ]
  },
  {
   "cell_type": "markdown",
   "metadata": {},
   "source": [
    "(a) How would you define the predicate grandparent/2 in terms of parent/2?\n",
    "\n",
    "(b) If you run clingo on your definition, combined with facts (2.2), `parent(ann,bob). parent(bob,carol). parent(bob,dan).`, what stable model do you think it will produce?"
   ]
  },
  {
   "cell_type": "markdown",
   "metadata": {},
   "source": [
    "Answer:\n",
    "\n",
    "(a) `grandparent(G, C) :- parent(G, P), parent(P, C).`\n",
    "\n",
    "(b) The stable model is as follows:\n",
    "- parent(ann, bob)\n",
    "- parent(bob, carol)\n",
    "- parent(bob, dan)\n",
    "- grandparent(ann, carol)\n",
    "- grandparent(ann, dan)"
   ]
  },
  {
   "cell_type": "markdown",
   "metadata": {},
   "source": [
    "Checking work..."
   ]
  },
  {
   "cell_type": "code",
   "execution_count": 20,
   "metadata": {
    "scrolled": false
   },
   "outputs": [
    {
     "name": "stdout",
     "output_type": "stream",
     "text": [
      "Overwriting ex-2-11.lp\n"
     ]
    }
   ],
   "source": [
    "%%file ex-2-11.lp\n",
    "parent(ann,bob). parent(bob,carol). parent(bob,dan).\n",
    "grandparent(G, C) :- parent(G, P), parent(P, C)."
   ]
  },
  {
   "cell_type": "code",
   "execution_count": 21,
   "metadata": {
    "scrolled": true
   },
   "outputs": [
    {
     "name": "stdout",
     "output_type": "stream",
     "text": [
      "clingo version 5.4.0\r\n",
      "Reading from ex-2-11.lp\r\n",
      "Solving...\r\n",
      "Answer: 1\r\n",
      "parent(ann,bob) parent(bob,carol) parent(bob,dan) grandparent(ann,carol) grandparent(ann,dan)\r\n",
      "SATISFIABLE\r\n",
      "\r\n",
      "Models       : 1\r\n",
      "Calls        : 1\r\n",
      "Time         : 0.001s (Solving: 0.00s 1st Model: 0.00s Unsat: 0.00s)\r\n",
      "CPU Time     : 0.001s\r\n"
     ]
    }
   ],
   "source": [
    "!clingo ex-2-11.lp"
   ]
  },
  {
   "cell_type": "markdown",
   "metadata": {},
   "source": [
    "**Exercise 2.12**"
   ]
  },
  {
   "cell_type": "markdown",
   "metadata": {},
   "source": [
    "(a) How would you define the predicate sibling/2 in terms of parent/2?\n",
    "\n",
    "(b) If you run clingo on your definition, combined with facts (2.2), what stable model do you think it will produce?"
   ]
  },
  {
   "cell_type": "markdown",
   "metadata": {},
   "source": [
    "Answer:\n",
    "\n",
    "(a) `sibling(S1, S2) :- parent(P, S1), parent(P, S2).`\n",
    "\n",
    "(b) The stable model is as follows:\n",
    "- parent(ann, bob)\n",
    "- parent(bob, carol)\n",
    "- parent(bob, dan)\n",
    "- sibling(carol, dan)"
   ]
  },
  {
   "cell_type": "markdown",
   "metadata": {},
   "source": [
    "**Exercise 2.13**"
   ]
  },
  {
   "cell_type": "markdown",
   "metadata": {},
   "source": [
    "Assuming that the atom `enrolled(S,C)` expresses that student `S` is enrolled in class `C`, how would you define the set `enrolled/1` of all students who are enrolled in at least one class?"
   ]
  },
  {
   "cell_type": "markdown",
   "metadata": {},
   "source": [
    "Answer: `enrolled(S) :- enrolled(S, C).`\n",
    "\n",
    "This says that \"a student is enrolled\" IF \"a studnet is enrolled in a class.\" In other words, we check to see if a student is enrolled in a class, binding those variables, and then pull that student to just say they are enrolled."
   ]
  },
  {
   "cell_type": "markdown",
   "metadata": {},
   "source": [
    "**Exercise 2.14**"
   ]
  },
  {
   "cell_type": "markdown",
   "metadata": {},
   "source": [
    "Assuming that the atom `lives_in(X,C)` expresses that person `X` lives in city `C`, and that the atom `same_city(X,Y)` expresses that `X` and `Y` live in the same city, how would you define `same_city/2` in terms of `lives_in/2`?"
   ]
  },
  {
   "cell_type": "markdown",
   "metadata": {},
   "source": [
    "Answer: `same_city(X,Y) :- lives_in(X,C), lives_in(Y,C).`"
   ]
  },
  {
   "cell_type": "markdown",
   "metadata": {},
   "source": [
    "**Exercise 2.15**"
   ]
  },
  {
   "cell_type": "markdown",
   "metadata": {},
   "source": [
    "Assuming that the atom `age(X,N)` expresses that person `X` is `N` years old, and that the atom `older(X,Y)` expresses that `X` is older than `Y`, how would you define `older/2` in terms of `age/2`?"
   ]
  },
  {
   "cell_type": "markdown",
   "metadata": {},
   "source": [
    "Answer: `older(X,Y) :- age(X,N1), age(Y,N2), N1 > N2.`"
   ]
  },
  {
   "cell_type": "markdown",
   "metadata": {},
   "source": [
    "**Exercise 2.16**"
   ]
  },
  {
   "cell_type": "markdown",
   "metadata": {},
   "source": [
    "If we run clingo on the program consisting of rules (2.2) and (2.8), what stable model do you expect it to produce?\n",
    "\n",
    "(2.2): `parent(ann,bob). parent(bob,carol). parent(bob,dan).`\n",
    "\n",
    "(2.8): `ancestor(X,Y) :- parent(X,Y). ancestor(X,Z) :- ancestor(X,Y), ancestor(Y,Z).`"
   ]
  },
  {
   "cell_type": "markdown",
   "metadata": {},
   "source": [
    "Answer: The stable model will be as follows:\n",
    "\n",
    "\n",
    "- parent(ann, bob).\n",
    "- parent(bob, carol).\n",
    "- parent(bob, dan).\n",
    "\n",
    "\n",
    "- ancestor(ann, bob).\n",
    "- ancestor(bob, carol).\n",
    "- ancestor(bob, dan).\n",
    "\n",
    "\n",
    "- ancestor(ann, carol).\n",
    "- ancestor(ann, dan)."
   ]
  },
  {
   "cell_type": "markdown",
   "metadata": {},
   "source": [
    "**Exercise 2.17**"
   ]
  },
  {
   "cell_type": "markdown",
   "metadata": {},
   "source": [
    "Two integers are said to be coprime if the only positive integer that divides both of them is 1. We would like to generate the list of all integers from the set `1..N` that are coprime with an integer `K`. For example, if we save such a program in the file `coprimes.lp` then the command line\n",
    "\n",
    "`% clingo coprimes.lp -c n=10 -c k=12`\n",
    "\n",
    "is expected to generate the output\n",
    "\n",
    "`coprime(1) coprime(5) coprime(7)`\n",
    "\n",
    "What rules would you place in Lines 5 and 10 of Listing 2.4 to get this result?"
   ]
  },
  {
   "cell_type": "code",
   "execution_count": 9,
   "metadata": {
    "scrolled": false
   },
   "outputs": [
    {
     "name": "stdout",
     "output_type": "stream",
     "text": [
      "Overwriting ex-2-17.lp\n"
     ]
    }
   ],
   "source": [
    "%%file ex-2-17.lp\n",
    "\n",
    "% Numbers from 1 to n that are coprime with k .\n",
    "\n",
    "% input : positive integer n ; integer k .\n",
    "\n",
    "noncoprime(N) :- N = 1..n, I = 2..N, N\\I = 0, k\\I = 0.\n",
    "% achieved : noncoprime ( N ) iff N is a number from {1 ,... , n }\n",
    "% such that N and k have a common divisor greater\n",
    "% than 1.\n",
    "\n",
    "coprime(N) :- N = 1..n, not noncoprime(N).\n",
    "% achieved : coprime ( N ) iff N is a number from {1 ,... , n }\n",
    "% that is coprime with k .\n",
    "\n",
    "#show coprime/1."
   ]
  },
  {
   "cell_type": "code",
   "execution_count": 10,
   "metadata": {
    "scrolled": true
   },
   "outputs": [
    {
     "name": "stdout",
     "output_type": "stream",
     "text": [
      "clingo version 5.4.0\r\n",
      "Reading from ex-2-17.lp\r\n",
      "Solving...\r\n",
      "Answer: 1\r\n",
      "coprime(1) coprime(5) coprime(7)\r\n",
      "SATISFIABLE\r\n",
      "\r\n",
      "Models       : 1\r\n",
      "Calls        : 1\r\n",
      "Time         : 0.001s (Solving: 0.00s 1st Model: 0.00s Unsat: 0.00s)\r\n",
      "CPU Time     : 0.001s\r\n"
     ]
    }
   ],
   "source": [
    "!clingo ex-2-17.lp -c n=10 -c k=12"
   ]
  },
  {
   "cell_type": "markdown",
   "metadata": {},
   "source": [
    "**Exercise 2.18**"
   ]
  },
  {
   "cell_type": "markdown",
   "metadata": {},
   "source": [
    "Every nonnegative integer can be represented as the sum of 4 complete squares, for instance:\n",
    "\n",
    "`7 = 22 + 12 + 12 + 12; 10 = 32 + 11 + 02 + 02`.\n",
    "\n",
    "But if we want to represent a given number as the sum of only 3 complete squares, that may be impossible. The two smallest numbers that require 4 complete squares are 7 and 15. We would like to generate the list of all integers from the set `{1, . . . , n}` that cannot be represented as the sum of 3 complete squares. What rules would you place in Lines 6 and 10 of Listing 2.5 to get such a program?"
   ]
  },
  {
   "cell_type": "code",
   "execution_count": 17,
   "metadata": {
    "scrolled": false
   },
   "outputs": [
    {
     "name": "stdout",
     "output_type": "stream",
     "text": [
      "Overwriting ex-2-18.lp\n"
     ]
    }
   ],
   "source": [
    "%%file ex-2-18.lp\n",
    "\n",
    "% Numbers from 1 to n that cannot be represented as the sum\n",
    "% of 3 complete squares.\n",
    "\n",
    "% input : positive integer n.\n",
    "\n",
    "three(N) :- N=1..n, I=0..N, J=0..N-1, K=0..N-1, N = I**2 + J**2 + K**2.\n",
    "% achieved : three/1 is the set of numbers from {1, ..., n} that\n",
    "% can be represented as the sum of 3 squares.\n",
    "\n",
    "more_than_three(N) :- N=1..n, not three(N).\n",
    "% achieved : more_than_three/1 is the set of numbers from\n",
    "% {1, ..., n} that can’t be represented as the sum\n",
    "% of 3 squares.\n",
    "\n",
    "#show more_than_three/1."
   ]
  },
  {
   "cell_type": "code",
   "execution_count": 18,
   "metadata": {
    "scrolled": true
   },
   "outputs": [
    {
     "name": "stdout",
     "output_type": "stream",
     "text": [
      "clingo version 5.4.0\r\n",
      "Reading from ex-2-18.lp\r\n",
      "Solving...\r\n",
      "Answer: 1\r\n",
      "more_than_three(7) more_than_three(15)\r\n",
      "SATISFIABLE\r\n",
      "\r\n",
      "Models       : 1\r\n",
      "Calls        : 1\r\n",
      "Time         : 0.005s (Solving: 0.00s 1st Model: 0.00s Unsat: 0.00s)\r\n",
      "CPU Time     : 0.005s\r\n"
     ]
    }
   ],
   "source": [
    "!clingo ex-2-18.lp -c n=16"
   ]
  },
  {
   "cell_type": "markdown",
   "metadata": {},
   "source": [
    "**Exercise 2.19**"
   ]
  },
  {
   "cell_type": "markdown",
   "metadata": {},
   "source": [
    "Listing 2.6 gives yet another example of a pair of definitions, one on top of the other.\n",
    "Before defining the property fac/1 of being a factorial, we give a recursive definition of the\n",
    "binary relation fac/2, “the factorial of N is F .” Note that there is no “achieved” comment\n",
    "after Line 5. Nothing of interest is achieved in the middle of a definition.\n",
    "\n",
    "Consider the part of the program shown in Listing 2.6 that precedes the\n",
    "comment in Line 7. What atoms do you expect to see in its stable model if the value of n\n",
    "is 4?"
   ]
  },
  {
   "cell_type": "markdown",
   "metadata": {},
   "source": [
    "Answer: When n=4, the stable model will include the following:\n",
    "- fac(0, 1).\n",
    "- fac(1, 1).\n",
    "- fac(2, 2).\n",
    "- fac(3, 6).\n",
    "- fac(4, 24).\n",
    "- fac(1).\n",
    "- fac(1).\n",
    "- fac(2).\n",
    "- fac(6).\n",
    "- fac(24)."
   ]
  },
  {
   "cell_type": "code",
   "execution_count": 21,
   "metadata": {
    "scrolled": false
   },
   "outputs": [
    {
     "name": "stdout",
     "output_type": "stream",
     "text": [
      "Overwriting ex-2-19.lp\n"
     ]
    }
   ],
   "source": [
    "%%file ex-2-19.lp\n",
    "\n",
    "% Factorials of numbers from 0 to n.\n",
    "\n",
    "% input : nonnegative integer n.\n",
    "\n",
    "fac(0, 1).\n",
    "fac(N+1, F*(N+1)) :- fac(N, F), N < n.\n",
    "% achieved : fac/2 = {(0 ,0!), ..., (n, n!)}.\n",
    "\n",
    "fac(F) :- fac(N, F).\n",
    "% achieved : fac/1 = {0! ,... , n !}."
   ]
  },
  {
   "cell_type": "code",
   "execution_count": 22,
   "metadata": {
    "scrolled": true
   },
   "outputs": [
    {
     "name": "stdout",
     "output_type": "stream",
     "text": [
      "clingo version 5.4.0\r\n",
      "Reading from ex-2-19.lp\r\n",
      "Solving...\r\n",
      "Answer: 1\r\n",
      "fac(0,1) fac(1,1) fac(2,2) fac(3,6) fac(4,24) fac(1) fac(2) fac(6) fac(24)\r\n",
      "SATISFIABLE\r\n",
      "\r\n",
      "Models       : 1\r\n",
      "Calls        : 1\r\n",
      "Time         : 0.001s (Solving: 0.00s 1st Model: 0.00s Unsat: 0.00s)\r\n",
      "CPU Time     : 0.001s\r\n"
     ]
    }
   ],
   "source": [
    "!clingo ex-2-19.lp -c n=4"
   ]
  },
  {
   "cell_type": "code",
   "execution_count": null,
   "metadata": {},
   "outputs": [],
   "source": []
  }
 ],
 "metadata": {
  "kernelspec": {
   "display_name": "Python 3 (ipykernel)",
   "language": "python",
   "name": "python3"
  },
  "language_info": {
   "codemirror_mode": {
    "name": "ipython",
    "version": 3
   },
   "file_extension": ".py",
   "mimetype": "text/x-python",
   "name": "python",
   "nbconvert_exporter": "python",
   "pygments_lexer": "ipython3",
   "version": "3.8.10"
  }
 },
 "nbformat": 4,
 "nbformat_minor": 2
}
