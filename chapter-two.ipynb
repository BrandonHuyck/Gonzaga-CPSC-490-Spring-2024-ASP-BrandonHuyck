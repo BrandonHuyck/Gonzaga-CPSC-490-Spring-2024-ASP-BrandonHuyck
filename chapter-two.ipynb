{
 "cells": [
  {
   "cell_type": "markdown",
   "metadata": {},
   "source": [
    "# Chapter 2"
   ]
  },
  {
   "cell_type": "markdown",
   "metadata": {},
   "source": [
    "### Introduction"
   ]
  },
  {
   "cell_type": "markdown",
   "metadata": {},
   "source": [
    "**Exercise 2.1**"
   ]
  },
  {
   "cell_type": "code",
   "execution_count": 47,
   "metadata": {},
   "outputs": [
    {
     "name": "stdout",
     "output_type": "stream",
     "text": [
      "Overwriting ex-2-1.dlv\n"
     ]
    }
   ],
   "source": [
    "%%file ex-2-1.dlv\n",
    "size(uk, 64).\n",
    "size(france, 65).\n",
    "size(germany, 83).\n",
    "size(italy, 61).\n",
    "\n",
    "large(C) :- size(C, S1), size(uk, S2), S1 > S2.\n",
    "    \n",
    "size(russia, 142)."
   ]
  },
  {
   "cell_type": "code",
   "execution_count": 48,
   "metadata": {},
   "outputs": [
    {
     "name": "stdout",
     "output_type": "stream",
     "text": [
      "clingo version 5.4.0\r\n",
      "Reading from ex-2-1.dlv\r\n",
      "Solving...\r\n",
      "Answer: 1\r\n",
      "size(uk,64) size(france,65) size(germany,83) size(italy,61) size(russia,142) large(france) large(germany) large(russia)\r\n",
      "SATISFIABLE\r\n",
      "\r\n",
      "Models       : 1\r\n",
      "Calls        : 1\r\n",
      "Time         : 0.001s (Solving: 0.00s 1st Model: 0.00s Unsat: 0.00s)\r\n",
      "CPU Time     : 0.001s\r\n"
     ]
    }
   ],
   "source": [
    "!clingo ex-2-1.dlv"
   ]
  },
  {
   "cell_type": "code",
   "execution_count": 37,
   "metadata": {},
   "outputs": [
    {
     "name": "stdout",
     "output_type": "stream",
     "text": [
      "Overwriting ex-2-1.dlv\n"
     ]
    }
   ],
   "source": [
    "%%file ex-2-1.dlv\n",
    "size(uk, 64).\n",
    "size(france, 65).\n",
    "size(germany, 83).\n",
    "size(italy, 61).\n",
    "\n",
    "large(C) :- size(C, S1), S1 > 500.\n",
    "    \n",
    "size(russia, 142)."
   ]
  },
  {
   "cell_type": "code",
   "execution_count": 38,
   "metadata": {},
   "outputs": [
    {
     "name": "stdout",
     "output_type": "stream",
     "text": [
      "clingo version 5.4.0\r\n",
      "Reading from ex-2-1.dlv\r\n",
      "Solving...\r\n",
      "Answer: 1\r\n",
      "size(uk,64) size(france,65) size(germany,83) size(italy,61) size(russia,142)\r\n",
      "SATISFIABLE\r\n",
      "\r\n",
      "Models       : 1\r\n",
      "Calls        : 1\r\n",
      "Time         : 0.001s (Solving: 0.00s 1st Model: 0.00s Unsat: 0.00s)\r\n",
      "CPU Time     : 0.001s\r\n"
     ]
    }
   ],
   "source": [
    "!clingo ex-2-1.dlv"
   ]
  },
  {
   "cell_type": "markdown",
   "metadata": {},
   "source": [
    "**Exercise 2.2**"
   ]
  },
  {
   "cell_type": "markdown",
   "metadata": {},
   "source": [
    "`child(X,Y) :- parent(Y,X).` translates to \"X is a child of Y *if* Y is a parent of X\""
   ]
  },
  {
   "cell_type": "markdown",
   "metadata": {},
   "source": [
    "Given the rules `parent(ann,bob). parent(bob,carol). parent(bob,dan).`, the stable model will be as follows:\n",
    " - parent(ann, bob)\n",
    " - parent(bob, carol)\n",
    " - parent(bob, dan)\n",
    " - child(bob, ann)\n",
    " - child(carol, bob)\n",
    " - child(dan, bob)"
   ]
  },
  {
   "cell_type": "markdown",
   "metadata": {},
   "source": [
    "### Section 2.1"
   ]
  },
  {
   "cell_type": "markdown",
   "metadata": {},
   "source": [
    "**Exercise 2.3**"
   ]
  },
  {
   "cell_type": "markdown",
   "metadata": {},
   "source": [
    "(a) Which instance of rule (1.1) justifies including `large(germany)` in the stable model of the program?\n",
    "\n",
    "Answer: `large(germany) :- size(germany, 83), size(uk, 64), 83 > 64`"
   ]
  },
  {
   "cell_type": "markdown",
   "metadata": {},
   "source": [
    "(b) Which instance of rule (2.1) justifies including `child(dan,bob)` in the stable model of program (2.1), (2.2)?\n",
    "\n",
    "Answer: `child(dan, bob) :- parent(bob, dan)`"
   ]
  },
  {
   "cell_type": "markdown",
   "metadata": {},
   "source": [
    "**Exercise 2.4**"
   ]
  },
  {
   "cell_type": "markdown",
   "metadata": {},
   "source": [
    "Which of the following ground rules are instances of rule (1.1), `large(C) :- size(C,S1), size(uk,S2), S1 > S2.`?\n",
    "\n",
    "(a) `large(france) :- size(france,65), size(italy,61), 65 > 61.`\n",
    "\n",
    "(b) `large(italy) :- size(italy,61), size(uk,64), 61 > 64.`\n",
    "\n",
    "(c) `large(italy) :- size(italy,83), size(uk,64), 83 > 64.`\n",
    "\n",
    "(d) `large(7) :- size(7,7), size(uk,7), 7 > 7.`"
   ]
  },
  {
   "cell_type": "markdown",
   "metadata": {},
   "source": [
    "Answer: None of the above"
   ]
  },
  {
   "cell_type": "markdown",
   "metadata": {},
   "source": [
    "**Exercise 2.5**"
   ]
  },
  {
   "cell_type": "markdown",
   "metadata": {},
   "source": [
    "Use pooling to abbreviate line (2.2), `parent(ann,bob). parent(bob,carol). parent(bob,dan).`."
   ]
  },
  {
   "cell_type": "markdown",
   "metadata": {},
   "source": [
    "Answer: `parent(ann, bob; bob, carol; bob, dan).`"
   ]
  },
  {
   "cell_type": "markdown",
   "metadata": {},
   "source": [
    "**Exercise 2.6**"
   ]
  },
  {
   "cell_type": "markdown",
   "metadata": {},
   "source": [
    "If you run clingo on the one-rule program, `p(1,2; 2,4; 4,8; 8,16).`, then what stable model do you think it will produce?"
   ]
  },
  {
   "cell_type": "markdown",
   "metadata": {},
   "source": [
    "Answer: It will produce the stable model consisting of the following:\n",
    " - p(1, 2).\n",
    " - p(2, 4).\n",
    " - p(4, 8).\n",
    " - p(8, 16)."
   ]
  },
  {
   "cell_type": "code",
   "execution_count": null,
   "metadata": {},
   "outputs": [],
   "source": []
  }
 ],
 "metadata": {
  "kernelspec": {
   "display_name": "Python 3 (ipykernel)",
   "language": "python",
   "name": "python3"
  },
  "language_info": {
   "codemirror_mode": {
    "name": "ipython",
    "version": 3
   },
   "file_extension": ".py",
   "mimetype": "text/x-python",
   "name": "python",
   "nbconvert_exporter": "python",
   "pygments_lexer": "ipython3",
   "version": "3.8.10"
  }
 },
 "nbformat": 4,
 "nbformat_minor": 2
}
