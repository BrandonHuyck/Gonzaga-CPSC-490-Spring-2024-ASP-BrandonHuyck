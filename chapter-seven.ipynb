{
 "cells": [
  {
   "cell_type": "markdown",
   "metadata": {},
   "source": [
    "# Chapter Seven"
   ]
  },
  {
   "cell_type": "markdown",
   "metadata": {},
   "source": [
    "### Section 7.1"
   ]
  },
  {
   "cell_type": "markdown",
   "metadata": {},
   "source": [
    "**Exercise 7.1**\n",
    "\n",
    "(a) In the initial state of the blocks world with n blocks, all blocks are on\n",
    "the table. What is the number of actions that can be performed in this state?\n",
    "\n",
    "(b) In the initial state of the blocks world, blocks form n towers, and every tower contains more than\n",
    "one block. What is the number of actions that can be performed? \n",
    "\n",
    "(c) Blocks are arranged\n",
    "in n towers, and m out of them contain more than one block. What is the number of actions\n",
    "that can be performed?"
   ]
  },
  {
   "cell_type": "markdown",
   "metadata": {},
   "source": [
    "**Answer**\n",
    "\n",
    "(a) n*(n-1) ... n block could move to n-1 spots.\n",
    "\n",
    "(b) n*n ... n towers with a block that can be moved to one of the n-1 other towers or the table\n",
    "\n",
    "(c) m*n + (n-m)*(n-1)"
   ]
  },
  {
   "cell_type": "markdown",
   "metadata": {},
   "source": [
    "**Exercise 7.2**\n",
    "\n",
    "Give an example of a planning problem in the blocks world with 3 blocks\n",
    "that cannot be solved in fewer than 4 steps."
   ]
  },
  {
   "cell_type": "markdown",
   "metadata": {},
   "source": [
    "**Answer**\n",
    "\n",
    "```\n",
    "c    a\n",
    "b -> c\n",
    "a    b\n",
    "_    _\n",
    "```"
   ]
  },
  {
   "cell_type": "markdown",
   "metadata": {},
   "source": [
    "### Section 7.2"
   ]
  },
  {
   "cell_type": "markdown",
   "metadata": {},
   "source": [
    "**Exercise 7.3**\n",
    "\n",
    "In the transition diagram of the blocks world with 3 blocks:\n",
    "\n",
    "(a) what is\n",
    "the total number of edges? \n",
    "\n",
    "(b) how many of them lead to S7? \n",
    "\n",
    "(c) how many of them are\n",
    "labeled move(a, table)?"
   ]
  },
  {
   "cell_type": "markdown",
   "metadata": {},
   "source": [
    "**Answer**\n",
    "\n",
    "(a) 30\n",
    "\n",
    "(b) 3 ... the same number that lead away from S7\n",
    "\n",
    "(c) 4"
   ]
  },
  {
   "cell_type": "markdown",
   "metadata": {},
   "source": [
    "**Exercise 7.4**\n",
    "\n",
    "*Turkey shoot*\n",
    "\n",
    "Consider the dynamic system consisting of a gun, which\n",
    "can be loaded or unloaded, and a turkey, which can be alive or dead. This system can be\n",
    "in 4 states:\n",
    "(loaded, alive), (loaded, dead ), (unloaded, alive), (unloaded, dead ).\n",
    "There are 2 actions: load, which can be executed whenever the gun is unloaded, and shoot,\n",
    "which can be executed whenever the gun is loaded. After shooting, the turkey is dead, and\n",
    "the gun is unloaded. Draw the transition diagram for this dynamic system."
   ]
  },
  {
   "cell_type": "markdown",
   "metadata": {},
   "source": [
    "**Answer**\n",
    "```\n",
    "U,A --load--> L,A --shoot-> U,D --load--> L,D\n",
    "                                <-shoot--\n",
    "```"
   ]
  },
  {
   "cell_type": "markdown",
   "metadata": {},
   "source": [
    "**Exercise 7.5**\n",
    "\n",
    "*3-way bulbs*\n",
    "\n",
    "Consider the dynamic system consisting of several 3-way\n",
    "bulbs controlled by pull-chain switches. A switch can be in 4 positions: off (0), low (1),\n",
    "medium (2), and high (3). The system can be in 4^n states, represented by lists of numbers of\n",
    "length n, where n is the number of bulbs. The actions are `pull(i)`, “pull the chain controlling\n",
    "bulb i.”\n",
    "\n",
    "(a) Draw the transition diagram describing this system for n = 1. \n",
    "\n",
    "(b) What is the\n",
    "total number of edges in the transition diagram for an arbitrary n? \n",
    "\n",
    "(c) Describe the edges\n",
    "starting at the vertex (0,0,3)."
   ]
  },
  {
   "cell_type": "markdown",
   "metadata": {},
   "source": [
    "**Answer**\n",
    "\n",
    "(a) `(0,) -> (1,) -> (2,) -> (3,) ->`\n",
    "\n",
    "(b) 4^n * n ... number of verticies, times the num of trans it can make, which is incr ea one\n",
    "\n",
    "(c) We can transition from (0, 0, 3) to the following:\n",
    " - (1, 0, 3)\n",
    " - (0, 1, 3)\n",
    " - (0, 0, 0)"
   ]
  },
  {
   "cell_type": "markdown",
   "metadata": {},
   "source": [
    "**Exercise 7.6**\n",
    "\n",
    "*Crossing the river* \n",
    "\n",
    "You are on a river bank, with a boat and several items\n",
    "that you can take with you to the other bank. The boat, and each of the items, can be in\n",
    "one of two locations—on the left bank or on the right bank. These locations determine the\n",
    "state of the system. The items are bulky, so that the boat cannot carry more than one at a\n",
    "time. The available actions are cross(x), where x is one of the items (cross the river taking x\n",
    "with you) or the symbol empty. \n",
    "\n",
    "(a) Assume that in state S the boat and all n items are on\n",
    "the left bank. What is the length of the shortest path in the transition diagram that leads\n",
    "from S to the state in which the boat and all items are on the right bank? \n",
    "\n",
    "(b) How many\n",
    "paths of length 2 in the transition diagram start at vertex S?"
   ]
  },
  {
   "cell_type": "markdown",
   "metadata": {},
   "source": [
    "**Answer**\n",
    "\n",
    "(a) 2n - 1\n",
    "\n",
    "(b) 2 ... bring back the item or just the boat"
   ]
  },
  {
   "cell_type": "markdown",
   "metadata": {},
   "source": [
    "### Section 7.3\n"
   ]
  },
  {
   "cell_type": "markdown",
   "metadata": {},
   "source": [
    "**Exercise 7.7**\n",
    "\n",
    "States of the turkey shoot domain (Exercise 7.4) can be described by\n",
    "two fluents, state of gun with the values loaded and unloaded, and state of turkey, with the\n",
    "values alive and dead. For instance, the condition “the gun is loaded” can be represented by\n",
    "the term state of gun(loaded ). Consider the following scenario: the turkey is initially alive,\n",
    "and the gun is unloaded; then the action load is executed, followed by shoot. How would\n",
    "you describe it by a directive and a set of atoms?"
   ]
  },
  {
   "cell_type": "markdown",
   "metadata": {},
   "source": [
    "**Answer**\n",
    "\n",
    "```\n",
    "#const h = 2.\n",
    "\n",
    "holds(curr(unloaded, alive), 0).\n",
    "\n",
    "occurs(load, 0).\n",
    "holds(curr(loaded, alive), 1).\n",
    "\n",
    "occurs(shoot, 1).\n",
    "holds(curr(unloaded, dead), 2).\n",
    "```"
   ]
  },
  {
   "cell_type": "markdown",
   "metadata": {},
   "source": [
    "**Exercise 7.8**\n",
    "\n",
    "States of the 3-way bulb domain (Exercise 7.5) with n bulbs can be\n",
    "described by n fluents with the values 0, . . . , 3. For instance, the condition “bulb I is off”\n",
    "can be represented by the term `brightness(bulb(I), 0)`. Consider the following scenario: the\n",
    "system consisting of 3 bulbs is initially in the state (0,0,3), and then the action `pull(3)` is\n",
    "executed. How would you describe it by a directive and a set of atoms?"
   ]
  },
  {
   "cell_type": "markdown",
   "metadata": {},
   "source": [
    "**Answer**\n",
    "\n",
    "```\n",
    "#const h = 1.\n",
    "\n",
    "holds(brightness(bulb(1), 0), 0).\n",
    "holds(brightness(bulb(2), 0), 0).\n",
    "holds(brightness(bulb(3), 3), 0).\n",
    "\n",
    "occurs(pull(3), 0).\n",
    "holds(brightness(bulb(1), 0), 1).\n",
    "holds(brightness(bulb(2), 0), 1).\n",
    "holds(brightness(bulb(3), 0), 1).\n",
    "```"
   ]
  },
  {
   "cell_type": "markdown",
   "metadata": {},
   "source": [
    "**Exercise 7.9**\n",
    "\n",
    "States of the crossing the river domain (Exercise 7.6) can be described by\n",
    "the locations of the boat and of all the items. The possible values of these fluents are left\n",
    "and right. Consider the following scenario: there are two items, a and b; initially they are\n",
    "on the left bank, and the boat is on the right bank; you cross the river to bring both items\n",
    "to the right bank—first a and then b. How would you describe it by a directive and a set\n",
    "of atoms?"
   ]
  },
  {
   "cell_type": "markdown",
   "metadata": {},
   "source": [
    "**Answer**\n",
    "\n",
    "```\n",
    "#const h = 4.\n",
    "\n",
    "holds(loc(item(0), right), 0).\n",
    "holds(loc(item(1), left), 0).\n",
    "holds(loc(item(2), left), 0).\n",
    "\n",
    "occurs(move(empty), 0).\n",
    "holds(loc(item(0), left), 1).\n",
    "holds(loc(item(1), left), 1).\n",
    "holds(loc(item(2), left), 1).\n",
    "\n",
    "occurs(move(a), 1).\n",
    "holds(loc(item(0), right), 2).\n",
    "holds(loc(item(1), right), 2).\n",
    "holds(loc(item(2), left), 2).\n",
    "\n",
    "occurs(move(empty), 2).\n",
    "holds(loc(item(0), left), 3).\n",
    "holds(loc(item(1), right), 3).\n",
    "holds(loc(item(2), left), 3).\n",
    "\n",
    "occurs(move(b), 3).\n",
    "holds(loc(item(0), right), 4).\n",
    "holds(loc(item(1), right), 4).\n",
    "holds(loc(item(2), right), 4).\n",
    "```"
   ]
  },
  {
   "cell_type": "markdown",
   "metadata": {},
   "source": [
    "**Exercise 7.10**\n",
    "\n",
    "Write the existence and uniqueness of value constraints for the following\n",
    "domains:\n",
    "\n",
    "(a) the turkey shoot domain,\n",
    "\n",
    "(b) the 3-way bulb domain, using the placeholder n for the number of bulbs,\n",
    "\n",
    "(c) the crossing the river domain, using the predicate symbol item/1 to represent the set\n",
    "of items."
   ]
  },
  {
   "cell_type": "markdown",
   "metadata": {},
   "source": [
    "**Answer**\n",
    "\n",
    "(a) `:- #count{G, T : holds(curr(G, T), TIME)} != 1, TIME = 0..h.`\n",
    "\n",
    "(b) `:- #count{B : holds(brightness(bulb(I), B), T)} != 1, bulb(I), I = 1..n, T = 0..h.`\n",
    "\n",
    "(c) `:- #count{L : holds(loc(item(X), L), T} != 1, item(X), T = 0..h.`"
   ]
  },
  {
   "cell_type": "markdown",
   "metadata": {},
   "source": [
    "### Section 7.4"
   ]
  },
  {
   "cell_type": "markdown",
   "metadata": {},
   "source": [
    "**Exercise 7.11**\n",
    "\n",
    "Describe the effects of actions in the 3-state bulb domain by one rule."
   ]
  },
  {
   "cell_type": "markdown",
   "metadata": {},
   "source": [
    "**Answer**\n",
    "\n",
    "`holds(brightness(bulb(I), (B+1)\\4), T+1) :- occurs(pull(I), T).`"
   ]
  },
  {
   "cell_type": "markdown",
   "metadata": {},
   "source": [
    "**Exercise 7.12**\n",
    "\n",
    "Express inertia by rules:\n",
    "\n",
    "(a) for the turkey shoot domain;\n",
    "\n",
    "(b) for the\n",
    "3-way bulb domain;\n",
    "\n",
    "(c) for the crossing the river domain."
   ]
  },
  {
   "cell_type": "markdown",
   "metadata": {},
   "source": [
    "**Answer**\n",
    "\n",
    "(a) `holds(curr(G, T), TIME+1) :- holds(curr(G,T), TIME), not not holds(curr(G1, T), TIME+1), G!=G1, T=0..h-1.`\n",
    "\n",
    "(b)\n",
    "\n",
    "```\n",
    "holds(brightness(bulb(I), B), T+1) :- holds(brightness(bulb(I), B), T),\n",
    "                                      not not holds(brightness(bulb(I), (B+1)\\4), T+1),\n",
    "                                      T = 0..h-1.\n",
    "```\n",
    "\n",
    "(c)\n",
    "```\n",
    "holds(loc(item(I), L), T+1) :- holds(loc(item(I), L), T,\n",
    "                               not not holds(loc(item(I), L1), T+1),\n",
    "                               L != L1,\n",
    "                               T = 0..h-1.\n",
    "```"
   ]
  },
  {
   "cell_type": "markdown",
   "metadata": {},
   "source": [
    "**Exercise 7.13**\n",
    "\n",
    "Rewrite the inertia rule from Exercise 7.12(b) as a choice rule."
   ]
  },
  {
   "cell_type": "markdown",
   "metadata": {},
   "source": [
    "**Answer**\n",
    "\n",
    "`{holds(brightness(bulb(I), B), T+1} :- holds(brightness(bulb(I), B), T), T = 0..h-1.`"
   ]
  },
  {
   "cell_type": "markdown",
   "metadata": {},
   "source": [
    "### Section 7.5"
   ]
  },
  {
   "cell_type": "markdown",
   "metadata": {},
   "source": [
    "**Exercise 7.14**\n",
    "\n",
    "Constraint (7.12) `B1 = B2 :- holds(loc(B1,B),T), holds(loc(B2,B),T), block(B).` will become unacceptable if we remove the atom\n",
    "`block(B)` from its body. Explain why."
   ]
  },
  {
   "cell_type": "markdown",
   "metadata": {},
   "source": [
    "**Answer**\n",
    "\n",
    "Otherwise two distinct blocks could not both be on the `table` at the same time."
   ]
  },
  {
   "cell_type": "markdown",
   "metadata": {},
   "source": [
    "**Exercise 7.15**\n",
    "\n",
    "Write a constraint expressing that precondition.\n",
    "\n",
    "Or, rewrite constraint (7.12) as a precondition."
   ]
  },
  {
   "cell_type": "markdown",
   "metadata": {},
   "source": [
    "**Answer**\n",
    "\n",
    "`:- occurs(move(B1, L), T), holds(loc(B2, L), T), block(L), B1!=B2.`"
   ]
  },
  {
   "cell_type": "markdown",
   "metadata": {},
   "source": [
    "**Exercise 7.16**\n",
    "\n",
    "In the turkey shoot domain, the action shoot can be executed only when\n",
    "the gun is loaded, and the action load only when it is not. Express these preconditions by\n",
    "constraints."
   ]
  },
  {
   "cell_type": "markdown",
   "metadata": {},
   "source": [
    "**Answer**\n",
    "\n",
    "- `:- occurs(shoot, T), holds(curr(unloaded, _), T).`\n",
    "- `:- occurs(load, T), holds(curr(loaded, _), T).`"
   ]
  },
  {
   "cell_type": "markdown",
   "metadata": {},
   "source": [
    "**Exercise 7.17**\n",
    "\n",
    "In the crossing the river domain, an item can be taken to the other bank\n",
    "only when it is on the same bank as the boat. Express this precondition by a constraint."
   ]
  },
  {
   "cell_type": "markdown",
   "metadata": {},
   "source": [
    "**Answer**\n",
    "\n",
    "`:- occurs(move(I), T), holds(loc(item(I), L1), T), holds(loc(item(0), L2), T), L1!=L2.`"
   ]
  },
  {
   "cell_type": "markdown",
   "metadata": {},
   "source": [
    "### Section 7.6"
   ]
  },
  {
   "cell_type": "markdown",
   "metadata": {},
   "source": [
    "**Exercise 7.18**\n",
    "\n"
   ]
  },
  {
   "cell_type": "markdown",
   "metadata": {},
   "source": [
    "**Answer**\n",
    "\n"
   ]
  },
  {
   "cell_type": "code",
   "execution_count": null,
   "metadata": {},
   "outputs": [],
   "source": []
  }
 ],
 "metadata": {
  "kernelspec": {
   "display_name": "Python 3 (ipykernel)",
   "language": "python",
   "name": "python3"
  },
  "language_info": {
   "codemirror_mode": {
    "name": "ipython",
    "version": 3
   },
   "file_extension": ".py",
   "mimetype": "text/x-python",
   "name": "python",
   "nbconvert_exporter": "python",
   "pygments_lexer": "ipython3",
   "version": "3.8.10"
  }
 },
 "nbformat": 4,
 "nbformat_minor": 4
}
