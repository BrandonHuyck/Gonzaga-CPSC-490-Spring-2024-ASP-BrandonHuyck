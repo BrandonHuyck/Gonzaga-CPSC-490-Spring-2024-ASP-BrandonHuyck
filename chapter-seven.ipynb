{
 "cells": [
  {
   "cell_type": "markdown",
   "metadata": {},
   "source": [
    "# Chapter Seven"
   ]
  },
  {
   "cell_type": "markdown",
   "metadata": {},
   "source": [
    "### Section 7.1"
   ]
  },
  {
   "cell_type": "markdown",
   "metadata": {},
   "source": [
    "**Exercise 7.1**\n",
    "\n",
    "(a) In the initial state of the blocks world with n blocks, all blocks are on\n",
    "the table. What is the number of actions that can be performed in this state?\n",
    "\n",
    "(b) In the initial state of the blocks world, blocks form n towers, and every tower contains more than\n",
    "one block. What is the number of actions that can be performed? \n",
    "\n",
    "(c) Blocks are arranged\n",
    "in n towers, and m out of them contain more than one block. What is the number of actions\n",
    "that can be performed?"
   ]
  },
  {
   "cell_type": "markdown",
   "metadata": {},
   "source": [
    "**Answer**\n",
    "\n",
    "(a) n*(n-1) ... n block could move to n-1 spots.\n",
    "\n",
    "(b) n*n ... n towers with a block that can be moved to one of the n-1 other towers or the table\n",
    "\n",
    "(c) m*n + (n-m)*(n-1)"
   ]
  },
  {
   "cell_type": "markdown",
   "metadata": {},
   "source": [
    "**Exercise 7.2**\n",
    "\n",
    "Give an example of a planning problem in the blocks world with 3 blocks\n",
    "that cannot be solved in fewer than 4 steps."
   ]
  },
  {
   "cell_type": "markdown",
   "metadata": {},
   "source": [
    "**Answer**\n",
    "\n",
    "```\n",
    "c    a\n",
    "b -> c\n",
    "a    b\n",
    "_    _\n",
    "```"
   ]
  },
  {
   "cell_type": "markdown",
   "metadata": {},
   "source": [
    "### Section 7.2"
   ]
  },
  {
   "cell_type": "markdown",
   "metadata": {},
   "source": [
    "**Exercise 7.3**\n",
    "\n",
    "In the transition diagram of the blocks world with 3 blocks:\n",
    "\n",
    "(a) what is\n",
    "the total number of edges? \n",
    "\n",
    "(b) how many of them lead to S7? \n",
    "\n",
    "(c) how many of them are\n",
    "labeled move(a, table)?"
   ]
  },
  {
   "cell_type": "markdown",
   "metadata": {},
   "source": [
    "**Answer**\n",
    "\n",
    "(a) 30\n",
    "\n",
    "(b) 3 ... the same number that lead away from S7\n",
    "\n",
    "(c) 4"
   ]
  },
  {
   "cell_type": "markdown",
   "metadata": {},
   "source": [
    "**Exercise 7.4**\n",
    "\n",
    "*Turkey shoot*\n",
    "\n",
    "Consider the dynamic system consisting of a gun, which\n",
    "can be loaded or unloaded, and a turkey, which can be alive or dead. This system can be\n",
    "in 4 states:\n",
    "(loaded, alive), (loaded, dead ), (unloaded, alive), (unloaded, dead ).\n",
    "There are 2 actions: load, which can be executed whenever the gun is unloaded, and shoot,\n",
    "which can be executed whenever the gun is loaded. After shooting, the turkey is dead, and\n",
    "the gun is unloaded. Draw the transition diagram for this dynamic system."
   ]
  },
  {
   "cell_type": "markdown",
   "metadata": {},
   "source": [
    "**Answer**\n",
    "```\n",
    "U,A --load--> L,A --shoot-> U,D --load--> L,D\n",
    "                                <-shoot--\n",
    "```"
   ]
  },
  {
   "cell_type": "markdown",
   "metadata": {},
   "source": [
    "**Exercise 7.5**\n",
    "\n",
    "*3-way bulbs*\n",
    "\n",
    "Consider the dynamic system consisting of several 3-way\n",
    "bulbs controlled by pull-chain switches. A switch can be in 4 positions: off (0), low (1),\n",
    "medium (2), and high (3). The system can be in 4^n states, represented by lists of numbers of\n",
    "length n, where n is the number of bulbs. The actions are `pull(i)`, “pull the chain controlling\n",
    "bulb i.”\n",
    "\n",
    "(a) Draw the transition diagram describing this system for n = 1. \n",
    "\n",
    "(b) What is the\n",
    "total number of edges in the transition diagram for an arbitrary n? \n",
    "\n",
    "(c) Describe the edges\n",
    "starting at the vertex (0,0,3)."
   ]
  },
  {
   "cell_type": "markdown",
   "metadata": {},
   "source": [
    "**Answer**\n",
    "\n",
    "(a) `(0,) -> (1,) -> (2,) -> (3,) ->`\n",
    "\n",
    "(b) 4^n * n ... number of verticies, times the num of trans it can make, which is incr ea one\n",
    "\n",
    "(c) We can transition from (0, 0, 3) to the following:\n",
    " - (1, 0, 3)\n",
    " - (0, 1, 3)\n",
    " - (0, 0, 0)"
   ]
  },
  {
   "cell_type": "markdown",
   "metadata": {},
   "source": [
    "**Exercise 7.6**\n",
    "\n",
    "*Crossing the river* \n",
    "\n",
    "You are on a river bank, with a boat and several items\n",
    "that you can take with you to the other bank. The boat, and each of the items, can be in\n",
    "one of two locations—on the left bank or on the right bank. These locations determine the\n",
    "state of the system. The items are bulky, so that the boat cannot carry more than one at a\n",
    "time. The available actions are cross(x), where x is one of the items (cross the river taking x\n",
    "with you) or the symbol empty. \n",
    "\n",
    "(a) Assume that in state S the boat and all n items are on\n",
    "the left bank. What is the length of the shortest path in the transition diagram that leads\n",
    "from S to the state in which the boat and all items are on the right bank? \n",
    "\n",
    "(b) How many\n",
    "paths of length 2 in the transition diagram start at vertex S?"
   ]
  },
  {
   "cell_type": "markdown",
   "metadata": {},
   "source": [
    "**Answer**\n",
    "\n",
    "(a) 2n - 1\n",
    "\n",
    "(b) 2 ... bring back the item or just the boat"
   ]
  },
  {
   "cell_type": "markdown",
   "metadata": {},
   "source": [
    "### Section 7.3\n"
   ]
  },
  {
   "cell_type": "markdown",
   "metadata": {},
   "source": [
    "**Exercise 7.7**\n",
    "\n",
    "States of the turkey shoot domain (Exercise 7.4) can be described by\n",
    "two fluents, state of gun with the values loaded and unloaded, and state of turkey, with the\n",
    "values alive and dead. For instance, the condition “the gun is loaded” can be represented by\n",
    "the term state of gun(loaded ). Consider the following scenario: the turkey is initially alive,\n",
    "and the gun is unloaded; then the action load is executed, followed by shoot. How would\n",
    "you describe it by a directive and a set of atoms?"
   ]
  },
  {
   "cell_type": "markdown",
   "metadata": {},
   "source": [
    "**Answer**\n",
    "\n",
    "```\n",
    "#const h = 2.\n",
    "\n",
    "holds(curr(unloaded, alive), 0).\n",
    "\n",
    "occurs(load, 0).\n",
    "holds(curr(loaded, alive), 1).\n",
    "\n",
    "occurs(shoot, 1).\n",
    "holds(curr(unloaded, dead), 2).\n",
    "```"
   ]
  },
  {
   "cell_type": "markdown",
   "metadata": {},
   "source": [
    "**Exercise 7.8**\n",
    "\n",
    "States of the 3-way bulb domain (Exercise 7.5) with n bulbs can be\n",
    "described by n fluents with the values 0, . . . , 3. For instance, the condition “bulb I is off”\n",
    "can be represented by the term `brightness(bulb(I), 0)`. Consider the following scenario: the\n",
    "system consisting of 3 bulbs is initially in the state (0,0,3), and then the action `pull(3)` is\n",
    "executed. How would you describe it by a directive and a set of atoms?"
   ]
  },
  {
   "cell_type": "markdown",
   "metadata": {},
   "source": [
    "**Answer**\n",
    "\n",
    "```\n",
    "#const h = 1.\n",
    "\n",
    "holds(brightness(bulb(1), 0), 0).\n",
    "holds(brightness(bulb(2), 0), 0).\n",
    "holds(brightness(bulb(3), 3), 0).\n",
    "\n",
    "occurs(pull(3), 0).\n",
    "holds(brightness(bulb(1), 0), 1).\n",
    "holds(brightness(bulb(2), 0), 1).\n",
    "holds(brightness(bulb(3), 0), 1).\n",
    "```"
   ]
  },
  {
   "cell_type": "markdown",
   "metadata": {},
   "source": [
    "**Exercise 7.9**\n",
    "\n",
    "States of the crossing the river domain (Exercise 7.6) can be described by\n",
    "the locations of the boat and of all the items. The possible values of these fluents are left\n",
    "and right. Consider the following scenario: there are two items, a and b; initially they are\n",
    "on the left bank, and the boat is on the right bank; you cross the river to bring both items\n",
    "to the right bank—first a and then b. How would you describe it by a directive and a set\n",
    "of atoms?"
   ]
  },
  {
   "cell_type": "markdown",
   "metadata": {},
   "source": [
    "**Answer**\n",
    "\n",
    "```\n",
    "#const h = 4.\n",
    "\n",
    "holds(loc(item(0), right), 0).\n",
    "holds(loc(item(1), left), 0).\n",
    "holds(loc(item(2), left), 0).\n",
    "\n",
    "occurs(move(empty), 0).\n",
    "holds(loc(item(0), left), 1).\n",
    "holds(loc(item(1), left), 1).\n",
    "holds(loc(item(2), left), 1).\n",
    "\n",
    "occurs(move(a), 1).\n",
    "holds(loc(item(0), right), 2).\n",
    "holds(loc(item(1), right), 2).\n",
    "holds(loc(item(2), left), 2).\n",
    "\n",
    "occurs(move(empty), 2).\n",
    "holds(loc(item(0), left), 3).\n",
    "holds(loc(item(1), right), 3).\n",
    "holds(loc(item(2), left), 3).\n",
    "\n",
    "occurs(move(b), 3).\n",
    "holds(loc(item(0), right), 4).\n",
    "holds(loc(item(1), right), 4).\n",
    "holds(loc(item(2), right), 4).\n",
    "```"
   ]
  },
  {
   "cell_type": "markdown",
   "metadata": {},
   "source": [
    "**Exercise 7.10**\n",
    "\n",
    "Write the existence and uniqueness of value constraints for the following\n",
    "domains:\n",
    "\n",
    "(a) the turkey shoot domain,\n",
    "\n",
    "(b) the 3-way bulb domain, using the placeholder n for the number of bulbs,\n",
    "\n",
    "(c) the crossing the river domain, using the predicate symbol item/1 to represent the set\n",
    "of items."
   ]
  },
  {
   "cell_type": "markdown",
   "metadata": {},
   "source": [
    "**Answer**\n",
    "\n",
    "(a) `:- #count{G, T : holds(curr(G, T), TIME)} != 1, TIME = 0..h.`\n",
    "\n",
    "(b) `:- #count{B : holds(brightness(bulb(I), B), T)} != 1, bulb(I), I = 1..n, T = 0..h.`\n",
    "\n",
    "(c) `:- #count{L : holds(loc(item(X), L), T} != 1, item(X), T = 0..h.`"
   ]
  },
  {
   "cell_type": "markdown",
   "metadata": {},
   "source": [
    "### Section 7.4"
   ]
  },
  {
   "cell_type": "markdown",
   "metadata": {},
   "source": [
    "**Exercise 7.11**\n",
    "\n",
    "Describe the effects of actions in the 3-state bulb domain by one rule."
   ]
  },
  {
   "cell_type": "markdown",
   "metadata": {},
   "source": [
    "**Answer**\n",
    "\n",
    "`holds(brightness(bulb(I), (B+1)\\4), T+1) :- occurs(pull(I), T).`"
   ]
  },
  {
   "cell_type": "markdown",
   "metadata": {},
   "source": [
    "**Exercise 7.12**\n",
    "\n",
    "Express inertia by rules:\n",
    "\n",
    "(a) for the turkey shoot domain;\n",
    "\n",
    "(b) for the\n",
    "3-way bulb domain;\n",
    "\n",
    "(c) for the crossing the river domain."
   ]
  },
  {
   "cell_type": "markdown",
   "metadata": {},
   "source": [
    "**Answer**\n",
    "\n",
    "(a) `holds(curr(G, T), TIME+1) :- holds(curr(G,T), TIME), not not holds(curr(G1, T), TIME+1), G!=G1, T=0..h-1.`\n",
    "\n",
    "(b)\n",
    "\n",
    "```\n",
    "holds(brightness(bulb(I), B), T+1) :- holds(brightness(bulb(I), B), T),\n",
    "                                      not not holds(brightness(bulb(I), (B+1)\\4), T+1),\n",
    "                                      T = 0..h-1.\n",
    "```\n",
    "\n",
    "(c)\n",
    "```\n",
    "holds(loc(item(I), L), T+1) :- holds(loc(item(I), L), T,\n",
    "                               not not holds(loc(item(I), L1), T+1),\n",
    "                               L != L1,\n",
    "                               T = 0..h-1.\n",
    "```"
   ]
  },
  {
   "cell_type": "markdown",
   "metadata": {},
   "source": [
    "**Exercise 7.13**\n",
    "\n",
    "Rewrite the inertia rule from Exercise 7.12(b) as a choice rule."
   ]
  },
  {
   "cell_type": "markdown",
   "metadata": {},
   "source": [
    "**Answer**\n",
    "\n",
    "`{holds(brightness(bulb(I), B), T+1} :- holds(brightness(bulb(I), B), T), T = 0..h-1.`"
   ]
  },
  {
   "cell_type": "markdown",
   "metadata": {},
   "source": [
    "### Section 7.5"
   ]
  },
  {
   "cell_type": "markdown",
   "metadata": {},
   "source": [
    "**Exercise 7.14**\n",
    "\n",
    "Constraint (7.12) `B1 = B2 :- holds(loc(B1,B),T), holds(loc(B2,B),T), block(B).` will become unacceptable if we remove the atom\n",
    "`block(B)` from its body. Explain why."
   ]
  },
  {
   "cell_type": "markdown",
   "metadata": {},
   "source": [
    "**Answer**\n",
    "\n",
    "Otherwise two distinct blocks could not both be on the `table` at the same time."
   ]
  },
  {
   "cell_type": "markdown",
   "metadata": {},
   "source": [
    "**Exercise 7.15**\n",
    "\n",
    "Write a constraint expressing that precondition.\n",
    "\n",
    "Or, rewrite constraint (7.12) as a precondition."
   ]
  },
  {
   "cell_type": "markdown",
   "metadata": {},
   "source": [
    "**Answer**\n",
    "\n",
    "`:- occurs(move(B1, L), T), holds(loc(B2, L), T), block(L), B1!=B2.`"
   ]
  },
  {
   "cell_type": "markdown",
   "metadata": {},
   "source": [
    "**Exercise 7.16**\n",
    "\n",
    "In the turkey shoot domain, the action shoot can be executed only when\n",
    "the gun is loaded, and the action load only when it is not. Express these preconditions by\n",
    "constraints."
   ]
  },
  {
   "cell_type": "markdown",
   "metadata": {},
   "source": [
    "**Answer**\n",
    "\n",
    "- `:- occurs(shoot, T), holds(curr(unloaded, _), T).`\n",
    "- `:- occurs(load, T), holds(curr(loaded, _), T).`"
   ]
  },
  {
   "cell_type": "markdown",
   "metadata": {},
   "source": [
    "**Exercise 7.17**\n",
    "\n",
    "In the crossing the river domain, an item can be taken to the other bank\n",
    "only when it is on the same bank as the boat. Express this precondition by a constraint."
   ]
  },
  {
   "cell_type": "markdown",
   "metadata": {},
   "source": [
    "**Answer**\n",
    "\n",
    "`:- occurs(move(I), T), holds(loc(item(I), L1), T), holds(loc(item(0), L2), T), L1!=L2.`"
   ]
  },
  {
   "cell_type": "markdown",
   "metadata": {},
   "source": [
    "### Section 7.6"
   ]
  },
  {
   "cell_type": "markdown",
   "metadata": {},
   "source": [
    "**Exercise 7.18**\n",
    "\n",
    "(a) Write a prediction program for the turkey shoot domain.\n",
    "\n",
    "(b) Initially,\n",
    "the gun is unloaded and the turkey is alive. Then we load the gun, shoot the turkey, and\n",
    "load the gun again. Describe this scenario as input for your prediction program. \n",
    "\n",
    "(c) Run\n",
    "clingo on your program with that input."
   ]
  },
  {
   "cell_type": "markdown",
   "metadata": {},
   "source": [
    "**Answer**"
   ]
  },
  {
   "cell_type": "code",
   "execution_count": 4,
   "metadata": {},
   "outputs": [
    {
     "name": "stdout",
     "output_type": "stream",
     "text": [
      "Overwriting ./ch7-files/ex18.lp\n"
     ]
    }
   ],
   "source": [
    "%%file ./ch7-files/ex18.lp\n",
    "% Predict the effect of executing a sequence of actions in\n",
    "% the turkey shoot.\n",
    "\n",
    "% input : length h of the sequence of actions ; \n",
    "% set init /1 of atoms representing the\n",
    "% initial state ; set occurs /2 of pairs (a , t ) such\n",
    "% that action a is executed between times t and t +1.\n",
    "\n",
    "% effects of actions\n",
    "holds(state(loaded, B), T+1) :- occurs(act(load), T), holds(state(_, B), T).\n",
    "holds(state(unloaded, dead), T+1) :- occurs(act(shoot), T).\n",
    "\n",
    "% precondition constraints (two)\n",
    "% (1) can only load gun if unloaded\n",
    ":- occurs(act(load), T), holds(state(loaded, _), T).\n",
    "\n",
    "% (2) can only shoot gun if loaded\n",
    ":- occurs(act(shoot), T), holds(state(unloaded, _), T).\n",
    "    \n",
    "% existence and uniqueness of value\n",
    ":- #count{G : holds(state(G, _), T)} != 1, T = 0..h.\n",
    ":- #count{B : holds(state(_, B), T)} != 1, T = 0..h.\n",
    "\n",
    "% inertia\n",
    "{holds(state(G, B), T+1)} :- holds(state(G, B), T), T=0..h-1.\n",
    "\n",
    "% relationship between holds /2 , init /1 , and final /1\n",
    "holds(S, 0) :- init(S).\n",
    "final(S) :- holds(S, h).\n",
    "\n",
    "#show final/1."
   ]
  },
  {
   "cell_type": "code",
   "execution_count": 5,
   "metadata": {},
   "outputs": [
    {
     "name": "stdout",
     "output_type": "stream",
     "text": [
      "Overwriting ./ch7-files/ex18.inp\n"
     ]
    }
   ],
   "source": [
    "%%file ./ch7-files/ex18.inp\n",
    "\n",
    "#const h=3.\n",
    "init(state(unloaded, alive)).\n",
    "occurs(act(load), 0 ; act(shoot), 1 ; act(load), 2)."
   ]
  },
  {
   "cell_type": "code",
   "execution_count": 6,
   "metadata": {
    "scrolled": false
   },
   "outputs": [
    {
     "name": "stdout",
     "output_type": "stream",
     "text": [
      "clingo version 5.4.0\r\n",
      "Reading from ./ch7-files/ex18.lp ...\r\n",
      "Solving...\r\n",
      "Answer: 1\r\n",
      "final(state(loaded,dead))\r\n",
      "SATISFIABLE\r\n",
      "\r\n",
      "Models       : 1\r\n",
      "Calls        : 1\r\n",
      "Time         : 0.007s (Solving: 0.00s 1st Model: 0.00s Unsat: 0.00s)\r\n",
      "CPU Time     : 0.005s\r\n"
     ]
    }
   ],
   "source": [
    "!clingo ./ch7-files/ex18.lp ./ch7-files/ex18.inp"
   ]
  },
  {
   "cell_type": "markdown",
   "metadata": {},
   "source": [
    "**Exercise 7.19**\n",
    "\n",
    "(a) Write a prediction program for the 3-way bulb domain. \n",
    "\n",
    "(b) There are\n",
    "10 bulbs, and all switches are initially in the high position. We pull all chains controlling\n",
    "the bulbs, one after the other. Describe this scenario as input for your prediction program.\n",
    "\n",
    "(c) Run clingo on your program with that input."
   ]
  },
  {
   "cell_type": "markdown",
   "metadata": {},
   "source": [
    "**Answer**"
   ]
  },
  {
   "cell_type": "code",
   "execution_count": 12,
   "metadata": {},
   "outputs": [
    {
     "name": "stdout",
     "output_type": "stream",
     "text": [
      "Writing ./ch7-files/ex19.lp\n"
     ]
    }
   ],
   "source": [
    "%%file ./ch7-files/ex19.lp\n",
    "% Predict the effect of executing a sequence of actions in\n",
    "% the 3-way bulb domain.\n",
    "\n",
    "% input : length h of the sequence of actions ; \n",
    "% set init /1 of atoms representing the\n",
    "% initial state ; set occurs /2 of pairs (a , t ) such\n",
    "% that action a is executed between times t and t +1.\n",
    "\n",
    "% effects of actions\n",
    "holds(brightness(bulb(I), (B+1)\\4), T+1) :- occurs(pull(I), T), holds(brightness(bulb(I), B), T).\n",
    "\n",
    "% precondition constraints (zero)\n",
    "    \n",
    "% existence and uniqueness of value\n",
    ":- #count{B : holds(brightness(bulb(I),B),T)} != 1, I = 1..n, T = 0..h.\n",
    "    \n",
    "% inertia\n",
    "{holds(brightness(bulb(I), B), T+1)} :- holds(brightness(bulb(I), B), T), T=0..h-1.\n",
    "    \n",
    "% relationship between holds /2 , init /1 , and final /1\n",
    "holds(B, 0) :- init(B).\n",
    "final(B) :- holds(B, h).\n",
    "\n",
    "#show final/1."
   ]
  },
  {
   "cell_type": "code",
   "execution_count": 13,
   "metadata": {},
   "outputs": [
    {
     "name": "stdout",
     "output_type": "stream",
     "text": [
      "Overwriting ./ch7-files/ex19.inp\n"
     ]
    }
   ],
   "source": [
    "%%file ./ch7-files/ex19.inp\n",
    "\n",
    "#const h=10.\n",
    "#const n=10.\n",
    "init(brightness(bulb(1..10), 3)).\n",
    "occurs(pull(I), I-1) :- I=1..10."
   ]
  },
  {
   "cell_type": "code",
   "execution_count": 14,
   "metadata": {
    "scrolled": false
   },
   "outputs": [
    {
     "name": "stdout",
     "output_type": "stream",
     "text": [
      "clingo version 5.4.0\r\n",
      "Reading from ./ch7-files/ex19.lp ...\r\n",
      "Solving...\r\n",
      "Answer: 1\r\n",
      "final(brightness(bulb(9),0)) final(brightness(bulb(7),0)) final(brightness(bulb(5),0)) final(brightness(bulb(3),0)) final(brightness(bulb(1),0)) final(brightness(bulb(2),0)) final(brightness(bulb(4),0)) final(brightness(bulb(6),0)) final(brightness(bulb(8),0)) final(brightness(bulb(10),0))\r\n",
      "SATISFIABLE\r\n",
      "\r\n",
      "Models       : 1\r\n",
      "Calls        : 1\r\n",
      "Time         : 0.008s (Solving: 0.00s 1st Model: 0.00s Unsat: 0.00s)\r\n",
      "CPU Time     : 0.008s\r\n"
     ]
    }
   ],
   "source": [
    "!clingo ./ch7-files/ex19.lp ./ch7-files/ex19.inp"
   ]
  },
  {
   "cell_type": "markdown",
   "metadata": {},
   "source": [
    "**Exercise 7.20**\n",
    "\n",
    "(a) Write a prediction program for the crossing the river domain.\n",
    "\n",
    "(b) There are two items, a and b. Initially a and the boat are on the left bank, and b\n",
    "is on the right bank. We take a to the opposite bank. Describe this scenario as input for\n",
    "your prediction program. \n",
    "\n",
    "(c) Run clingo on your program with that input."
   ]
  },
  {
   "cell_type": "markdown",
   "metadata": {},
   "source": [
    "**Answer**"
   ]
  },
  {
   "cell_type": "code",
   "execution_count": 26,
   "metadata": {},
   "outputs": [
    {
     "name": "stdout",
     "output_type": "stream",
     "text": [
      "Overwriting ./ch7-files/ex20.lp\n"
     ]
    }
   ],
   "source": [
    "%%file ./ch7-files/ex20.lp\n",
    "% Predict the effect of executing a sequence of actions in\n",
    "% the boat.\n",
    "\n",
    "% input : length h of the sequence of actions ; \n",
    "% set init /1 of atoms representing the\n",
    "% initial state ; set occurs /2 of pairs (a , t ) such\n",
    "% that action a is executed between times t and t +1.\n",
    "\n",
    "% effects of actions\n",
    "holds(loc(0, (S+1)\\2), T+1) :- occurs(move(_), T), holds(loc(0, S), T).\n",
    "holds(loc(I, (S+1)\\2), T+1) :- occurs(move(I), T), holds(loc(I, S), T).\n",
    "    \n",
    "% precondition constraints (one)\n",
    "\n",
    "% cannot move item if not on same side as boat\n",
    ":- occurs(move(I), T), holds(loc(0, S), T), holds(loc(I, (S+1)\\2), T).\n",
    "    \n",
    "% existence and uniqueness of value\n",
    ":- #count{S : holds(loc(I, S), T)} != 1, I=0..n, T=0..h.\n",
    "    \n",
    "% inertia\n",
    "{holds(loc(I, S), T+1)} :- holds(loc(I, S), T), T=0..h-1.\n",
    "    \n",
    "% relationship between holds /2 , init /1 , and final /1\n",
    "holds(B, 0) :- init(B).\n",
    "final(B) :- holds(B, h).\n",
    "\n",
    "#show final/1."
   ]
  },
  {
   "cell_type": "code",
   "execution_count": 27,
   "metadata": {},
   "outputs": [
    {
     "name": "stdout",
     "output_type": "stream",
     "text": [
      "Overwriting ./ch7-files/ex20.inp\n"
     ]
    }
   ],
   "source": [
    "%%file ./ch7-files/ex20.inp\n",
    "\n",
    "#const h=1.\n",
    "#const n=2.\n",
    "init(loc(0, 0); loc(1, 0); loc(2, 1)).\n",
    "occurs(move(1), 0).\n",
    "\n",
    "% init(loc(boat, left); loc(item(a), left); loc(item(b), right)).\n",
    "% occurs(move(item(a)), 0)."
   ]
  },
  {
   "cell_type": "code",
   "execution_count": 28,
   "metadata": {
    "scrolled": false
   },
   "outputs": [
    {
     "name": "stdout",
     "output_type": "stream",
     "text": [
      "clingo version 5.4.0\r\n",
      "Reading from ./ch7-files/ex20.lp ...\r\n",
      "Solving...\r\n",
      "Answer: 1\r\n",
      "final(loc(1,1)) final(loc(0,1)) final(loc(2,1))\r\n",
      "SATISFIABLE\r\n",
      "\r\n",
      "Models       : 1\r\n",
      "Calls        : 1\r\n",
      "Time         : 0.004s (Solving: 0.00s 1st Model: 0.00s Unsat: 0.00s)\r\n",
      "CPU Time     : 0.004s\r\n"
     ]
    }
   ],
   "source": [
    "!clingo ./ch7-files/ex20.lp ./ch7-files/ex20.inp"
   ]
  },
  {
   "cell_type": "markdown",
   "metadata": {},
   "source": [
    "### Section 7.7 Planning"
   ]
  },
  {
   "cell_type": "markdown",
   "metadata": {},
   "source": [
    "**Exercise 7.21** \n",
    "\n",
    "How many stable models do you think the modified program has?\n",
    "\n",
    "```\n",
    "% Listing 7.4: Input for the blocks world planning program\n",
    "block ( a ; b ; c ).\n",
    "init ( loc (a , b ); loc (b , table ); loc (c , table )).\n",
    "goal ( loc (b , c )).\n",
    "# const h =2.\n",
    "```"
   ]
  },
  {
   "cell_type": "markdown",
   "metadata": {},
   "source": [
    "**Answer**\n",
    "\n",
    "- a to table then b\n",
    "- a to table then c\n",
    "- a to c then b\n",
    "- a to c then table\n",
    "- c to a then table\n",
    "- a to table then b to c\n",
    "- a to table then c to b"
   ]
  },
  {
   "cell_type": "markdown",
   "metadata": {},
   "source": [
    "**Exercise 7.22** \n",
    "\n",
    "How many stable models do you think are eliminated by adding this\n",
    "constraint?\n",
    "\n",
    "```\n",
    ":- not holds(loc(b,c),h).\n",
    "```"
   ]
  },
  {
   "cell_type": "markdown",
   "metadata": {},
   "source": [
    "**Answer**\n",
    "\n",
    "All but one, ie six"
   ]
  },
  {
   "cell_type": "markdown",
   "metadata": {},
   "source": [
    "**Exercise 7.23**\n",
    "\n",
    "Consider a Blocks World problem with 9 blocks in the following initial state and the goal to have 9 on top of 6, 6 on top of 3, and 3 on the table. We would like to\n",
    "achieve this goal in 7 steps. \n",
    "\n",
    "(a) Encode this problem as an input file for the blocks world\n",
    "planning program in Listing 7.3. \n",
    "\n",
    "(b) Use clingo to find a solution.\n",
    "\n",
    "\n",
    "```\n",
    "1\n",
    "2 5\n",
    "3 6 8\n",
    "4 7 9\n",
    "```"
   ]
  },
  {
   "cell_type": "code",
   "execution_count": 28,
   "metadata": {},
   "outputs": [
    {
     "name": "stdout",
     "output_type": "stream",
     "text": [
      "Overwriting ./ch7-files/listing-3.lp\n"
     ]
    }
   ],
   "source": [
    "%%file ./ch7-files/listing-3.lp\n",
    "\n",
    "% Listing 7.3: Planning in the blocks world\n",
    "% For a planning problem in the blocks world , find solutions\n",
    "% of a given length .\n",
    "\n",
    "% input : set block /1 of blocks ; set init /1 of atoms\n",
    "% representing the initial state ; set goal /1 of atoms\n",
    "% representing the goal ; length h of solutions .\n",
    "\n",
    "% choice of actions\n",
    "action ( move ( B1 , B2 )) :- block ( B1 ) , block ( B2 ) , B1 != B2 .\n",
    "action ( move (B , table )) :- block ( B ).\n",
    "{ occurs (A , T ) : action ( A )} = 1 :- T = 0.. h -1.\n",
    "\n",
    "% effects of actions\n",
    "holds ( loc (B , L ) , T +1) :- occurs ( move (B , L ) , T ).\n",
    "\n",
    "% two blocks can ’ t be located on top of the same block\n",
    "B1 = B2 :- holds ( loc ( B1 , B ) , T ) , holds ( loc ( B2 , B ) , T ) , block ( B ).\n",
    "\n",
    "% a block can ’ t be moved unless it is clear\n",
    ":- occurs ( move (B , L ) , T ) , holds ( loc (_ , B ) , T ).\n",
    "\n",
    "% a block can ’ t be moved to its current location\n",
    ":- occurs ( move (B , L ) , T ) , holds ( loc (B , L ) , T ).\n",
    "\n",
    "% existence and uniqueness of value\n",
    ":- #count { L : holds ( loc (B , L ) , T )} != 1 , block ( B ) , T = 0.. h .\n",
    "\n",
    "% inertia\n",
    "{ holds ( loc (B , L ) , T +1)} :- holds ( loc (B , L ) , T ) , T = 0.. h -1.\n",
    "\n",
    "% relationship between holds /2 , init /1 , and goal /1.\n",
    "holds (C ,0) :- init ( C ).\n",
    ":- not holds(C, h), goal(C).\n",
    "    \n",
    "#show occurs/2."
   ]
  },
  {
   "cell_type": "code",
   "execution_count": 29,
   "metadata": {},
   "outputs": [
    {
     "name": "stdout",
     "output_type": "stream",
     "text": [
      "Overwriting ./ch7-files/ex23.inp\n"
     ]
    }
   ],
   "source": [
    "%%file ./ch7-files/ex23.inp\n",
    "\n",
    "% Modification of Listing 7.4: Input for the blocks world planning program\n",
    "\n",
    "block(1..9).\n",
    "init( loc(1,2); loc(2,3); loc(3,4); loc(4,table) ).\n",
    "init( loc(5,6); loc(6,7); loc(7,table) ).\n",
    "init( loc(8,9); loc(9,table) ).\n",
    "goal( loc(9,6); loc(6,3); loc(3,table) ).\n",
    "#const h=10.\n",
    "action(wait).\n",
    "#maximize{T : occurs(wait,T)}."
   ]
  },
  {
   "cell_type": "code",
   "execution_count": 30,
   "metadata": {
    "scrolled": true
   },
   "outputs": [
    {
     "name": "stdout",
     "output_type": "stream",
     "text": [
      "clingo version 5.4.0\r\n",
      "Reading from ./ch7-files/listing-3.lp ...\r\n",
      "Solving...\r\n",
      "Answer: 1\r\n",
      "occurs(move(1,table),0) occurs(move(2,table),1) occurs(move(5,table),2) occurs(move(5,6),3) occurs(move(8,table),4) occurs(move(1,2),5) occurs(move(3,table),6) occurs(move(5,8),7) occurs(move(6,3),8) occurs(move(9,6),9)\r\n",
      "Optimization: 0\r\n",
      "Answer: 2\r\n",
      "occurs(move(1,table),0) occurs(move(2,table),1) occurs(move(5,table),2) occurs(move(5,6),3) occurs(move(8,table),4) occurs(move(3,table),5) occurs(move(5,2),6) occurs(move(6,3),8) occurs(move(9,6),9) occurs(wait,7)\r\n",
      "Optimization: -7\r\n",
      "Answer: 3\r\n",
      "occurs(move(1,table),0) occurs(move(2,table),1) occurs(move(5,8),2) occurs(move(3,table),3) occurs(move(6,3),5) occurs(move(5,7),7) occurs(move(8,5),8) occurs(move(9,6),9) occurs(wait,4) occurs(wait,6)\r\n",
      "Optimization: -10\r\n",
      "Answer: 4\r\n",
      "occurs(move(1,table),0) occurs(move(2,1),1) occurs(move(8,table),2) occurs(move(3,table),3) occurs(move(5,2),4) occurs(move(6,3),5) occurs(move(9,6),6) occurs(move(8,4),7) occurs(wait,8) occurs(wait,9)\r\n",
      "Optimization: -17\r\n",
      "Answer: 5\r\n",
      "occurs(move(1,table),0) occurs(move(2,1),1) occurs(move(8,table),2) occurs(move(3,table),3) occurs(move(5,2),4) occurs(move(6,3),5) occurs(move(9,6),6) occurs(wait,7) occurs(wait,8) occurs(wait,9)\r\n",
      "Optimization: -24\r\n",
      "OPTIMUM FOUND\r\n",
      "\r\n",
      "Models       : 5\r\n",
      "  Optimum    : yes\r\n",
      "Optimization : -24\r\n",
      "Calls        : 1\r\n",
      "Time         : 0.036s (Solving: 0.02s 1st Model: 0.00s Unsat: 0.02s)\r\n",
      "CPU Time     : 0.036s\r\n"
     ]
    }
   ],
   "source": [
    "!clingo ./ch7-files/listing-3.lp ./ch7-files/ex23.inp"
   ]
  },
  {
   "cell_type": "markdown",
   "metadata": {},
   "source": [
    "**Exercise 7.24**\n",
    "\n",
    "(a) Write a planning program for the turkey shoot domain. \n",
    "\n",
    "(b) Initially,\n",
    "the gun is loaded and the turkey is alive. We would like the gun to be loaded while the\n",
    "turkey is dead. Use clingo to solve this planning problem."
   ]
  },
  {
   "cell_type": "code",
   "execution_count": 1,
   "metadata": {},
   "outputs": [
    {
     "name": "stdout",
     "output_type": "stream",
     "text": [
      "Overwriting ./ch7-files/ex24.lp\n"
     ]
    }
   ],
   "source": [
    "%%file ./ch7-files/ex24.lp\n",
    "\n",
    "% Plan a sequence of actions in the turkey shoot.\n",
    "\n",
    "% choice of actions\n",
    "action(load).\n",
    "action(shoot).\n",
    "{ occurs(act(A), T) : action(A) } = 1 :- T = 0..h-1.\n",
    "\n",
    "% effects of actions\n",
    "holds(state(loaded, B), T+1) :- occurs(act(load), T), holds(state(_, B), T).\n",
    "holds(state(unloaded, dead), T+1) :- occurs(act(shoot), T).\n",
    "\n",
    "% precondition constraints (two)\n",
    "% (1) can only load gun if unloaded\n",
    ":- occurs(act(load), T), holds(state(loaded, _), T).\n",
    "\n",
    "% (2) can only shoot gun if loaded\n",
    ":- occurs(act(shoot), T), holds(state(unloaded, _), T).\n",
    "    \n",
    "% existence and uniqueness of value\n",
    ":- #count{G : holds(state(G, _), T)} != 1, T = 0..h.\n",
    ":- #count{B : holds(state(_, B), T)} != 1, T = 0..h.\n",
    "\n",
    "% inertia\n",
    "{holds(state(G, B), T+1)} :- holds(state(G, B), T), T=0..h-1.\n",
    "\n",
    "% relationship between holds /2 , init /1 , and goal /1\n",
    "holds(S, 0) :- init(S).\n",
    ":- not holds(C, h), goal(C).\n",
    "\n",
    "#show occurs/2."
   ]
  },
  {
   "cell_type": "code",
   "execution_count": 2,
   "metadata": {},
   "outputs": [
    {
     "name": "stdout",
     "output_type": "stream",
     "text": [
      "Overwriting ./ch7-files/ex24.inp\n"
     ]
    }
   ],
   "source": [
    "%%file ./ch7-files/ex24.inp\n",
    "\n",
    "init ( state(loaded, alive) ).\n",
    "goal ( state(loaded, dead) ).\n",
    "#const h=4.\n",
    "\n",
    "action(wait).\n",
    "#maximize{T : occurs(act(wait),T)}."
   ]
  },
  {
   "cell_type": "code",
   "execution_count": 3,
   "metadata": {
    "scrolled": true
   },
   "outputs": [
    {
     "name": "stdout",
     "output_type": "stream",
     "text": [
      "clingo version 5.4.0\r\n",
      "Reading from ./ch7-files/ex24.lp ...\r\n",
      "Solving...\r\n",
      "Answer: 1\r\n",
      "occurs(act(shoot),2) occurs(act(load),3) occurs(act(wait),0) occurs(act(wait),1)\r\n",
      "Optimization: -1\r\n",
      "Answer: 2\r\n",
      "occurs(act(shoot),1) occurs(act(load),3) occurs(act(wait),0) occurs(act(wait),2)\r\n",
      "Optimization: -2\r\n",
      "Answer: 3\r\n",
      "occurs(act(shoot),1) occurs(act(load),2) occurs(act(wait),0) occurs(act(wait),3)\r\n",
      "Optimization: -3\r\n",
      "Answer: 4\r\n",
      "occurs(act(shoot),0) occurs(act(load),2) occurs(act(wait),1) occurs(act(wait),3)\r\n",
      "Optimization: -4\r\n",
      "Answer: 5\r\n",
      "occurs(act(shoot),0) occurs(act(load),1) occurs(act(wait),2) occurs(act(wait),3)\r\n",
      "Optimization: -5\r\n",
      "OPTIMUM FOUND\r\n",
      "\r\n",
      "Models       : 5\r\n",
      "  Optimum    : yes\r\n",
      "Optimization : -5\r\n",
      "Calls        : 1\r\n",
      "Time         : 0.011s (Solving: 0.00s 1st Model: 0.00s Unsat: 0.00s)\r\n",
      "CPU Time     : 0.005s\r\n"
     ]
    }
   ],
   "source": [
    "!clingo ./ch7-files/ex24.lp ./ch7-files/ex24.inp"
   ]
  },
  {
   "cell_type": "markdown",
   "metadata": {},
   "source": [
    "**Exercise 7.25**\n",
    "\n",
    "(a) Write a planning program for the 3-way bulb domain. \n",
    "\n",
    "(b) There are\n",
    "3 bulbs, and initially all switches are in the medium position. We would like all of them to\n",
    "be off. Use clingo to solve this planning problem."
   ]
  },
  {
   "cell_type": "code",
   "execution_count": 40,
   "metadata": {},
   "outputs": [
    {
     "name": "stdout",
     "output_type": "stream",
     "text": [
      "Overwriting ./ch7-files/ex25.lp\n"
     ]
    }
   ],
   "source": [
    "%%file ./ch7-files/ex25.lp\n",
    "\n",
    "% Plan a sequence of actions in the 3-way bulb domain.\n",
    "\n",
    "% choice of actions\n",
    "action(pull(I)) :- I=1..n.\n",
    "{ occurs(A, T) : action(A) } = 1 :- T = 0..h-1.\n",
    "\n",
    "% effects of actions\n",
    "holds(brightness(bulb(I), (B+1)\\4), T+1) :- occurs(pull(I), T), holds(brightness(bulb(I), B), T).\n",
    "\n",
    "% precondition constraints (zero)\n",
    "    \n",
    "% existence and uniqueness of value\n",
    ":- #count{B : holds(brightness(bulb(I),B),T)} != 1, I = 1..n, T = 0..h.\n",
    "    \n",
    "% inertia\n",
    "{holds(brightness(bulb(I), B), T+1)} :- holds(brightness(bulb(I), B), T), T=0..h-1.\n",
    "\n",
    "% relationship between holds /2 , init /1 , and goal /1\n",
    "holds(S, 0) :- init(S).\n",
    ":- not holds(C, h), goal(C).\n",
    "\n",
    "#show occurs/2."
   ]
  },
  {
   "cell_type": "code",
   "execution_count": 47,
   "metadata": {},
   "outputs": [
    {
     "name": "stdout",
     "output_type": "stream",
     "text": [
      "Overwriting ./ch7-files/ex25.inp\n"
     ]
    }
   ],
   "source": [
    "%%file ./ch7-files/ex25.inp\n",
    "\n",
    "#const n=3.\n",
    "init(brightness(bulb(1..n), 2)).\n",
    "goal(brightness(bulb(1..n), 0)).\n",
    "#const h=7.\n",
    "\n",
    "action(wait).\n",
    "#maximize{T : occurs(wait,T)}."
   ]
  },
  {
   "cell_type": "code",
   "execution_count": 48,
   "metadata": {
    "scrolled": true
   },
   "outputs": [
    {
     "name": "stdout",
     "output_type": "stream",
     "text": [
      "clingo version 5.4.0\r\n",
      "Reading from ./ch7-files/ex25.lp ...\r\n",
      "Solving...\r\n",
      "Answer: 1\r\n",
      "occurs(pull(1),0) occurs(pull(3),1) occurs(pull(1),2) occurs(pull(2),3) occurs(pull(3),5) occurs(pull(2),6) occurs(wait,4)\r\n",
      "Optimization: -4\r\n",
      "Answer: 2\r\n",
      "occurs(pull(2),0) occurs(pull(2),1) occurs(pull(3),2) occurs(pull(1),3) occurs(pull(3),4) occurs(pull(1),5) occurs(wait,6)\r\n",
      "Optimization: -6\r\n",
      "OPTIMUM FOUND\r\n",
      "\r\n",
      "Models       : 2\r\n",
      "  Optimum    : yes\r\n",
      "Optimization : -6\r\n",
      "Calls        : 1\r\n",
      "Time         : 0.004s (Solving: 0.00s 1st Model: 0.00s Unsat: 0.00s)\r\n",
      "CPU Time     : 0.004s\r\n"
     ]
    }
   ],
   "source": [
    "!clingo ./ch7-files/ex25.lp ./ch7-files/ex25.inp"
   ]
  },
  {
   "cell_type": "markdown",
   "metadata": {},
   "source": [
    "**Exercise 7.26**\n",
    "\n",
    "Consider the planning problem from Exercise 7.23 with the additional requirement: there\n",
    "should never be more than 3 towers on the table while the plan is executed. (The table is\n",
    "small, and there is no room on it for more than 3 blocks side by side.) This requirement\n",
    "can be expressed by the constraint:\n",
    "\n",
    "```\n",
    ":- #count{B : holds(loc(B,table),T)} > 3, T = 0..h.\n",
    "```\n",
    "\n",
    "Use clingo to find the shortest plan satisfying this condition."
   ]
  },
  {
   "cell_type": "code",
   "execution_count": 71,
   "metadata": {},
   "outputs": [
    {
     "name": "stdout",
     "output_type": "stream",
     "text": [
      "Overwriting ./ch7-files/ex26.inp\n"
     ]
    }
   ],
   "source": [
    "%%file ./ch7-files/ex26.inp\n",
    "\n",
    "% Modification of Listing 7.4: Input for the blocks world planning program\n",
    "\n",
    "block(1..9).\n",
    "init( loc(1,2); loc(2,3); loc(3,4); loc(4,table) ).\n",
    "init( loc(5,6); loc(6,7); loc(7,table) ).\n",
    "init( loc(8,9); loc(9,table) ).\n",
    "goal( loc(9,6); loc(6,3); loc(3,table) ).\n",
    "#const h=11. % change\n",
    "\n",
    "action(wait).\n",
    "#maximize{T : occurs(wait,T)}.\n",
    "\n",
    ":- #count{B : holds(loc(B,table),T)} > 3, T = 0..h. % add"
   ]
  },
  {
   "cell_type": "code",
   "execution_count": 72,
   "metadata": {},
   "outputs": [
    {
     "name": "stdout",
     "output_type": "stream",
     "text": [
      "clingo version 5.4.0\n",
      "Reading from ./ch7-files/listing-3.lp ...\n",
      "Solving...\n",
      "Answer: 1\n",
      "occurs(move(5,8),0) occurs(move(6,5),1) occurs(move(1,7),2) occurs(move(2,1),3) occurs(move(3,6),4) occurs(move(4,2),5) occurs(move(3,table),6) occurs(move(6,3),7) occurs(move(5,4),8) occurs(move(8,5),9) occurs(move(9,6),10)\n",
      "Optimization: 0\n",
      "OPTIMUM FOUND\n",
      "\n",
      "Models       : 1\n",
      "  Optimum    : yes\n",
      "Optimization : 0\n",
      "Calls        : 1\n",
      "Time         : 1.345s (Solving: 1.33s 1st Model: 0.22s Unsat: 1.11s)\n",
      "CPU Time     : 1.345s\n"
     ]
    }
   ],
   "source": [
    "!clingo ./ch7-files/listing-3.lp ./ch7-files/ex26.inp"
   ]
  },
  {
   "cell_type": "markdown",
   "metadata": {},
   "source": [
    "**Exercise 7.27**\n",
    "\n",
    "(a) Write a planning program for the crossing the river domain. \n",
    "\n",
    "(b) In\n",
    "the fox, goose and bag of beans puzzle, a farmer must transport a fox, goose and bag of\n",
    "beans from one side of a river to another using a boat which can only hold one item in\n",
    "addition to the farmer, subject to the constraints that the fox cannot be left alone with the\n",
    "goose, and the goose cannot be left alone with the beans. This puzzle can be viewed as\n",
    "a planning problem in the crossing the river domain with additional conditions. Write an\n",
    "input file for your crossing the river program that represents this puzzle. \n",
    "\n",
    "(c) Use clingo\n",
    "to solve the puzzle."
   ]
  },
  {
   "cell_type": "code",
   "execution_count": 80,
   "metadata": {},
   "outputs": [
    {
     "name": "stdout",
     "output_type": "stream",
     "text": [
      "Overwriting ./ch7-files/ex27.lp\n"
     ]
    }
   ],
   "source": [
    "%%file ./ch7-files/ex27.lp\n",
    "% Plan a sequence of actions in the boat.\n",
    "\n",
    "% choice of actions\n",
    "action(move(0..n)).\n",
    "{ occurs(A, T) : action(A) } = 1 :- T = 0..h-1.\n",
    "\n",
    "% effects of actions\n",
    "holds(loc(0, (S+1)\\2), T+1) :- occurs(move(_), T), holds(loc(0, S), T).\n",
    "holds(loc(I, (S+1)\\2), T+1) :- occurs(move(I), T), holds(loc(I, S), T).\n",
    "    \n",
    "% precondition constraints (one)\n",
    "\n",
    "% cannot move item if not on same side as boat\n",
    ":- occurs(move(I), T), holds(loc(0, S), T), holds(loc(I, (S+1)\\2), T).\n",
    "    \n",
    "% existence and uniqueness of value\n",
    ":- #count{S : holds(loc(I, S), T)} != 1, I=0..n, T=0..h.\n",
    "    \n",
    "% inertia\n",
    "{holds(loc(I, S), T+1)} :- holds(loc(I, S), T), T=0..h-1.\n",
    "    \n",
    "% relationship between holds /2 , init /1 , and goal /1\n",
    "holds(B, 0) :- init(B).\n",
    ":- not holds(C, h), goal(C).\n",
    "\n",
    "#show occurs/2."
   ]
  },
  {
   "cell_type": "code",
   "execution_count": 83,
   "metadata": {},
   "outputs": [
    {
     "name": "stdout",
     "output_type": "stream",
     "text": [
      "Overwriting ./ch7-files/ex27.inp\n"
     ]
    }
   ],
   "source": [
    "%%file ./ch7-files/ex27.inp\n",
    "\n",
    "#const n=3.\n",
    "init(loc(0, 0); loc(1, 0); loc(2, 0); loc(3, 0)).\n",
    "goal(loc(0, 1); loc(1, 1); loc(2, 1); loc(3, 1)).\n",
    "#const h=7.\n",
    "\n",
    "action(wait).\n",
    "#maximize{T : occurs(wait,T)}.\n",
    "\n",
    ":- holds(loc(1, S), T), holds(loc(2, S), T), holds(loc(0, (S+1)\\2), T).\n",
    ":- holds(loc(2, S), T), holds(loc(3, S), T), holds(loc(0, (S+1)\\2), T)."
   ]
  },
  {
   "cell_type": "code",
   "execution_count": 84,
   "metadata": {
    "scrolled": false
   },
   "outputs": [
    {
     "name": "stdout",
     "output_type": "stream",
     "text": [
      "clingo version 5.4.0\r\n",
      "Reading from ./ch7-files/ex27.lp ...\r\n",
      "Solving...\r\n",
      "Answer: 1\r\n",
      "occurs(move(2),0) occurs(move(0),1) occurs(move(3),2) occurs(move(2),3) occurs(move(1),4) occurs(move(0),5) occurs(move(2),6)\r\n",
      "Optimization: 0\r\n",
      "OPTIMUM FOUND\r\n",
      "\r\n",
      "Models       : 1\r\n",
      "  Optimum    : yes\r\n",
      "Optimization : 0\r\n",
      "Calls        : 1\r\n",
      "Time         : 0.002s (Solving: 0.00s 1st Model: 0.00s Unsat: 0.00s)\r\n",
      "CPU Time     : 0.002s\r\n"
     ]
    }
   ],
   "source": [
    "!clingo ./ch7-files/ex27.lp ./ch7-files/ex27.inp"
   ]
  },
  {
   "cell_type": "markdown",
   "metadata": {},
   "source": [
    "### Section 7.8 Concurrency"
   ]
  },
  {
   "cell_type": "markdown",
   "metadata": {},
   "source": [
    "**Exercise 7.28**\n",
    "\n",
    "Use clingo to find out how many steps a robot with 2 grippers would\n",
    "need to solve the planning problem from Exercise 7.23."
   ]
  },
  {
   "cell_type": "code",
   "execution_count": 85,
   "metadata": {},
   "outputs": [
    {
     "name": "stdout",
     "output_type": "stream",
     "text": [
      "Writing ./ch7-files/ex28.lp\n"
     ]
    }
   ],
   "source": [
    "%%file ./ch7-files/ex28.lp\n",
    "\n",
    "% Modified Listing 7.3: Planning in the blocks world\n",
    "% For a planning problem in the blocks world , find solutions\n",
    "% of a given length .\n",
    "\n",
    "% input : set block /1 of blocks ; set init /1 of atoms\n",
    "% representing the initial state ; set goal /1 of atoms\n",
    "% representing the goal ; length h of solutions .\n",
    "\n",
    "% choice of actions\n",
    "action ( move ( B1 , B2 )) :- block ( B1 ) , block ( B2 ) , B1 != B2 .\n",
    "action ( move (B , table )) :- block ( B ).\n",
    "1 {occurs(A,T) : action(A)} m :- T = 0..h-1.\n",
    ":- occurs(move(_,B),T), occurs(move(B,_),T).\n",
    "A = wait :- occurs(wait,T), occurs(A,T).\n",
    "        \n",
    "% effects of actions\n",
    "holds ( loc (B , L ) , T +1) :- occurs ( move (B , L ) , T ).\n",
    "\n",
    "% two blocks can ’ t be located on top of the same block\n",
    "B1 = B2 :- holds ( loc ( B1 , B ) , T ) , holds ( loc ( B2 , B ) , T ) , block ( B ).\n",
    "\n",
    "% a block can ’ t be moved unless it is clear\n",
    ":- occurs ( move (B , L ) , T ) , holds ( loc (_ , B ) , T ).\n",
    "\n",
    "% a block can ’ t be moved to its current location\n",
    ":- occurs ( move (B , L ) , T ) , holds ( loc (B , L ) , T ).\n",
    "\n",
    "% existence and uniqueness of value\n",
    ":- #count { L : holds ( loc (B , L ) , T )} != 1 , block ( B ) , T = 0.. h .\n",
    "\n",
    "% inertia\n",
    "{ holds ( loc (B , L ) , T +1)} :- holds ( loc (B , L ) , T ) , T = 0.. h -1.\n",
    "\n",
    "% relationship between holds /2 , init /1 , and goal /1.\n",
    "holds (C ,0) :- init ( C ).\n",
    ":- not holds(C, h), goal(C).\n",
    "    \n",
    "#show occurs/2."
   ]
  },
  {
   "cell_type": "code",
   "execution_count": 97,
   "metadata": {},
   "outputs": [
    {
     "name": "stdout",
     "output_type": "stream",
     "text": [
      "Overwriting ./ch7-files/ex28.inp\n"
     ]
    }
   ],
   "source": [
    "%%file ./ch7-files/ex28.inp\n",
    "\n",
    "% Modification of Listing 7.4: Input for the blocks world planning program\n",
    "\n",
    "block(1..9).\n",
    "init( loc(1,2); loc(2,3); loc(3,4); loc(4,table) ).\n",
    "init( loc(5,6); loc(6,7); loc(7,table) ).\n",
    "init( loc(8,9); loc(9,table) ).\n",
    "goal( loc(9,6); loc(6,3); loc(3,table) ).\n",
    "#const h=5.\n",
    "#const m=2.\n",
    "action(wait).\n",
    "#maximize{T : occurs(wait,T)}."
   ]
  },
  {
   "cell_type": "code",
   "execution_count": 98,
   "metadata": {
    "scrolled": true
   },
   "outputs": [
    {
     "name": "stdout",
     "output_type": "stream",
     "text": [
      "clingo version 5.4.0\r\n",
      "Reading from ./ch7-files/ex28.lp ...\r\n",
      "Solving...\r\n",
      "Answer: 1\r\n",
      "occurs(move(1,table),0) occurs(move(5,table),0) occurs(move(2,table),1) occurs(move(6,table),1) occurs(move(3,table),2) occurs(move(8,table),2) occurs(move(6,3),3) occurs(move(9,6),4)\r\n",
      "Optimization: 0\r\n",
      "OPTIMUM FOUND\r\n",
      "\r\n",
      "Models       : 1\r\n",
      "  Optimum    : yes\r\n",
      "Optimization : 0\r\n",
      "Calls        : 1\r\n",
      "Time         : 0.020s (Solving: 0.00s 1st Model: 0.00s Unsat: 0.00s)\r\n",
      "CPU Time     : 0.020s\r\n"
     ]
    }
   ],
   "source": [
    "!clingo ./ch7-files/ex28.lp ./ch7-files/ex28.inp"
   ]
  },
  {
   "cell_type": "markdown",
   "metadata": {},
   "source": [
    "**Exercise 7.29**\n",
    "\n",
    "(a) Modify the planning program from Exercise 7.25(a) to reflect the\n",
    "assumption that the person operating the switches uses both hands and can access any\n",
    "two switches simultaneously. \n",
    "\n",
    "(b) How many steps do you think are needed to solve the\n",
    "planning problem from Exercise 7.25(b) under this assumption? Use clingo to verify your\n",
    "conjecture."
   ]
  },
  {
   "cell_type": "code",
   "execution_count": 129,
   "metadata": {},
   "outputs": [
    {
     "name": "stdout",
     "output_type": "stream",
     "text": [
      "Overwriting ./ch7-files/ex29.lp\n"
     ]
    }
   ],
   "source": [
    "%%file ./ch7-files/ex29.lp\n",
    "\n",
    "% Plan a sequence of actions in the 3-way bulb domain.\n",
    "\n",
    "% choice of actions\n",
    "action(pull(I)) :- I=1..n.\n",
    "1 {occurs(A,T) : action(A)} m :- T = 0..h-1.\n",
    "A = wait :- occurs(wait,T), occurs(A,T).\n",
    "    \n",
    "% effects of actions\n",
    "holds(brightness(bulb(I), (B+1)\\4), T+1) :- occurs(pull(I), T), holds(brightness(bulb(I), B), T).\n",
    "\n",
    "% precondition constraints (zero)\n",
    "    \n",
    "% existence and uniqueness of value\n",
    ":- #count{B : holds(brightness(bulb(I),B),T)} != 1, I = 1..n, T = 0..h.\n",
    "    \n",
    "% inertia\n",
    "{holds(brightness(bulb(I), B), T+1)} :- holds(brightness(bulb(I), B), T), T=0..h-1.\n",
    "\n",
    "% relationship between holds /2 , init /1 , and goal /1\n",
    "holds(S, 0) :- init(S).\n",
    ":- not holds(C, h), goal(C).\n",
    "\n",
    "#show occurs/2."
   ]
  },
  {
   "cell_type": "code",
   "execution_count": 130,
   "metadata": {},
   "outputs": [
    {
     "name": "stdout",
     "output_type": "stream",
     "text": [
      "Overwriting ./ch7-files/ex29.inp\n"
     ]
    }
   ],
   "source": [
    "%%file ./ch7-files/ex29.inp\n",
    "\n",
    "#const n=3.\n",
    "init(brightness(bulb(1..n), 2)).\n",
    "goal(brightness(bulb(1..n), 0)).\n",
    "#const h=3.\n",
    "#const m=2.\n",
    "\n",
    "action(wait).\n",
    "% #maximize{T : occurs(wait,T)}."
   ]
  },
  {
   "cell_type": "code",
   "execution_count": 131,
   "metadata": {
    "scrolled": true
   },
   "outputs": [
    {
     "name": "stdout",
     "output_type": "stream",
     "text": [
      "clingo version 5.4.0\r\n",
      "Reading from ./ch7-files/ex29.lp ...\r\n",
      "Solving...\r\n",
      "Answer: 1\r\n",
      "occurs(pull(3),0) occurs(pull(1),0) occurs(pull(2),1) occurs(pull(3),1) occurs(pull(2),2) occurs(pull(1),2)\r\n",
      "Answer: 2\r\n",
      "occurs(pull(3),0) occurs(pull(2),0) occurs(pull(1),1) occurs(pull(3),1) occurs(pull(2),2) occurs(pull(1),2)\r\n",
      "Answer: 3\r\n",
      "occurs(pull(2),0) occurs(pull(1),0) occurs(pull(2),1) occurs(pull(3),1) occurs(pull(3),2) occurs(pull(1),2)\r\n",
      "Answer: 4\r\n",
      "occurs(pull(3),0) occurs(pull(2),0) occurs(pull(1),1) occurs(pull(2),1) occurs(pull(3),2) occurs(pull(1),2)\r\n",
      "Answer: 5\r\n",
      "occurs(pull(2),0) occurs(pull(1),0) occurs(pull(1),1) occurs(pull(3),1) occurs(pull(3),2) occurs(pull(2),2)\r\n",
      "Answer: 6\r\n",
      "occurs(pull(3),0) occurs(pull(1),0) occurs(pull(1),1) occurs(pull(2),1) occurs(pull(3),2) occurs(pull(2),2)\r\n",
      "SATISFIABLE\r\n",
      "\r\n",
      "Models       : 6\r\n",
      "Calls        : 1\r\n",
      "Time         : 0.003s (Solving: 0.00s 1st Model: 0.00s Unsat: 0.00s)\r\n",
      "CPU Time     : 0.003s\r\n"
     ]
    }
   ],
   "source": [
    "!clingo ./ch7-files/ex29.lp ./ch7-files/ex29.inp 0"
   ]
  },
  {
   "cell_type": "code",
   "execution_count": null,
   "metadata": {},
   "outputs": [],
   "source": []
  }
 ],
 "metadata": {
  "kernelspec": {
   "display_name": "Python 3 (ipykernel)",
   "language": "python",
   "name": "python3"
  },
  "language_info": {
   "codemirror_mode": {
    "name": "ipython",
    "version": 3
   },
   "file_extension": ".py",
   "mimetype": "text/x-python",
   "name": "python",
   "nbconvert_exporter": "python",
   "pygments_lexer": "ipython3",
   "version": "3.8.10"
  }
 },
 "nbformat": 4,
 "nbformat_minor": 4
}
