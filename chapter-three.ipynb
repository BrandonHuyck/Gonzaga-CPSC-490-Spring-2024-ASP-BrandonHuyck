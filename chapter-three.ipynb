{
 "cells": [
  {
   "cell_type": "markdown",
   "metadata": {},
   "source": [
    "# Chapter Three"
   ]
  },
  {
   "cell_type": "markdown",
   "metadata": {},
   "source": [
    "### Section 3.1"
   ]
  },
  {
   "cell_type": "markdown",
   "metadata": {},
   "source": [
    "**Exercise 3.1**"
   ]
  },
  {
   "cell_type": "markdown",
   "metadata": {},
   "source": [
    "What is the number of stable models:\n",
    "\n",
    "(a) of the first rule of the seating arrangements program?\n",
    "    \n",
    "\n",
    "(b) of the first two rules?\n",
    "    \n",
    "\n",
    "(c) of the first three rules?\n",
    "   "
   ]
  },
  {
   "cell_type": "markdown",
   "metadata": {},
   "source": [
    "Answer:\n",
    "\n",
    "(a) n^n (n guests, n chairs, all possibilities)\n",
    "\n",
    "(b) n! (permutation of n guests/chairs)\n",
    "\n",
    "(c) n! (adding aux definition, so same number being added to each n! S.M.s)"
   ]
  },
  {
   "cell_type": "markdown",
   "metadata": {},
   "source": [
    "**Exercise 3.2**"
   ]
  },
  {
   "cell_type": "markdown",
   "metadata": {},
   "source": [
    "There are n tables in the room, with m chairs around each table. The\n",
    "guests are numbered from 1 to mn, and we would like to choose a table for each of them so\n",
    "that guests who like each other sit at the same table, and guests who dislike each other sit\n",
    "at different tables. What rules would you place in Lines 15, 18, 21 of Listing 3.3 to get a\n",
    "clingo program that does it?"
   ]
  },
  {
   "cell_type": "markdown",
   "metadata": {},
   "source": [
    "Answer:\n",
    "\n",
    "Line 15: `:- at(X, T1), at(X, T2), T1!=T2.`\n",
    "\n",
    "Line 18: `:- like(X,Y), at(X,T1), at(Y,T2), T1!=T2.`\n",
    "\n",
    "Line 21: `:- dislike(X,Y), at(X,T1), at(Y,T2), T1=T2.` (could T1 and T2 just be T, and we remove the equality check?)"
   ]
  },
  {
   "cell_type": "code",
   "execution_count": null,
   "metadata": {},
   "outputs": [],
   "source": [
    "%%file ./ch3-files/ex-3-2.lp\n",
    "{at (1..m*n, T)} = m :- T = 1..n.\n",
    ":- at(X, T1), at(X, T2), T1 != T2."
   ]
  },
  {
   "cell_type": "code",
   "execution_count": null,
   "metadata": {},
   "outputs": [],
   "source": [
    "!clingo ./ch3-files/ex-3-2.lp 0 -c m=2 -c n=2"
   ]
  },
  {
   "cell_type": "markdown",
   "metadata": {},
   "source": [
    "### Section 3.2"
   ]
  },
  {
   "cell_type": "markdown",
   "metadata": {},
   "source": [
    "**Exercise 3.3**"
   ]
  },
  {
   "cell_type": "markdown",
   "metadata": {},
   "source": [
    "If we run clingo on the first 12 lines of this program, how many stable\n",
    "models do you think it will produce? What if we run it on the first 16 lines?"
   ]
  },
  {
   "cell_type": "markdown",
   "metadata": {},
   "source": [
    "Answer:\n",
    "\n",
    "4 first ^ 4 last = 256 full names (4 options for 1, 4 options for 2, ...)\n",
    "\n",
    "4 first ^ 4 pet = 256 first-pet pairs (4 options for 1, 4 options for 2, ...)\n",
    "\n",
    "256 full ^ 256 pairs = 65536 ALL possibilities \n",
    "\n",
    "Filtering...\n",
    "\n",
    "4! = 24 (permutation of last names to first)\n",
    "\n",
    "4! = 24 (permutation of pets to first)\n",
    "\n",
    "4! * 4! = 576 (pair them up)"
   ]
  },
  {
   "cell_type": "code",
   "execution_count": null,
   "metadata": {},
   "outputs": [],
   "source": [
    "%%file ./ch3-files/ex-3-3a.lp\n",
    "% Exotic pets puzzle , Part 1\n",
    "\n",
    "first_name ( abner ; bruce ; chuck ; duane ).\n",
    "last_name ( engels ; foster ; gunter ; halevy ).\n",
    "pet ( iguana ; jackal ; king_cobra ; llama ).\n",
    "% achieved : first_name /1 , last_name /1 , pet /1 are the sets\n",
    "% of first names , last names , and pet species .\n",
    "\n",
    "{ full_name (F , L ) : last_name ( L )} = 1 :- first_name ( F ).\n",
    "% { owns (F , P ) : pet ( P )} = 1 :- first_name ( F ).\n",
    "% achieved : a unique last name and unique pet species are\n",
    "% chosen for each first name .\n",
    "\n",
    "#show full_name/2."
   ]
  },
  {
   "cell_type": "code",
   "execution_count": null,
   "metadata": {},
   "outputs": [],
   "source": [
    "!clingo ./ch3-files/ex-3-3a.lp 0"
   ]
  },
  {
   "cell_type": "code",
   "execution_count": null,
   "metadata": {},
   "outputs": [],
   "source": [
    "%%file ./ch3-files/ex-3-3b.lp\n",
    "% Exotic pets puzzle , Part 1\n",
    "\n",
    "first_name ( abner ; bruce ; chuck ; duane ).\n",
    "last_name ( engels ; foster ; gunter ; halevy ).\n",
    "pet ( iguana ; jackal ; king_cobra ; llama ).\n",
    "% achieved : first_name /1 , last_name /1 , pet /1 are the sets\n",
    "% of first names , last names , and pet species .\n",
    "\n",
    "{ full_name (F , L ) : last_name ( L )} = 1 :- first_name ( F ).\n",
    "{ owns (F , P ) : pet ( P )} = 1 :- first_name ( F ).\n",
    "% achieved : a unique last name and unique pet species are\n",
    "% chosen for each first name .\n",
    "\n",
    "F1 = F2 :- full_name ( F1 , L ) , full_name ( F2 , L ).\n",
    "F1 = F2 :- owns ( F1 , P ) , owns ( F2 , P ).\n",
    "% achieved : the chosen names and pets are pairwise distinct ."
   ]
  },
  {
   "cell_type": "code",
   "execution_count": null,
   "metadata": {
    "scrolled": true
   },
   "outputs": [],
   "source": [
    "!clingo ./ch3-files/ex-3-3b.lp 0"
   ]
  },
  {
   "cell_type": "markdown",
   "metadata": {},
   "source": [
    "### Section 3.3"
   ]
  },
  {
   "cell_type": "markdown",
   "metadata": {},
   "source": [
    "**Exercise 3.4**"
   ]
  },
  {
   "cell_type": "markdown",
   "metadata": {},
   "source": [
    "Answer: The proof is trivial and can be shown through simple arithmetic. There are 16 cases; simply enumerate them."
   ]
  },
  {
   "cell_type": "markdown",
   "metadata": {},
   "source": [
    "**Exercise 3.5**"
   ]
  },
  {
   "cell_type": "markdown",
   "metadata": {},
   "source": [
    "**Exercise 3.6**"
   ]
  },
  {
   "cell_type": "markdown",
   "metadata": {},
   "source": [
    "How many models do you think this program has for r = 2 and n = 4?"
   ]
  },
  {
   "cell_type": "markdown",
   "metadata": {},
   "source": [
    "Answer: 2 -- {14} and {23}; {23} and {14}."
   ]
  },
  {
   "cell_type": "code",
   "execution_count": null,
   "metadata": {},
   "outputs": [],
   "source": [
    "%%file ./ch3-files/ex-3-6.lp\n",
    "% Partition {1 ,.. , n } into r sum - free subsets .\n",
    "\n",
    "% input : positive integers n , r .\n",
    "\n",
    "% in (I , K ) means that I belongs to the K - th subset .\n",
    "\n",
    "{ in (I ,1.. r )} = 1 :- I = 1.. n.\n",
    "% achieved : set {1 ,... , n } is partitioned into r subsets .\n",
    "\n",
    ":- in (I , K ) , in (J , K ) , in ( I +J , K ).\n",
    "% achieved : the subsets are sum - free."
   ]
  },
  {
   "cell_type": "code",
   "execution_count": null,
   "metadata": {
    "scrolled": false
   },
   "outputs": [],
   "source": [
    "!clingo ./ch3-files/ex-3-6.lp 0 -c r=2 -c n=4"
   ]
  },
  {
   "cell_type": "markdown",
   "metadata": {},
   "source": [
    "**Exercise 3.7**"
   ]
  },
  {
   "cell_type": "markdown",
   "metadata": {},
   "source": [
    "What is the number of stable models of the rule in Line 7?"
   ]
  },
  {
   "cell_type": "markdown",
   "metadata": {},
   "source": [
    "Answer: The sum of the binomial coefficents, or all combinations, of n"
   ]
  },
  {
   "cell_type": "markdown",
   "metadata": {},
   "source": [
    "**Exercise 3.8**"
   ]
  },
  {
   "cell_type": "markdown",
   "metadata": {},
   "source": [
    "About a set X of numbers we say that it is almost sum-free if the sum\n",
    "of two different elements of X never belongs to X. For instance, the set {1, 2, 4} is almost sum-free. If we want to describe partitions of {1, . . . , n} into r almost sum-free sets, how\n",
    "will you change the program in Listing 3.6?"
   ]
  },
  {
   "cell_type": "markdown",
   "metadata": {},
   "source": [
    "Answer: Add `I!=J` to the constraint."
   ]
  },
  {
   "cell_type": "code",
   "execution_count": null,
   "metadata": {},
   "outputs": [],
   "source": [
    "%%file ./ch3-files/ex-3-6.lp\n",
    "% Partition {1, ..., n} into r almost sum-free subsets.\n",
    "\n",
    "% input : positive integers n , r .\n",
    "\n",
    "% in (I , K ) means that I belongs to the K - th subset .\n",
    "\n",
    "{ in (I ,1.. r )} = 1 :- I = 1.. n.\n",
    "% achieved : set {1 ,... , n } is partitioned into r subsets .\n",
    "\n",
    ":- in (I , K ) , in (J , K ) , in ( I +J , K ), I!=J.\n",
    "% achieved : the subsets are sum - free."
   ]
  },
  {
   "cell_type": "code",
   "execution_count": null,
   "metadata": {
    "scrolled": false
   },
   "outputs": [],
   "source": [
    "!clingo ./ch3-files/ex-3-6.lp 0 -c r=2 -c n=4"
   ]
  },
  {
   "cell_type": "markdown",
   "metadata": {},
   "source": [
    "**Exercise 3.9**"
   ]
  },
  {
   "cell_type": "markdown",
   "metadata": {},
   "source": [
    "Use clingo to verify that S(5) ≥ 130.\n",
    "\n",
    "Answer: Since clingo finds a solution when n=130, S(5), or the value of n where there is no solution for r=5, is greater than 130."
   ]
  },
  {
   "cell_type": "code",
   "execution_count": null,
   "metadata": {},
   "outputs": [],
   "source": [
    "%%file ./ch3-files/ex-3-9.lp\n",
    "% Partition {1, ..., n} into r almost sum-free subsets.\n",
    "\n",
    "% input : positive integers n , r .\n",
    "\n",
    "% in (I , K ) means that I belongs to the K - th subset .\n",
    "\n",
    "{ in (I ,1.. r )} = 1 :- I = 1.. n.\n",
    "% achieved : set {1 ,... , n } is partitioned into r subsets .\n",
    "\n",
    ":- in (I , K ) , in (J , K ) , in ( I +J , K ).\n",
    "% achieved : the subsets are sum - free."
   ]
  },
  {
   "cell_type": "code",
   "execution_count": null,
   "metadata": {
    "scrolled": true
   },
   "outputs": [],
   "source": [
    "!clingo ./ch3-files/ex-3-9.lp -c r=5 -c n=130"
   ]
  },
  {
   "cell_type": "markdown",
   "metadata": {},
   "source": [
    "**Exercise 3.10**"
   ]
  },
  {
   "cell_type": "markdown",
   "metadata": {},
   "source": [
    "About a set of numbers we say that it contains an arithmetic progression\n",
    "of length 3 if it has three different elements a, b, c such that c - b = b - a. We would like\n",
    "to write a clingo program that partitions {1, . . . , n} into r subsets that DO NOT contain\n",
    "arithmetic progressions of length 3, if this is possible. What rule would you place in Line 11\n",
    "of Listing 3.7 to get this result?"
   ]
  },
  {
   "cell_type": "code",
   "execution_count": null,
   "metadata": {},
   "outputs": [],
   "source": [
    "%%file ./ch3-files/ex-3-10.lp\n",
    "% Partition {1, ..., n} into r subsets that do not contain\n",
    "% arithmetic progressions of length 3.\n",
    "\n",
    "% input : positive integers n, r.\n",
    "\n",
    "% in(I, J) means that I belongs to the J-th subset.\n",
    "\n",
    "{in(I, 1..r)} = 1 :- I = 1..n.\n",
    "% achieved : set{1 , ..., n} is partitioned into r subsets.\n",
    "\n",
    ":- in(A, I), in(B, I), in(C, I), A != B, B != C, C - B = B - A.\n",
    "% achieved : these subsets do not contain arithmetic\n",
    "% progressions of length 3.\n",
    "\n"
   ]
  },
  {
   "cell_type": "code",
   "execution_count": null,
   "metadata": {},
   "outputs": [],
   "source": [
    "!clingo ./ch3-files/ex-3-10.lp 0 -c n=5 -c r=2"
   ]
  },
  {
   "cell_type": "markdown",
   "metadata": {},
   "source": [
    "### Section 3.4"
   ]
  },
  {
   "cell_type": "markdown",
   "metadata": {},
   "source": [
    "<This cell is left intentionally blank>"
   ]
  },
  {
   "cell_type": "markdown",
   "metadata": {},
   "source": [
    "### Section 3.5"
   ]
  },
  {
   "cell_type": "markdown",
   "metadata": {},
   "source": [
    "**Exercise 3.11**"
   ]
  },
  {
   "cell_type": "markdown",
   "metadata": {},
   "source": [
    "Assuming that the length of the text `T` is `n` and the length of the pattern `P`\n",
    "is `k`, what is the number of stable models: \n",
    "\n",
    "(a) of the first rule of this program? \n",
    "\n",
    "(b) of the\n",
    "first two rules?"
   ]
  },
  {
   "cell_type": "markdown",
   "metadata": {},
   "source": [
    "Answer:\n",
    "\n",
    "(a) n^k ... k slots, n options/choices, n\\*n\\*n ... for each k, choose one of n t/2\n",
    "\n",
    "(b) Choose(n, n-k) ... sequence length n, subseq length k, choose n-k from n to be \"off\""
   ]
  },
  {
   "cell_type": "code",
   "execution_count": null,
   "metadata": {},
   "outputs": [],
   "source": [
    "%%file ./ch3-files/ex-11.lp\n",
    "% Permutation pattern matching .\n",
    "\n",
    "% input : for some permutation T of 1 ,... , n , the set t /2 of\n",
    "% pairs (I , E ) such that E is the I - th element of T ;\n",
    "% for some permutation P of 1 ,... , k , the set p /2 of\n",
    "% pairs (I , E ) such that E is the I - th element of P ;\n",
    "% the length k of P .\n",
    "\n",
    "{ subseq (K ,I , E ) : t (I , E )} = 1 :- K = 1.. k .\n",
    "% achieved : for some functions i , e from {1 ,... , k } to\n",
    "% {1 ,... , n } , the numbers e (1) ,... , e ( k ) are the\n",
    "% elements of T in positions i (1) ,... , i ( k ).\n",
    "\n",
    "I1 < I2 :- subseq ( K1 , I1 , _ ) , subseq ( K2 , I2 , _ ) , K1 < K2 .\n",
    "% achieved : e (1) ,... , e ( k ) is a subsequence of T .\n",
    "\n",
    "EP1 < EP2 :- subseq ( K1 ,_ , ET1 ) , subseq ( K2 ,_ , ET2 ) ,\n",
    "p ( K1 , EP1 ) , p ( K2 , EP2 ) , ET1 < ET2 .\n",
    "% achieved : this subsequence is ordered according to P .\n",
    "\n",
    "subseq ( E ) :- subseq (_ ,_ , E ).\n",
    "% achieved : subseq /1 = { e (1) ,... , e ( k )}.\n",
    "\n",
    "#show subseq/1."
   ]
  },
  {
   "cell_type": "code",
   "execution_count": null,
   "metadata": {},
   "outputs": [],
   "source": [
    "%%file ./ch3-files/ex-11a.lp\n",
    "% T = (5 ,3 ,1 ,4 ,2), n=5, P = (2 ,3 ,1), k=3.\n",
    "\n",
    "t (1 ,5; 2 ,3; 3 ,1; 4 ,4; 5 ,2).\n",
    "p (1 ,2; 2 ,3; 3 ,1).\n",
    "\n",
    "#const k=3."
   ]
  },
  {
   "cell_type": "code",
   "execution_count": null,
   "metadata": {
    "scrolled": true
   },
   "outputs": [],
   "source": [
    "!clingo ./ch3-files/ex-11.lp ./ch3-files/ex-11a.lp 0"
   ]
  },
  {
   "cell_type": "markdown",
   "metadata": {},
   "source": [
    "### Section 3.6"
   ]
  },
  {
   "cell_type": "markdown",
   "metadata": {},
   "source": [
    "**Exercise 3.12**"
   ]
  },
  {
   "cell_type": "markdown",
   "metadata": {},
   "source": [
    "What is the number of stable models of the program in Lines 1–14 of\n",
    "Listing 3.10?"
   ]
  },
  {
   "cell_type": "markdown",
   "metadata": {},
   "source": [
    "Answer: \n",
    "\n",
    "Line 1 give us 2 ** (n * choose(s, 2)) ... for each n, for each choose(s,2), there are 2 choices ... n * 2 distinct unordered s slots, 2 choices\n",
    "\n",
    "Line 2 give us ..?"
   ]
  },
  {
   "cell_type": "code",
   "execution_count": null,
   "metadata": {},
   "outputs": [],
   "source": [
    "%%file ./ch3-files/ex-12.lp\n",
    "% Construct a sequence covering array of strength 3 and size n for symbols 1 ,... s .\n",
    "% input : positive integers n , s .\n",
    "\n",
    "{ hb (N ,X , Y ); hb (N ,Y , X )} = 1 :- N = 1.. n , X = 1.. s , Y = 1.. s , X != Y .\n",
    "% For every row N , let hb_N be the binary relation on the set\n",
    "% of symbols defined by the condition : X hb_N Y iff hb (N ,X , Y ).\n",
    "% achieved : each relation hb_N is irreflexive ; each pair of\n",
    "% distinct symbols satisfies either X hb_N Y or Y hb_N X .\n",
    "\n",
    ":- hb (N ,X , Y ) , hb (N ,Y , Z ) , not hb (N ,X , Z ).\n",
    "% achieved : each relation hb_N is transitive .\n",
    "\n",
    "    \n",
    "    \n"
   ]
  },
  {
   "cell_type": "code",
   "execution_count": null,
   "metadata": {
    "scrolled": true
   },
   "outputs": [],
   "source": [
    "!clingo ./ch3-files/ex-12.lp 0 -c s=3 -c n=4"
   ]
  },
  {
   "cell_type": "markdown",
   "metadata": {},
   "source": [
    "### Section 3.7"
   ]
  },
  {
   "cell_type": "markdown",
   "metadata": {},
   "source": [
    "### Section 3.8"
   ]
  },
  {
   "cell_type": "markdown",
   "metadata": {},
   "source": [
    "**Exercise 3.13**"
   ]
  },
  {
   "cell_type": "markdown",
   "metadata": {},
   "source": [
    "In the exact cover problem, we are given a list of finite sets, and the\n",
    "goal is to find a part of the list such that its members are pairwise disjoint, and their union\n",
    "is the same as the union of the entire list. What rules would you place in Lines 13, 16, 19\n",
    "of Listing 3.15 to get a clingo program that finds a solution, if it exists?"
   ]
  },
  {
   "cell_type": "markdown",
   "metadata": {},
   "source": [
    "Answer:"
   ]
  },
  {
   "cell_type": "code",
   "execution_count": 63,
   "metadata": {},
   "outputs": [
    {
     "name": "stdout",
     "output_type": "stream",
     "text": [
      "Overwriting ./ch3-files/ex-13.lp\n"
     ]
    }
   ],
   "source": [
    "%%file ./ch3-files/ex-13.lp\n",
    "% Given a list of finite sets , find a part of the list\n",
    "% such that its members are pairwise disjoint and their\n",
    "% union is the same as the union of the entire list .\n",
    "\n",
    "% input : for a list S_1 ,... , S_n of sets , its length n and\n",
    "% the set s /2 of pairs X , I such that X is in S_I .\n",
    "\n",
    "% in ( I ) means that set S_I is included in the solution .\n",
    "\n",
    "{ in (1.. n )}.\n",
    "% achieved : several members of the list are chosen .\n",
    "\n",
    ":- in(I1), in(I2), s(X, I1), s(X, I2), I1 != I2.\n",
    "% achieved : the chosen sets are pairwise disjoint .\n",
    "\n",
    "covered(X) :- in(I), s(X, I).\n",
    "% achieved : covered /1 is the union of the chosen sets .\n",
    "\n",
    ":- s(X, _), not covered(X).\n",
    "% achieved : the union of the chosen sets is the same as\n",
    "% the union of the entire list .\n",
    "\n",
    "#show in/1."
   ]
  },
  {
   "cell_type": "code",
   "execution_count": 64,
   "metadata": {},
   "outputs": [
    {
     "name": "stdout",
     "output_type": "stream",
     "text": [
      "Overwriting ./ch3-files/ex-13-inp.lp\n"
     ]
    }
   ],
   "source": [
    "%%file ./ch3-files/ex-13-inp.lp\n",
    "s(2, 1).\n",
    "s(3, 2).\n",
    "#const n=2."
   ]
  },
  {
   "cell_type": "code",
   "execution_count": 65,
   "metadata": {},
   "outputs": [
    {
     "name": "stdout",
     "output_type": "stream",
     "text": [
      "clingo version 5.4.0\r\n",
      "Reading from ./ch3-files/ex-13.lp ...\r\n",
      "Solving...\r\n",
      "Answer: 1\r\n",
      "in(1) in(2)\r\n",
      "SATISFIABLE\r\n",
      "\r\n",
      "Models       : 1\r\n",
      "Calls        : 1\r\n",
      "Time         : 0.001s (Solving: 0.00s 1st Model: 0.00s Unsat: 0.00s)\r\n",
      "CPU Time     : 0.001s\r\n"
     ]
    }
   ],
   "source": [
    "!clingo ./ch3-files/ex-13.lp ./ch3-files/ex-13-inp.lp 0"
   ]
  },
  {
   "cell_type": "markdown",
   "metadata": {},
   "source": [
    "### Section 3.9"
   ]
  },
  {
   "cell_type": "markdown",
   "metadata": {},
   "source": [
    "**Exercise 3.14**"
   ]
  },
  {
   "cell_type": "markdown",
   "metadata": {},
   "source": [
    "A vertex cover of a graph is a set of vertices such that every edge of the\n",
    "graph has at least one endpoint in that set. We would like to find a vertex cover of size n,\n",
    "if it exists. What rules would you place in Lines 6, 9, 10, 14 of Listing 3.17 to get a clingo\n",
    "program that produces this result?"
   ]
  },
  {
   "cell_type": "code",
   "execution_count": null,
   "metadata": {},
   "outputs": [],
   "source": [
    "%%file ./ch3-files/ex-14.lp\n",
    "% Vertex cover of size n .\n",
    "\n",
    "% input : set vertex /1 of vertices of a graph G ;\n",
    "% set edge /2 of edges of G ; positive integer n .\n",
    "\n",
    "6 _ _ _ _ _ _ _ _ _ _ _ _ _ _ _ _ _ _ _ _ _ _ _ _ _ _ _ _ _ _ _ _ _ _ _ _ _ _ _ _ _ _ _ _ _ _ _ _ _ _ _ _ _ _ _ _\n",
    "% achieved : in /1 is a set consisting of n vertices of G .\n",
    "\n",
    "9 _ _ _ _ _ _ _ _ _ _ _ _ _ _ _ _ _ _ _ _ _ _ _ _ _ _ _ _ _ _ _ _ _ _ _ _ _ _ _ _ _ _ _ _ _ _ _ _ _ _ _ _ _ _ _ _\n",
    "10 _ _ _ _ _ _ _ _ _ _ _ _ _ _ _ _ _ _ _ _ _ _ _ _ _ _ _ _ _ _ _ _ _ _ _ _ _ _ _ _ _ _ _ _ _ _ _ _ _ _ _ _ _ _ _ _\n",
    "% achieved : covered /2 is the set of edges of G that have\n",
    "% an endpoint in in /1.\n",
    "\n",
    "14 _ _ _ _ _ _ _ _ _ _ _ _ _ _ _ _ _ _ _ _ _ _ _ _ _ _ _ _ _ _ _ _ _ _ _ _ _ _ _ _ _ _ _ _ _ _ _ _ _ _ _ _ _ _ _ _\n",
    "% achieved : every edge of G is in covered /2.\n",
    "\n",
    "#show in/1."
   ]
  }
 ],
 "metadata": {
  "kernelspec": {
   "display_name": "Python 3 (ipykernel)",
   "language": "python",
   "name": "python3"
  },
  "language_info": {
   "codemirror_mode": {
    "name": "ipython",
    "version": 3
   },
   "file_extension": ".py",
   "mimetype": "text/x-python",
   "name": "python",
   "nbconvert_exporter": "python",
   "pygments_lexer": "ipython3",
   "version": "3.8.10"
  }
 },
 "nbformat": 4,
 "nbformat_minor": 4
}
