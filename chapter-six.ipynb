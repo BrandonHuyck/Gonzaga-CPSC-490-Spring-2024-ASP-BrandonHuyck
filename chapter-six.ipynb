{
 "cells": [
  {
   "cell_type": "markdown",
   "metadata": {},
   "source": [
    "# Chapter 6"
   ]
  },
  {
   "cell_type": "markdown",
   "metadata": {},
   "source": [
    "### Section 6.1 -- Counting"
   ]
  },
  {
   "cell_type": "markdown",
   "metadata": {},
   "source": [
    "**Exercise 6.1**"
   ]
  },
  {
   "cell_type": "markdown",
   "metadata": {},
   "source": [
    "The choice rule\n",
    "`{in(1..n)} = m.`\n",
    " can be replaced by the combination\n",
    "of the rule\n",
    "`{in(1..n)}.`\n",
    "with a constraint. What constraint is that?"
   ]
  },
  {
   "cell_type": "markdown",
   "metadata": {},
   "source": [
    "Answer: `#count{X : in(X)} = m :- .`"
   ]
  },
  {
   "cell_type": "markdown",
   "metadata": {},
   "source": [
    "**Exercise 6.2**"
   ]
  },
  {
   "cell_type": "markdown",
   "metadata": {},
   "source": [
    "We would like to write a clingo program that calculates the number of\n",
    "classes taught today on each floor of a classroom building. What rule would you place in\n",
    "Line 6 of Listing 6.1?"
   ]
  },
  {
   "cell_type": "code",
   "execution_count": 36,
   "metadata": {},
   "outputs": [
    {
     "name": "stdout",
     "output_type": "stream",
     "text": [
      "Overwriting ./ch6-files/ex2.lp\n"
     ]
    }
   ],
   "source": [
    "%%file ./ch6-files/ex2.lp\n",
    "% Number of classes taught on each floor .\n",
    "\n",
    "% input : number k of floors; set where/2 of all pairs (c, i)\n",
    "% such that class c is taught on the i-th floor.\n",
    "\n",
    "howmany(I, N) :- I=1..k, N = #count{C : where(C, I)}.\n",
    "% howmany(I, N) :- where(_, I), N = #count{C : where(C, I)}.\n",
    "% achieved : howmany(I, N) iff the number of classes taught\n",
    "% on the I-th floor is N.\n",
    "\n",
    "#show howmany/2."
   ]
  },
  {
   "cell_type": "code",
   "execution_count": 37,
   "metadata": {},
   "outputs": [
    {
     "name": "stdout",
     "output_type": "stream",
     "text": [
      "Overwriting ./ch6-files/ex2.inp\n"
     ]
    }
   ],
   "source": [
    "%%file ./ch6-files/ex2.inp\n",
    "where(a, 1).\n",
    "where(b, 1).\n",
    "where(c, 2).\n",
    "where(d, 2).\n",
    "where(e, 2).\n",
    "#const k=3."
   ]
  },
  {
   "cell_type": "code",
   "execution_count": 38,
   "metadata": {},
   "outputs": [
    {
     "name": "stdout",
     "output_type": "stream",
     "text": [
      "clingo version 5.4.0\r\n",
      "Reading from ./ch6-files/ex2.inp ...\r\n",
      "Solving...\r\n",
      "Answer: 1\r\n",
      "howmany(1,2) howmany(2,3) howmany(3,0)\r\n",
      "SATISFIABLE\r\n",
      "\r\n",
      "Models       : 1\r\n",
      "Calls        : 1\r\n",
      "Time         : 0.001s (Solving: 0.00s 1st Model: 0.00s Unsat: 0.00s)\r\n",
      "CPU Time     : 0.001s\r\n"
     ]
    }
   ],
   "source": [
    "!clingo ./ch6-files/ex2.*"
   ]
  },
  {
   "cell_type": "markdown",
   "metadata": {},
   "source": [
    "**Exercise 6.3**"
   ]
  },
  {
   "cell_type": "markdown",
   "metadata": {},
   "source": [
    "Rule (1.1) `large(C) :- size(C,S1), size(uk,S2), S1 > S2.` defines a large country as a country inhabited by more people\n",
    "than the United Kingdom. How will you modify that rule if “large country” is understood\n",
    "as a country with a population that places it\n",
    "(i) among the top k countries on the given list?\n",
    "(ii) in the top half of the countries on the given list?"
   ]
  },
  {
   "cell_type": "markdown",
   "metadata": {},
   "source": [
    "Answer:\n",
    "\n",
    "`large(C) :- size(C, _), #count{C1 : size(C,P), size(C1, P1), P1 > P} < k.`\n",
    "\n",
    "or\n",
    "\n",
    "```\n",
    "large(C) :- size(C, _), #count{C1 : size(C,P), size(C1, P1), P1 > P} < N,\n",
    "                        #count{C2 : size(C2,_)}/2 = N.\n",
    "```"
   ]
  },
  {
   "cell_type": "markdown",
   "metadata": {},
   "source": [
    "### Section 6.2 -- Summation"
   ]
  },
  {
   "cell_type": "markdown",
   "metadata": {},
   "source": [
    "**Exercise 6.4**"
   ]
  },
  {
   "cell_type": "markdown",
   "metadata": {},
   "source": [
    "What is the stable model of the program\n",
    "```\n",
    "p(N) :- N = #sum{X*X : X = -1..1}.\n",
    "q(N) :- N = #sum{X*X, X : X = -1..1}.\n",
    "```\n",
    "in your opinion?"
   ]
  },
  {
   "cell_type": "markdown",
   "metadata": {},
   "source": [
    "Answer: `p(1). q(2).`"
   ]
  },
  {
   "cell_type": "markdown",
   "metadata": {},
   "source": [
    "**Exercise 6.5**"
   ]
  },
  {
   "cell_type": "markdown",
   "metadata": {},
   "source": [
    "Simplify the aggregate expression `#sum{1,X : p(X)}`."
   ]
  },
  {
   "cell_type": "markdown",
   "metadata": {},
   "source": [
    "Answer: `#count{X : p(X)`"
   ]
  },
  {
   "cell_type": "markdown",
   "metadata": {},
   "source": [
    "**Exercise 6.6**"
   ]
  },
  {
   "cell_type": "markdown",
   "metadata": {},
   "source": [
    "A magic square of size `n` is an `n×n` square grid filled with distinct integers\n",
    "in the range `1, . . . , n**2` so that the sum of numbers in each row, each column, and each of\n",
    "the two diagonals equals the same “magic constant.” It is clear that the value of the magic\n",
    "constant is determined by the size of the square: it is `(1 + 2 + · · · + n**2)/n`, which equals\n",
    "`(n + n**3)/2`. We would like to write a clingo program that generates all magic squares\n",
    "of a given size. The rules in `Lines 5 and 9` of `Listing 6.3` are the same as in `Listing 3.21`\n",
    "(page 55). What rules would you place in `Lines 14, 17, 20, 21`?"
   ]
  },
  {
   "cell_type": "code",
   "execution_count": 24,
   "metadata": {},
   "outputs": [
    {
     "name": "stdout",
     "output_type": "stream",
     "text": [
      "Overwriting ./ch6-files/ex6.lp\n"
     ]
    }
   ],
   "source": [
    "%%file ./ch6-files/ex6.lp\n",
    "% Listing 6.3\n",
    "% Magic squares of size n\n",
    "\n",
    "#const n=4.\n",
    "% input : positive integer n.\n",
    "\n",
    "{ filled (R, C, 1..n*n) } = 1 :- R = 1..n, C = 1..n.\n",
    "% achieved : every square of the grid is filled with a number\n",
    "% between 1 and n**2.\n",
    "\n",
    ":- not filled(_, _, X), X = 1..n*n.\n",
    "% achieved : every number between 1 and n**2 is included.\n",
    "\n",
    "#const magic = ( n**3 + n ) / 2.\n",
    "\n",
    ":- R = 1..n, #sum{ X : filled(R, _, X) } != magic.\n",
    "% achieved : every row sums up to magic.\n",
    "\n",
    ":- C = 1..n, #sum{ X : filled(_, C, X) } != magic.\n",
    "% achieved : every column sums up to magic.\n",
    "\n",
    ":- #sum{ X : filled(I, I, X) } != magic.\n",
    ":- #sum{ X : filled(I, n-I+1, X) } != magic.\n",
    "% achieved : both diagonals sum up to magic."
   ]
  },
  {
   "cell_type": "code",
   "execution_count": 25,
   "metadata": {},
   "outputs": [
    {
     "name": "stdout",
     "output_type": "stream",
     "text": [
      "clingo version 5.4.0\n",
      "Reading from ./ch6-files/ex6.lp\n",
      "Solving...\n",
      "Answer: 1\n",
      "filled(1,1,13) filled(1,2,15) filled(1,3,4) filled(1,4,2) filled(2,1,8) filled(2,2,3) filled(2,3,14) filled(2,4,9) filled(3,1,1) filled(3,2,6) filled(3,3,11) filled(3,4,16) filled(4,1,12) filled(4,2,10) filled(4,3,5) filled(4,4,7)\n",
      "SATISFIABLE\n",
      "\n",
      "Models       : 1+\n",
      "Calls        : 1\n",
      "Time         : 0.358s (Solving: 0.35s 1st Model: 0.35s Unsat: 0.00s)\n",
      "CPU Time     : 0.358s\n"
     ]
    }
   ],
   "source": [
    "!clingo ./ch6-files/ex6.lp"
   ]
  },
  {
   "cell_type": "markdown",
   "metadata": {},
   "source": [
    "### Section 6.3 -- Min and Max"
   ]
  },
  {
   "cell_type": "markdown",
   "metadata": {},
   "source": [
    "**Exercise 6.7**"
   ]
  },
  {
   "cell_type": "markdown",
   "metadata": {},
   "source": [
    "Adding the constraint\n",
    "`:- not p(_).`\n",
    "to a clingo program eliminates the stable models in which the set p/1 is empty (Sec-\n",
    "tion 2.8). Find constraints with the same property that use, instead of an anonymous\n",
    "variable, (a) the aggregate #count, (b) the aggregate #max, (c) the aggregate #min."
   ]
  },
  {
   "cell_type": "markdown",
   "metadata": {},
   "source": [
    "Answer:\n",
    " - `:- #count{ X : p(X) } = 0.`\n",
    " - `:- #max{ X : p(X) } = #inf.` \n",
    " - `:- #min{ X : p(X) } = #sup.` "
   ]
  },
  {
   "cell_type": "code",
   "execution_count": 34,
   "metadata": {},
   "outputs": [
    {
     "name": "stdout",
     "output_type": "stream",
     "text": [
      "Overwriting ./ch6-files/ex7.lp\n"
     ]
    }
   ],
   "source": [
    "%%file ./ch6-files/ex7.lp\n",
    "{p(1..2)}.\n",
    "\n",
    "%:- #count{ X : p(X) } = 0.\n",
    "%:- #max{ X : p(X) } = #inf.\n",
    "%:- #min{ X : p(X) } = #sup."
   ]
  },
  {
   "cell_type": "code",
   "execution_count": 35,
   "metadata": {},
   "outputs": [
    {
     "name": "stdout",
     "output_type": "stream",
     "text": [
      "clingo version 5.4.0\r\n",
      "Reading from ./ch6-files/ex7.lp\r\n",
      "Solving...\r\n",
      "Answer: 1\r\n",
      "p(2)\r\n",
      "Answer: 2\r\n",
      "p(1)\r\n",
      "Answer: 3\r\n",
      "p(1) p(2)\r\n",
      "SATISFIABLE\r\n",
      "\r\n",
      "Models       : 3\r\n",
      "Calls        : 1\r\n",
      "Time         : 0.001s (Solving: 0.00s 1st Model: 0.00s Unsat: 0.00s)\r\n",
      "CPU Time     : 0.001s\r\n"
     ]
    }
   ],
   "source": [
    "!clingo ./ch6-files/ex7.lp 0"
   ]
  },
  {
   "cell_type": "markdown",
   "metadata": {},
   "source": [
    "**Exercise 6.8**"
   ]
  },
  {
   "cell_type": "markdown",
   "metadata": {},
   "source": [
    "The program from Exercise 6.2 (page 116) determines the number of classes\n",
    "taught on each floor of a building using two pieces of information: the number k of floors\n",
    "and the set of pairs (c, i) such that class c is taught on floor i. Under the assumption that\n",
    "at least one class is taught on the top floor, there is no need to include the value of k in the\n",
    "input. Under this assumption, what rule will you place in Line 6 of Listing 6.1 if the value\n",
    "of k is not given?"
   ]
  },
  {
   "cell_type": "markdown",
   "metadata": {},
   "source": [
    "Answer: `howmany(I, N) :- I=1..k, N = #count{C : where(C, I)}.` becomes\n",
    "\n",
    "`howmany(I, N) :- I = 1..#max{ K : where(_, K) }, N = #count{C : where(C, I)}.`"
   ]
  },
  {
   "cell_type": "markdown",
   "metadata": {},
   "source": [
    "### Section 6.4 -- Optimization"
   ]
  },
  {
   "cell_type": "markdown",
   "metadata": {},
   "source": [
    "**Exercise 6.9**"
   ]
  },
  {
   "cell_type": "markdown",
   "metadata": {},
   "source": [
    "We would like to restrict not only the total weight of the selected items, but\n",
    "also their combined volume. The set volume/2 consists of the pairs (i, vol ) such that vol is\n",
    "the volume of item i; maxvolume is the upper bound on the combined volume. How would\n",
    "you modify the program in Listing 6.5 to encode this enhancement of the basic knapsack\n",
    "problem?"
   ]
  },
  {
   "cell_type": "markdown",
   "metadata": {},
   "source": [
    "Answer: Add a `maxvolume` constraint that is structured indentically to maxweight\n",
    "    \n",
    "```\n",
    ":- #sum{ M , I : in ( I ) , volume ( I , M ) } > maxvolume.\n",
    "% achieved : the total volume of items in this subset doesn ’ t\n",
    "% exceed maxvolume .\n",
    "```"
   ]
  },
  {
   "cell_type": "code",
   "execution_count": null,
   "metadata": {},
   "outputs": [],
   "source": [
    "% Listing 6.5, for reference\n",
    "1 % Knapsack problem .\n",
    "2\n",
    "3 % input : set weight /3 of pairs (i , w ) such that w is the weight\n",
    "4 % of item 1; set value /3 of pairs (i , v ) such that v is\n",
    "5 % the value of item i ; limit maxweight on the total\n",
    "6 % weight .\n",
    "7\n",
    "8 { in ( I ) } :- weight (I , W ).\n",
    "9 % achieved : in /1 is a subset of the set of items .\n",
    "10\n",
    "11 : - # sum {W , I : in ( I ) , weight (I , W )} > maxweight .\n",
    "12 % achieved : the total weight of items in this subset doesn ’ t\n",
    "13 % exceed maxweight .\n",
    "14\n",
    "15 % optimize the selection .\n",
    "16 # maximize {V , I : in ( I ) , value (I , V )}.\n",
    "17\n",
    "18 # show in /1."
   ]
  },
  {
   "cell_type": "markdown",
   "metadata": {},
   "source": [
    "**Exercise 6.10**"
   ]
  },
  {
   "cell_type": "markdown",
   "metadata": {},
   "source": [
    "In the “unbounded” version of the knapsack problem, an unlimited\n",
    "number of copies of each kind of item is available. What rules would you place in Lines 10\n",
    "and 15 of Listing 6.6, and what directive in Line 20, to solve this version of the problem?"
   ]
  },
  {
   "cell_type": "code",
   "execution_count": 41,
   "metadata": {},
   "outputs": [
    {
     "name": "stdout",
     "output_type": "stream",
     "text": [
      "Writing ./ch6-files/ex10.lp\n"
     ]
    }
   ],
   "source": [
    "%%file ./ch6-files/ex10.lp\n",
    "% Listing 6.6: Unbounded knapsack problem (Exercise 6.10)\n",
    "% Unbounded knapsack problem .\n",
    "\n",
    "% input : set weight /3 of pairs (i , w ) such that w is the weight\n",
    "% of item 1; set value /3 of pairs (i , v ) such that v is\n",
    "% the value of item i ; limit maxweight on the total\n",
    "% weight .\n",
    "\n",
    "% in (I , N ) means that N copies of item I are selected .\n",
    "\n",
    "{ in(I, N) : N=1..maxweight } :- weight(I, W).\n",
    ":- in(I, N), weight(I, W),  W*N > maxweight.\n",
    "% achieved : in /2 is a set of pairs (i , n ) such that i is an item\n",
    "% and n is a nonnegative integer such that the\n",
    "% weight of n copies of i doesn ’ t exceed maxweight .\n",
    "\n",
    ":- #sum{ W*N, I : in(I, N), weight(I, W) } > maxweight.\n",
    "% achieved : the total weight of selected items doesn ’ t exceed\n",
    "% maxweight .\n",
    "\n",
    "% optimize the selection .\n",
    "#maximize{ V*N, I : in(I, N), value(I, V) }.\n",
    "\n",
    "#show in/2."
   ]
  },
  {
   "cell_type": "markdown",
   "metadata": {},
   "source": [
    "**Exercise 6.11**"
   ]
  },
  {
   "cell_type": "markdown",
   "metadata": {},
   "source": [
    "We would like to solve the optimization version of the set packing problem\n",
    "(Section 3.8), which calls for finding the largest possible number of pairwise disjoint members\n",
    "of a given list of finite sets. What directive would you place in Line 16 of Listing 6.8?"
   ]
  },
  {
   "cell_type": "code",
   "execution_count": null,
   "metadata": {},
   "outputs": [],
   "source": [
    "% Listing 6.8: Optimization version of set packing (Exercise 6.11)\n",
    "% Find the largest possible number of pairwise disjoint\n",
    "% members of a given list of finite sets .\n",
    "\n",
    "% input : for a list S_1 ,... , S_n of sets , its length n and\n",
    "% the set s /2 of pairs X , I such that X is in S_I .\n",
    "\n",
    "% in ( I ) means that set S_I is included in the solution .\n",
    "\n",
    "{ in(1..n) }.\n",
    "% achieved : in /1 is a set of members of the list .\n",
    "\n",
    "I = J :- in ( I ) , in ( J ) , s (X , I ) , s (X , J ).\n",
    "% achieved : the chosen sets are pairwise disjoint .\n",
    "\n",
    "% maximize the number of chosen sets\n",
    "#maximize{ 1, I : in(I) }.\n",
    "\n",
    "#show in/1."
   ]
  },
  {
   "cell_type": "markdown",
   "metadata": {},
   "source": [
    "**Exercise 6.12**"
   ]
  },
  {
   "cell_type": "markdown",
   "metadata": {},
   "source": [
    "Recall that a clique in a graph is a subset of its vertices such that every\n",
    "two distinct vertices in it are adjacent (Section 3.9). We would like to write a clingo\n",
    "program that finds the largest clique in a given graph. What rule would you place in Line 6\n",
    "of Listing 6.9, and what directive in Line 13, to achieve this goal?"
   ]
  },
  {
   "cell_type": "code",
   "execution_count": null,
   "metadata": {},
   "outputs": [],
   "source": [
    "% Listing 6.9: The largest clique (Exercise 6.12)\n",
    "% Find the largest clique .\n",
    "\n",
    "% input : set vertex /1 of vertices of a graph G ;\n",
    "% set edge /2 of edges of G .\n",
    "\n",
    "{ in(I) : vertex(I) }.\n",
    "% achieved : in /1 is a set of vertices of G .\n",
    "\n",
    "X = Y :- in ( X ) , in ( Y ) , not edge (X , Y ) , not edge (Y , X ).\n",
    "% achieved : in /1 is a clique .\n",
    "\n",
    "% maximize the size of the clique .\n",
    "#maximize{ 1, I : in(I) }.\n",
    "\n",
    "#show in/1."
   ]
  },
  {
   "cell_type": "markdown",
   "metadata": {},
   "source": [
    "**Exercise 6.13**"
   ]
  },
  {
   "cell_type": "markdown",
   "metadata": {},
   "source": [
    "Research papers submitted to a technical conference are reviewed by the\n",
    "conference program committee. Every paper is read and discussed by a group of committee\n",
    "members chosen by the chair of the committee, and this group decides if the paper can be\n",
    "accepted for presentation. To help the chair find a good match between papers and referees,\n",
    "every committee member submits a bid that classifies all papers that need to be reviewed\n",
    "into three categories: “yes” (I want to review this paper), “maybe” (I do not mind reviewing\n",
    "it), and “no” (do not assign it to me). We would like to write a program for clingo that\n",
    "automates this part of the work of the chair. Using a list of bids, it should assign each\n",
    "submitted paper for review to a specific number k of committee members so that\n",
    "- the workloads of committee members are approximately equal—do not differ by more\n",
    "than 1;\n",
    "- no committee member is asked to review a submission that he placed in the “no”\n",
    "group;\n",
    "- the total number of cases when a submission is assigned to a reviewer who placed it\n",
    "in the “yes” group is as large as possible.\n",
    "\n",
    "What rules would you place in Lines 7, 11, 17, 22, and 26 of Listing 6.10, and what directive\n",
    "in Line 31, to achieve this goal?"
   ]
  },
  {
   "cell_type": "code",
   "execution_count": null,
   "metadata": {},
   "outputs": [],
   "source": [
    "% Listing 6.10: Assigning papers to referees (Exercise 6.13)\n",
    "% Assigning papers to referees .\n",
    "\n",
    "% input : set bid /3 of triples (r ,p , b ) such that b is bid\n",
    "% (\" yes \" , \" no \" , or \" maybe \") submitted by referee r\n",
    "% for paper p ; positive integer k .\n",
    "\n",
    "referee(R) :- bid(R, _, _).\n",
    "% achieved : referee /1 is the set of referees who submitted\n",
    "% bids .\n",
    "\n",
    "paper(P) :- bid(_, P, _). % do we need these /1s? Yes, bc w/o the next line would be for each bid not each paper?\n",
    "% achieved : paper /1 is the set of papers for which bids are\n",
    "% submitted .\n",
    "\n",
    "% review (R , P ) means that paper P is assigned to referee R .\n",
    "\n",
    "{ review(R, P) : not bid(R, P, no) } = k :- paper(P). % use of not correct??\n",
    "% achieved : for every paper P there are exactly k referees R\n",
    "% such that review (R , P ); the bids submitted by\n",
    "% these referees for P are different from \" no \".\n",
    "\n",
    "workload(R, N) :- referee(R), N = #count{ P : review(R, P) }. % count just P correct? P vs P,R is indifferent\n",
    "% achieved : workload (R , N ) iff N is the number of papers\n",
    "% assigned for review to referee R .\n",
    "\n",
    ":- workload(R1, N1), workload(R2, N2), |N1-N2| > 1. % R1/R2 don't have to be distinct\n",
    "% achieved : the difference between the workloads of\n",
    "% referees is at most 1.\n",
    "\n",
    "% maximize the number of \" yes \" cases .\n",
    "#maximize{ 1, yes : review(R, P), bid(R, P, yes) }.\n",
    "\n",
    "#show review/2."
   ]
  },
  {
   "cell_type": "markdown",
   "metadata": {},
   "source": [
    "### Sections 6.5 - EOC Notes"
   ]
  },
  {
   "cell_type": "code",
   "execution_count": 1,
   "metadata": {},
   "outputs": [
    {
     "name": "stdout",
     "output_type": "stream",
     "text": [
      "Writing ./ch6-files/ex14.lp\n"
     ]
    }
   ],
   "source": [
    "%%file ./ch6-files/ex14.lp\n",
    "{p}.\n",
    "q :- not p.\n",
    "r :- -p."
   ]
  },
  {
   "cell_type": "code",
   "execution_count": 3,
   "metadata": {},
   "outputs": [
    {
     "name": "stdout",
     "output_type": "stream",
     "text": [
      "clingo version 5.4.0\r\n",
      "Reading from ./ch6-files/ex14.lp\r\n",
      "./ch6-files/ex14.lp:3:6-8: info: atom does not occur in any rule head:\r\n",
      "  -p\r\n",
      "\r\n",
      "Solving...\r\n",
      "Answer: 1\r\n",
      "q\r\n",
      "Answer: 2\r\n",
      "p\r\n",
      "SATISFIABLE\r\n",
      "\r\n",
      "Models       : 2\r\n",
      "Calls        : 1\r\n",
      "Time         : 0.001s (Solving: 0.00s 1st Model: 0.00s Unsat: 0.00s)\r\n",
      "CPU Time     : 0.001s\r\n"
     ]
    }
   ],
   "source": [
    "!clingo ./ch6-files/ex14.lp 0"
   ]
  },
  {
   "cell_type": "code",
   "execution_count": 4,
   "metadata": {},
   "outputs": [
    {
     "name": "stdout",
     "output_type": "stream",
     "text": [
      "Writing ./ch6-files/ex14b.lp\n"
     ]
    }
   ],
   "source": [
    "%%file ./ch6-files/ex14b.lp\n",
    "{p}.\n",
    "q.\n",
    "-q :- not p."
   ]
  },
  {
   "cell_type": "code",
   "execution_count": 5,
   "metadata": {},
   "outputs": [
    {
     "name": "stdout",
     "output_type": "stream",
     "text": [
      "clingo version 5.4.0\r\n",
      "Reading from ./ch6-files/ex14b.lp\r\n",
      "Solving...\r\n",
      "Answer: 1\r\n",
      "q p\r\n",
      "SATISFIABLE\r\n",
      "\r\n",
      "Models       : 1\r\n",
      "Calls        : 1\r\n",
      "Time         : 0.001s (Solving: 0.00s 1st Model: 0.00s Unsat: 0.00s)\r\n",
      "CPU Time     : 0.001s\r\n"
     ]
    }
   ],
   "source": [
    "!clingo ./ch6-files/ex14b.lp 0"
   ]
  },
  {
   "cell_type": "markdown",
   "metadata": {},
   "source": [
    "Question: `not` is what is unknown, and `-` is what is known to be false?"
   ]
  },
  {
   "cell_type": "code",
   "execution_count": 7,
   "metadata": {},
   "outputs": [
    {
     "name": "stdout",
     "output_type": "stream",
     "text": [
      "Overwriting ./ch6-files/ex16a.lp\n"
     ]
    }
   ],
   "source": [
    "%%file ./ch6-files/ex16a.lp\n",
    "p :- f(1,2) = 7."
   ]
  },
  {
   "cell_type": "code",
   "execution_count": 8,
   "metadata": {},
   "outputs": [
    {
     "name": "stdout",
     "output_type": "stream",
     "text": [
      "clingo version 5.4.0\r\n",
      "Reading from ./ch6-files/ex16a.lp\r\n",
      "Solving...\r\n",
      "Answer: 1\r\n",
      "\r\n",
      "SATISFIABLE\r\n",
      "\r\n",
      "Models       : 1\r\n",
      "Calls        : 1\r\n",
      "Time         : 0.001s (Solving: 0.00s 1st Model: 0.00s Unsat: 0.00s)\r\n",
      "CPU Time     : 0.001s\r\n"
     ]
    }
   ],
   "source": [
    "!clingo ./ch6-files/ex16a.lp"
   ]
  },
  {
   "cell_type": "code",
   "execution_count": null,
   "metadata": {},
   "outputs": [],
   "source": []
  }
 ],
 "metadata": {
  "kernelspec": {
   "display_name": "Python 3 (ipykernel)",
   "language": "python",
   "name": "python3"
  },
  "language_info": {
   "codemirror_mode": {
    "name": "ipython",
    "version": 3
   },
   "file_extension": ".py",
   "mimetype": "text/x-python",
   "name": "python",
   "nbconvert_exporter": "python",
   "pygments_lexer": "ipython3",
   "version": "3.8.10"
  }
 },
 "nbformat": 4,
 "nbformat_minor": 4
}
